{
 "cells": [
  {
   "cell_type": "code",
   "execution_count": 1,
   "id": "64b3cb4a",
   "metadata": {},
   "outputs": [],
   "source": [
    "import railtracks as rt\n",
    "from railtracks.llm.content import Stream \n",
    "\n",
    "llm = rt.llm.OpenAILLM(\"gpt-4o\", stream=True)\n",
    "\n",
    "mh = rt.llm.MessageHistory([rt.llm.UserMessage(\"give me a 50 word essay on LLMs\")])"
   ]
  },
  {
   "cell_type": "markdown",
   "id": "74194c1a",
   "metadata": {},
   "source": [
    "## LLM Module"
   ]
  },
  {
   "cell_type": "code",
   "execution_count": 2,
   "id": "c117c571",
   "metadata": {},
   "outputs": [],
   "source": [
    "response = llm.chat(messages=mh)"
   ]
  },
  {
   "cell_type": "code",
   "execution_count": 3,
   "id": "d9c86956",
   "metadata": {},
   "outputs": [
    {
     "name": "stdout",
     "output_type": "stream",
     "text": [
      "MessageInfo(input_tokens=18, output_tokens=64, latency=1.6669037342071533, model_name=gpt-4o-2024-08-06, total_cost=None, system_fingerprint=fp_df0f7b956c)\n"
     ]
    }
   ],
   "source": [
    "assert isinstance(response.message,  rt.llm.AssistantMessage)\n",
    "assert isinstance(response.message.content, Stream)\n",
    "\n",
    "print(response.message_info)\n"
   ]
  },
  {
   "cell_type": "code",
   "execution_count": 4,
   "id": "e8fd6110",
   "metadata": {},
   "outputs": [
    {
     "name": "stdout",
     "output_type": "stream",
     "text": [
      "\n",
      "Large\n",
      " Language\n",
      " Models\n",
      " (\n",
      "LL\n",
      "Ms\n",
      ")\n",
      " are\n",
      " advanced\n",
      " AI\n",
      " systems\n",
      " capable\n",
      " of\n",
      " understanding\n",
      " and\n",
      " generating\n",
      " human\n",
      "-like\n",
      " text\n",
      " by\n",
      " leveraging\n",
      " vast\n",
      " datasets\n",
      " and\n",
      " deep\n",
      " learning\n",
      " architectures\n",
      ".\n",
      " They\n",
      " revolution\n",
      "ize\n",
      " industries\n",
      " through\n",
      " applications\n",
      " in\n",
      " natural\n",
      " language\n",
      " processing\n",
      ",\n",
      " enhancing\n",
      " tasks\n",
      " like\n",
      " translation\n",
      ",\n",
      " sentiment\n",
      " analysis\n",
      ",\n",
      " and\n",
      " content\n",
      " creation\n",
      ",\n",
      " thereby\n",
      " bridging\n",
      " communication\n",
      " gaps\n",
      " and\n",
      " stream\n",
      "lining\n",
      " information\n",
      " processing\n",
      " across\n",
      " diverse\n",
      " fields\n",
      ".\n",
      "\n",
      "\n",
      "MessageInfo(input_tokens=18, output_tokens=64, latency=1.6669037342071533, model_name=gpt-4o-2024-08-06, total_cost=None, system_fingerprint=fp_df0f7b956c)\n"
     ]
    }
   ],
   "source": [
    "for chunk in response.message.content.streamer:\n",
    "    print(chunk)\n",
    "\n",
    "print(response.message_info)"
   ]
  },
  {
   "cell_type": "markdown",
   "id": "d6d62395",
   "metadata": {},
   "source": [
    "## Nodes\n"
   ]
  },
  {
   "cell_type": "code",
   "execution_count": 5,
   "id": "c6d14d17",
   "metadata": {},
   "outputs": [],
   "source": [
    "\n",
    "agent = rt.agent_node(\n",
    "    name=\"Simple Node\",\n",
    "    system_message=\"You are a helpful assistant.\",\n",
    "    llm_model=llm,\n",
    ")\n"
   ]
  },
  {
   "cell_type": "code",
   "execution_count": 6,
   "id": "cd7077cd",
   "metadata": {},
   "outputs": [
    {
     "name": "stderr",
     "output_type": "stream",
     "text": [
      "[+4.527  s] RT          : INFO     - START CREATED Simple Node\n",
      "[+6.156  s] RT          : INFO     - Simple Node DONE\n",
      "[+6.156  s] RT.Session  : INFO     - Saving execution info to .railtracks\\39044fd9-adcc-45dd-b940-769036ab48f6.json\n"
     ]
    }
   ],
   "source": [
    "response = await rt.call(agent, user_input=mh)"
   ]
  },
  {
   "cell_type": "code",
   "execution_count": 7,
   "id": "4ad71627",
   "metadata": {},
   "outputs": [
    {
     "name": "stdout",
     "output_type": "stream",
     "text": [
      "Large Language Models (LLMs) are advanced AI systems designed to understand and generate human-like text. They are trained on vast datasets and leverage deep learning techniques to perform tasks like translation, summarization, and question answering. LLMs revolutionize industries by enhancing productivity and offering unprecedented automation in language-related applications.\n"
     ]
    }
   ],
   "source": [
    "print(response.text)"
   ]
  },
  {
   "cell_type": "code",
   "execution_count": 8,
   "id": "bbf97597",
   "metadata": {},
   "outputs": [
    {
     "name": "stdout",
     "output_type": "stream",
     "text": [
      "\n",
      "Large\n",
      " Language\n",
      " Models\n",
      " (\n",
      "LL\n",
      "Ms\n",
      ")\n",
      " are\n",
      " advanced\n",
      " AI\n",
      " systems\n",
      " designed\n",
      " to\n",
      " understand\n",
      " and\n",
      " generate\n",
      " human\n",
      "-like\n",
      " text\n",
      ".\n",
      " They\n",
      " are\n",
      " trained\n",
      " on\n",
      " vast\n",
      " datasets\n",
      " and\n",
      " leverage\n",
      " deep\n",
      " learning\n",
      " techniques\n",
      " to\n",
      " perform\n",
      " tasks\n",
      " like\n",
      " translation\n",
      ",\n",
      " summar\n",
      "ization\n",
      ",\n",
      " and\n",
      " question\n",
      " answering\n",
      ".\n",
      " L\n",
      "LM\n",
      "s\n",
      " revolution\n",
      "ize\n",
      " industries\n",
      " by\n",
      " enhancing\n",
      " productivity\n",
      " and\n",
      " offering\n",
      " unprecedented\n",
      " automation\n",
      " in\n",
      " language\n",
      "-related\n",
      " applications\n",
      ".\n",
      "\n",
      "\n"
     ]
    }
   ],
   "source": [
    "\n",
    "while True:\n",
    "    try:\n",
    "        print(next(response.streamer))\n",
    "    except StopIteration:\n",
    "        break\n"
   ]
  },
  {
   "cell_type": "code",
   "execution_count": null,
   "id": "5fb72171",
   "metadata": {},
   "outputs": [],
   "source": []
  }
 ],
 "metadata": {
  "kernelspec": {
   "display_name": ".venv",
   "language": "python",
   "name": "python3"
  },
  "language_info": {
   "codemirror_mode": {
    "name": "ipython",
    "version": 3
   },
   "file_extension": ".py",
   "mimetype": "text/x-python",
   "name": "python",
   "nbconvert_exporter": "python",
   "pygments_lexer": "ipython3",
   "version": "3.10.11"
  }
 },
 "nbformat": 4,
 "nbformat_minor": 5
}
