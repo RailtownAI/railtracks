{
 "cells": [
  {
   "cell_type": "code",
   "execution_count": 2,
   "id": "64b3cb4a",
   "metadata": {},
   "outputs": [],
   "source": [
    "import railtracks as rt\n",
    "from railtracks.llm.content import Stream \n",
    "\n",
    "llm = rt.llm.OpenAILLM(\"gpt-4o\", stream=True)\n",
    "\n",
    "mh = rt.llm.MessageHistory([rt.llm.UserMessage(\"give me a 50 word essay on LLMs\")])"
   ]
  },
  {
   "cell_type": "markdown",
   "id": "74194c1a",
   "metadata": {},
   "source": [
    "## LLM Module"
   ]
  },
  {
   "cell_type": "code",
   "execution_count": 3,
   "id": "c117c571",
   "metadata": {},
   "outputs": [],
   "source": [
    "response = llm.chat(messages=mh)"
   ]
  },
  {
   "cell_type": "code",
   "execution_count": 4,
   "id": "d9c86956",
   "metadata": {},
   "outputs": [
    {
     "name": "stdout",
     "output_type": "stream",
     "text": [
      "MessageInfo(input_tokens=None, output_tokens=None, latency=None, model_name=None, total_cost=None, system_fingerprint=None)\n"
     ]
    }
   ],
   "source": [
    "assert isinstance(response.message,  rt.llm.AssistantMessage)\n",
    "assert isinstance(response.message.content, Stream)\n",
    "\n",
    "print(response.message_info)\n"
   ]
  },
  {
   "cell_type": "code",
   "execution_count": null,
   "id": "e8fd6110",
   "metadata": {},
   "outputs": [],
   "source": [
    "for chunk in response.message.content.streamer:\n",
    "    print(chunk)\n",
    "\n",
    "print(response.message_info)"
   ]
  },
  {
   "cell_type": "markdown",
   "id": "d6d62395",
   "metadata": {},
   "source": [
    "## Nodes\n"
   ]
  },
  {
   "cell_type": "code",
   "execution_count": null,
   "id": "c6d14d17",
   "metadata": {},
   "outputs": [],
   "source": [
    "\n",
    "agent = rt.agent_node(\n",
    "    name=\"Simple Node\",\n",
    "    system_message=\"You are a helpful assistant.\",\n",
    "    llm_model=llm,\n",
    ")\n"
   ]
  },
  {
   "cell_type": "code",
   "execution_count": null,
   "id": "cd7077cd",
   "metadata": {},
   "outputs": [],
   "source": [
    "response = await rt.call(agent, user_input=mh)"
   ]
  },
  {
   "cell_type": "code",
   "execution_count": null,
   "id": "bbf97597",
   "metadata": {},
   "outputs": [],
   "source": [
    "\n",
    "print(response.final_message)\n",
    "\n",
    "while True:\n",
    "    try:\n",
    "        print(next(response.streamer))\n",
    "    except StopIteration:\n",
    "        break\n",
    "\n",
    "print(response.final_message)"
   ]
  },
  {
   "cell_type": "code",
   "execution_count": null,
   "id": "5fb72171",
   "metadata": {},
   "outputs": [],
   "source": []
  }
 ],
 "metadata": {
  "kernelspec": {
   "display_name": ".venv",
   "language": "python",
   "name": "python3"
  },
  "language_info": {
   "codemirror_mode": {
    "name": "ipython",
    "version": 3
   },
   "file_extension": ".py",
   "mimetype": "text/x-python",
   "name": "python",
   "nbconvert_exporter": "python",
   "pygments_lexer": "ipython3",
   "version": "3.10.11"
  }
 },
 "nbformat": 4,
 "nbformat_minor": 5
}
