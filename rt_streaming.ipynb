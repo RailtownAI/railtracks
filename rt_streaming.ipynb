{
 "cells": [
  {
   "cell_type": "code",
   "execution_count": 1,
   "id": "64b3cb4a",
   "metadata": {},
   "outputs": [],
   "source": [
    "import railtracks as rt\n",
    "from railtracks.llm.content import Stream\n",
    "\n",
    "llm = rt.llm.OpenAILLM(\"gpt-4o\", stream=True)\n",
    "\n",
    "mh = rt.llm.MessageHistory([rt.llm.UserMessage(\"give me a 50 word essay on LLMs\")])"
   ]
  },
  {
   "cell_type": "markdown",
   "id": "74194c1a",
   "metadata": {},
   "source": [
    "## LLM Module"
   ]
  },
  {
   "cell_type": "code",
   "execution_count": 2,
   "id": "c117c571",
   "metadata": {},
   "outputs": [],
   "source": [
    "response = llm.chat(messages=mh)"
   ]
  },
  {
   "cell_type": "code",
   "execution_count": 3,
   "id": "d9c86956",
   "metadata": {},
   "outputs": [
    {
     "name": "stdout",
     "output_type": "stream",
     "text": [
      "MessageInfo(input_tokens=18, output_tokens=62, latency=1.3740222454071045, model_name=gpt-4o-2024-08-06, total_cost=None, system_fingerprint=fp_46bff0e0c8)\n"
     ]
    }
   ],
   "source": [
    "assert isinstance(response.message, rt.llm.AssistantMessage)\n",
    "assert isinstance(response.message.content, Stream)\n",
    "\n",
    "print(response.message_info)"
   ]
  },
  {
   "cell_type": "code",
   "execution_count": 4,
   "id": "e8fd6110",
   "metadata": {},
   "outputs": [
    {
     "name": "stdout",
     "output_type": "stream",
     "text": [
      "\n",
      "Large\n",
      " Language\n",
      " Models\n",
      " (\n",
      "LL\n",
      "Ms\n",
      ")\n",
      " are\n",
      " advanced\n",
      " AI\n",
      " systems\n",
      " designed\n",
      " to\n",
      " understand\n",
      " and\n",
      " generate\n",
      " human\n",
      "-like\n",
      " text\n",
      ".\n",
      " Built\n",
      " on\n",
      " vast\n",
      " datasets\n",
      ",\n",
      " they\n",
      " excel\n",
      " in\n",
      " tasks\n",
      " like\n",
      " translation\n",
      ",\n",
      " summar\n",
      "ization\n",
      ",\n",
      " and\n",
      " conversation\n",
      ".\n",
      " Despite\n",
      " their\n",
      " impressive\n",
      " capabilities\n",
      ",\n",
      " challenges\n",
      " remain\n",
      " in\n",
      " ensuring\n",
      " ethical\n",
      " use\n",
      ",\n",
      " minimizing\n",
      " biases\n",
      ",\n",
      " and\n",
      " aligning\n",
      " outputs\n",
      " with\n",
      " human\n",
      " values\n",
      " and\n",
      " intentions\n",
      ".\n",
      "\n",
      "\n",
      "MessageInfo(input_tokens=18, output_tokens=62, latency=1.3740222454071045, model_name=gpt-4o-2024-08-06, total_cost=None, system_fingerprint=fp_46bff0e0c8)\n"
     ]
    }
   ],
   "source": [
    "for chunk in response.message.content.streamer:\n",
    "    print(chunk)\n",
    "\n",
    "print(response.message_info)"
   ]
  },
  {
   "cell_type": "markdown",
   "id": "d6d62395",
   "metadata": {},
   "source": [
    "## Nodes\n"
   ]
  },
  {
   "cell_type": "code",
   "execution_count": 5,
   "id": "c6d14d17",
   "metadata": {},
   "outputs": [],
   "source": [
    "agent = rt.agent_node(\n",
    "    name=\"Simple Node\",\n",
    "    system_message=\"You are a helpful assistant.\",\n",
    "    llm_model=llm,\n",
    ")"
   ]
  },
  {
   "cell_type": "code",
   "execution_count": 6,
   "id": "cd7077cd",
   "metadata": {},
   "outputs": [
    {
     "name": "stderr",
     "output_type": "stream",
     "text": [
      "[+4.673  s] RT          : INFO     - START CREATED Simple Node\n",
      "[+6.137  s] RT          : INFO     - Simple Node DONE\n",
      "[+6.137  s] RT.Session  : INFO     - Saving execution info to .railtracks\\a61581cd-8d49-4e1e-9244-e21dd78c7b38.json\n"
     ]
    }
   ],
   "source": [
    "response = await rt.call(agent, user_input=mh)"
   ]
  },
  {
   "cell_type": "code",
   "execution_count": 7,
   "id": "4ad71627",
   "metadata": {},
   "outputs": [
    {
     "name": "stdout",
     "output_type": "stream",
     "text": [
      "Large Language Models (LLMs) are advanced AI systems designed to understand and generate human-like text. Trained on massive datasets, they excel in diverse language tasks such as translation, summarization, and dialogue. LLMs like GPT-3 have revolutionized industries by enhancing communication, providing insights, and automating complex linguistic processes.\n"
     ]
    }
   ],
   "source": [
    "print(response.text)"
   ]
  },
  {
   "cell_type": "code",
   "execution_count": 10,
   "id": "bbf97597",
   "metadata": {},
   "outputs": [],
   "source": [
    "while True:\n",
    "    try:\n",
    "        print(next(response.streamer))\n",
    "    except StopIteration:\n",
    "        break"
   ]
  },
  {
   "cell_type": "code",
   "execution_count": 9,
   "id": "5fb72171",
   "metadata": {},
   "outputs": [
    {
     "data": {
      "text/plain": [
       "<generator object LiteLLMWrapper._astream_handler_base.<locals>._replay_streamer at 0x000001CBC9AABA00>"
      ]
     },
     "execution_count": 9,
     "metadata": {},
     "output_type": "execute_result"
    }
   ],
   "source": [
    "response.streamer"
   ]
  },
  {
   "cell_type": "code",
   "execution_count": null,
   "id": "ccdb7b1a",
   "metadata": {},
   "outputs": [],
   "source": []
  }
 ],
 "metadata": {
  "kernelspec": {
   "display_name": ".venv",
   "language": "python",
   "name": "python3"
  },
  "language_info": {
   "codemirror_mode": {
    "name": "ipython",
    "version": 3
   },
   "file_extension": ".py",
   "mimetype": "text/x-python",
   "name": "python",
   "nbconvert_exporter": "python",
   "pygments_lexer": "ipython3",
   "version": "3.10.11"
  }
 },
 "nbformat": 4,
 "nbformat_minor": 5
}
