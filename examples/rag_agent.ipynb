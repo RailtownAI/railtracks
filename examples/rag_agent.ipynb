{
 "cells": [
  {
   "cell_type": "code",
   "execution_count": null,
   "metadata": {},
   "outputs": [],
   "source": [
    "import railtracks as rt\n",
    "from railtracks.RAG import get_rag_node, RAG"
   ]
  },
  {
   "cell_type": "code",
   "execution_count": 2,
   "metadata": {},
   "outputs": [],
   "source": [
    "docs = [\n",
    "    \"Apple is deep red\",\n",
    "    \"Pear is light yellow\",\n",
    "    \"Watermelon is green on the outside and red on the inside\",\n",
    "]\n",
    "query = \"What is the color of watermelon?\""
   ]
  },
  {
   "cell_type": "markdown",
   "metadata": {},
   "source": [
    "# Simple example"
   ]
  },
  {
   "cell_type": "code",
   "execution_count": null,
   "metadata": {},
   "outputs": [
    {
     "name": "stderr",
     "output_type": "stream",
     "text": [
      "[+251.235s] RT          : INFO     - START CREATED query Node\n",
      "[+251.609s] RT          : INFO     - query Node DONE\n"
     ]
    },
    {
     "name": "stdout",
     "output_type": "stream",
     "text": [
      "Query:  Color of pear?\n",
      "choice [0]:  Pear is light yellow\n",
      "choice [1]:  Apple is deep red\n"
     ]
    }
   ],
   "source": [
    "rag_node:rt.Node = get_rag_node(\n",
    "    documents=docs,\n",
    ")\n",
    "\n",
    "query = \"Color of pear?\"\n",
    "# You should not use _sync in notebook, as it is natively using event loop\n",
    "with rt.Runner() as runner:\n",
    "    result = await runner.call(rag_node, query)\n",
    "print(\"Query: \", query)\n",
    "print(\"choice [0]: \", result[0].record.text)\n",
    "print(\"choice [1]: \", result[1].record.text)"
   ]
  }
 ],
 "metadata": {
  "kernelspec": {
   "display_name": ".venv",
   "language": "python",
   "name": "python3"
  },
  "language_info": {
   "codemirror_mode": {
    "name": "ipython",
    "version": 3
   },
   "file_extension": ".py",
   "mimetype": "text/x-python",
   "name": "python",
   "nbconvert_exporter": "python",
   "pygments_lexer": "ipython3",
   "version": "3.12.10"
  }
 },
 "nbformat": 4,
 "nbformat_minor": 2
}
