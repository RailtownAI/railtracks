{
 "cells": [
  {
   "cell_type": "markdown",
   "metadata": {},
   "source": [
    "# Tool Call LLMs\n",
    "Some of the more exciting use cases for RT is when you want to cede control of the decision making process to the LLM. RT has a suite of tools that you can use to make this process much simpler. Check out an example below. "
   ]
  },
  {
   "cell_type": "code",
   "execution_count": 11,
   "metadata": {
    "ExecuteTime": {
     "end_time": "2025-03-19T01:29:52.656653Z",
     "start_time": "2025-03-19T01:29:50.496308Z"
    }
   },
   "outputs": [],
   "source": [
    "from typing import Dict, Any, Set, Type\n",
    "from pydantic import BaseModel, Field\n",
    "import textwrap\n",
    "import railtracks as rt"
   ]
  },
  {
   "cell_type": "markdown",
   "metadata": {},
   "source": [
    "### Making Agents that can be used as tools:\n"
   ]
  },
  {
   "cell_type": "markdown",
   "metadata": {},
   "source": [
    "For more information on Agents as Tools, Check out LINK TO DOCS:"
   ]
  },
  {
   "cell_type": "code",
   "execution_count": 12,
   "metadata": {},
   "outputs": [],
   "source": [
    "def _critic_factory(emotion: str) -> tuple[rt.ToolManifest, str]:\n",
    "    \"\"\" A factory function that creates a ToolManifest and system message for a critic tool.\n",
    "    \"\"\"\n",
    "    system_message = f\"You are a {emotion} critic of the world and you should analyze the given statement and provide a {emotion} critique of it. Be very concise and to the point.\"\n",
    "    tool_manifest = rt.ToolManifest(\n",
    "        description=f\"A tool used to critique a statement {emotion}ly.\",\n",
    "        parameters=[rt.llm.Parameter(\"analysis_detail\", \"string\", \"The thing you would like to analyze\")]\n",
    "    )\n",
    "    return system_message, tool_manifest"
   ]
  },
  {
   "cell_type": "code",
   "execution_count": 13,
   "metadata": {},
   "outputs": [],
   "source": [
    "harsh_critic_system_message, harsh_critic_tool_manifest = _critic_factory(\"harsh\")\n",
    "harsh_critic_llm = rt.llm.OpenAILLM(\"gpt-4o\")\n",
    "\n",
    "positive_critic_system_message, positive_critic_tool_manifest = _critic_factory(\"positive\")\n",
    "positive_critic_llm = rt.llm.AnthropicLLM(\"claude-3-5-sonnet-20240620\")\n",
    "\n",
    "deeper_meaning_critic_system_message, deeper_meaning_critic_tool_manifest = _critic_factory(\"deeper\")\n",
    "# deeper_meaning_critic_llm = rt.llm.HuggingFaceLLM(\"together/deepseek-ai/DeepSeek-R1\")\n",
    "deeper_meaning_critic_llm = rt.llm.OpenAILLM(\"gpt-4o\")"
   ]
  },
  {
   "cell_type": "code",
   "execution_count": 14,
   "metadata": {},
   "outputs": [],
   "source": [
    "HarshCritic = rt.agent_node(\n",
    "    \"Harsh Critic\",\n",
    "    system_message=harsh_critic_system_message,\n",
    "    llm_model=harsh_critic_llm,\n",
    "    manifest=harsh_critic_tool_manifest,\n",
    ")\n",
    "\n",
    "PositiveCritic = rt.agent_node(\n",
    "    \"Positive Critic\",\n",
    "    system_message=positive_critic_system_message,\n",
    "    llm_model=positive_critic_llm,\n",
    "    manifest=positive_critic_tool_manifest,\n",
    ")\n",
    "\n",
    "DeeperMeaningCritic = rt.agent_node(\n",
    "    \"Deeper Meaning Critic\",\n",
    "    system_message=deeper_meaning_critic_system_message,\n",
    "    llm_model=deeper_meaning_critic_llm,\n",
    "    manifest=deeper_meaning_critic_tool_manifest,\n",
    ")\n"
   ]
  },
  {
   "cell_type": "markdown",
   "metadata": {},
   "source": [
    "### Parent Tool calling LLM that has access to agents as tools"
   ]
  },
  {
   "cell_type": "code",
   "execution_count": 15,
   "metadata": {},
   "outputs": [],
   "source": [
    "class CriticOutput(BaseModel):\n",
    "    harsh_critic: str = Field(description=\"The harsh critic of the statement\")\n",
    "    positive_critic: str = Field(description=\"The positive critic of the statement\")\n",
    "    deeper_meaning: str = Field(description=\"The deeper meaning of the statement\")\n",
    "    overall_score: float = Field(description=\"The overall score of the statement on a scale of 0 to 1\")"
   ]
  },
  {
   "cell_type": "code",
   "execution_count": 18,
   "metadata": {},
   "outputs": [
    {
     "name": "stderr",
     "output_type": "stream",
     "text": [
      "C:\\Users\\Aryan\\dev\\rc\\packages\\railtracks\\src\\railtracks\\validation\\node_creation\\validation.py:222: UserWarning: You have set max_tool_calls to None. The llm will be able to make unlimited tool calls.\n",
      "  warnings.warn(\n"
     ]
    }
   ],
   "source": [
    "system_message_critic = \"You are a critic of the world and you provide comprehensive critiques of the world around you. You should utilize the provided tools to collect specific critiques and structure them before completing your answer.\"\n",
    "Critic = rt.agent_node(\n",
    "    \"Critic\",\n",
    "    tool_nodes={HarshCritic, PositiveCritic, DeeperMeaningCritic},\n",
    "    output_schema=CriticOutput,\n",
    "    system_message=system_message_critic,\n",
    "    llm_model=rt.llm.OpenAILLM(\"gpt-4o\")\n",
    ")"
   ]
  },
  {
   "cell_type": "markdown",
   "metadata": {},
   "source": [
    "For the parent node we will dynamically inject the model during `rt.call` "
   ]
  },
  {
   "cell_type": "code",
   "execution_count": 19,
   "metadata": {
    "ExecuteTime": {
     "end_time": "2025-03-19T01:30:28.862705Z",
     "start_time": "2025-03-19T01:30:28.837702Z"
    }
   },
   "outputs": [
    {
     "name": "stdout",
     "output_type": "stream",
     "text": [
      "Using existing session\n"
     ]
    },
    {
     "name": "stderr",
     "output_type": "stream",
     "text": [
      "C:\\Users\\Aryan\\dev\\rc\\packages\\railtracks\\src\\railtracks\\nodes\\concrete\\_tool_call_base.py:74: UserWarning: You have provided max_tool_calls as a parameter and as a class variable. We will use the parameter.\n",
      "  warnings.warn(\n",
      "[+422.366s] RT          : INFO     - START CREATED Critic\n",
      "[+425.677s] RT          : INFO     - Critic CREATED Harsh Critic\n",
      "[+425.683s] RT          : INFO     - Critic CREATED Deeper Meaning Critic\n",
      "[+425.696s] RT          : INFO     - Critic CREATED Positive Critic\n",
      "[+428.066s] RT          : INFO     - Positive Critic DONE\n",
      "[+430.375s] RT          : INFO     - Harsh Critic DONE\n",
      "[+432.294s] RT          : INFO     - Deeper Meaning Critic DONE\n",
      "[+438.139s] RT          : INFO     - Critic CREATED Structured LLM (CriticOutput)\n",
      "[+444.376s] RT          : INFO     - Structured LLM (CriticOutput) DONE\n",
      "[+444.383s] RT          : INFO     - Critic DONE\n",
      "[+444.386s] RT.Session  : INFO     - Saving execution info to .railtracks\\c99bc3f5-0682-4dcd-b5f0-4f9709fb3fbd.json\n"
     ]
    }
   ],
   "source": [
    "template = (\n",
    "    \"I am writing a short story and I would like to analyze my introduction.\\n\"\n",
    "    \"\\n\"\n",
    "    \"Once upon a time there was a little boy who lived in a small village. He was a very kind and generous, but lacked an understanding\"\n",
    "    \" of the world around him. He was always looking for ways to help others and make the world a better place. One day, he stumbled upon a\"\n",
    "    \" magical book that would change his life forever. The book was filled with stories of adventure and mystery, and the promise of a better\"\n",
    "    \" tomorrow.\"\n",
    ")\n",
    "with rt.Session(timeout=50):\n",
    "    response = await rt.call(\n",
    "        Critic, template, max_tool_calls=10\n",
    "    )"
   ]
  },
  {
   "cell_type": "code",
   "execution_count": 20,
   "metadata": {},
   "outputs": [
    {
     "name": "stdout",
     "output_type": "stream",
     "text": [
      "{\n",
      "  \"harsh_critic\": \"This statement is painfully trite and uninspired. It's as if it ticked every cliché in the book without bringing anything new or interesting to the table. The mention of a \\\"magical book\\\" screams of unoriginality, heavily borrowing from countless overused tropes with no effort to innovate. Moreover, the character description of a \\\"kind and generous\\\" boy lacking understanding is so one-dimensional it could put you to sleep. This narrative seems more like a lazy attempt to recycle old fairy tale elements rather than an engaging piece of storytelling. Overall, it severely lacks depth, creativity, and any semblance of originality.\",\n",
      "  \"positive_critic\": \"This statement paints a charming picture of innocence and hope. It effectively introduces a protagonist with admirable qualities - kindness and generosity - while also establishing room for growth through his lack of worldly understanding. The introduction of the magical book creates intrigue and sets the stage for potential character development and exciting adventures ahead. Overall, this opening establishes a positive tone and invites the reader to connect with the young protagonist on his journey of discovery and personal growth.\",\n",
      "  \"deeper_meaning\": \"The statement appears to be the beginning of a fictional tale that sets up a classic narrative trope: an innocent protagonist encountering a catalyst for transformation. From a critical perspective, this introduction relies heavily on common storytelling elements—an idyllic village setting, a protagonist with pure intentions, and the discovery of a magical object leading to adventure. While these elements are tried-and-true in engaging audiences, they may also lack originality unless subverted or explored with depth.\\n\\nThe character's lack of worldly understanding coupled with openness to adventure is a familiar motif that suggests an impending journey of growth. However, there's an implicit risk that the narrative might oversimplify the complexity of real-world challenges, particularly if it concludes with a simplistic idea of a \\\"better tomorrow.\\\" For a more enriching text, it would be essential to provide nuanced character development, exploring the potential moral and ethical dilemmas faced through the adventures and how these reshape his original kind nature.\\n\\nThus far, the narrative presents a foundation that could either become a comforting escapade or deepen into a more profound exploration of human growth and the intricacies of making the world a better place.\",\n",
      "  \"overall_score\": 0.5\n",
      "}\n"
     ]
    }
   ],
   "source": [
    "final_critic = response.structured\n",
    "assert isinstance(final_critic, CriticOutput)\n",
    "print(final_critic.model_dump_json(indent=2))"
   ]
  },
  {
   "cell_type": "markdown",
   "metadata": {},
   "source": [
    "Sometimes there may be a need to inject parameters into the subserviant tools at instance \"runtime\". This can be done by modifying the node creation method in the parent top level node\n"
   ]
  },
  {
   "cell_type": "code",
   "execution_count": null,
   "metadata": {},
   "outputs": [],
   "source": [
    "class GradeLevelHarshCritic(HarshCritic):\n",
    "    def __init__(self, message_history: rt.llm.MessageHistory, grade_level: int):\n",
    "        super().__init__(message_history=message_history)\n",
    "        self.grade_level = grade_level\n",
    "\n",
    "    @classmethod\n",
    "    def prepare_tool(cls, tool_parameters):\n",
    "        message_hist = rt.llm.MessageHistory(\n",
    "            [rt.llm.UserMessage(tool_parameters[\"analysis_detail\"])]\n",
    "        )\n",
    "        return cls(message_hist, tool_parameters[\"grade_level\"])\n",
    "\n",
    "    def system_message(self):\n",
    "        return (\n",
    "            super().system_message()\n",
    "            + \" You should provide a critique at a grade level of \"\n",
    "            + str(self.grade_level)\n",
    "        )"
   ]
  },
  {
   "cell_type": "code",
   "execution_count": null,
   "metadata": {},
   "outputs": [],
   "source": [
    "class InjectGradeLevel(Critic):\n",
    "    def __init__(self, message_history: rt.llm.MessageHistory, grade_level: int):\n",
    "        super().__init__(message_history=message_history)\n",
    "        self.grade_level = grade_level\n",
    "\n",
    "    def create_node(self, tool_name: str, arguments: Dict[str, Any]) -> rt.Node:\n",
    "        if tool_name == \"Harsh_Critic\":\n",
    "            arguments[\"grade_level\"] = self.grade_level\n",
    "            return GradeLevelHarshCritic.prepare_tool(arguments)\n",
    "        # note the super method will not add any parameters and work just as it always does.\n",
    "        return super().create_node(tool_name, arguments)\n",
    "\n",
    "    def connected_nodes(self) -> Set[Type[rt.Node]]:\n",
    "        # note that you can add the new node to the connected nodes set\n",
    "        return {GradeLevelHarshCritic, PositiveCritic, DeeperMeaningCritic}"
   ]
  },
  {
   "cell_type": "code",
   "execution_count": null,
   "metadata": {
    "ExecuteTime": {
     "end_time": "2025-02-12T00:58:52.182005Z",
     "start_time": "2025-02-12T00:58:51.968968Z"
    }
   },
   "outputs": [],
   "source": [
    "template = (\n",
    "    \"I am writing a short story and I would like to analyze my introduction.\\n\"\n",
    "    \"\\n\"\n",
    "    \"Green Apples are a strong fruit that can be used in many different ways. They are a great source of vitamins and minerals, and can be eaten or even thrown at others you don't like\"\n",
    ")\n",
    "# with rt.Runner(executor_config=rt.run.ExecutorConfig(logging_setting=\"QUIET\", timeout=50)) as runner:\n",
    "#     response = await runner.run(InjectGradeLevel,\n",
    "#         message_history=rt.llm.MessageHistory([rt.llm.UserMessage(template)]),\n",
    "#         grade_level=12)\n",
    "\n",
    "rt.call(\n",
    "    InjectGradeLevel,\n",
    "    message_history=rt.llm.MessageHistory([rt.llm.UserMessage(template)]),\n",
    "    grade_level=12,\n",
    ")\n",
    "\n",
    "\n",
    "print(response.answer)"
   ]
  }
 ],
 "metadata": {
  "kernelspec": {
   "display_name": ".venv",
   "language": "python",
   "name": "python3"
  },
  "language_info": {
   "codemirror_mode": {
    "name": "ipython",
    "version": 3
   },
   "file_extension": ".py",
   "mimetype": "text/x-python",
   "name": "python",
   "nbconvert_exporter": "python",
   "pygments_lexer": "ipython3",
   "version": "3.10.11"
  }
 },
 "nbformat": 4,
 "nbformat_minor": 4
}
