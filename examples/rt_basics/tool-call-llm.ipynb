{
 "cells": [
  {
   "cell_type": "markdown",
   "metadata": {},
   "source": [
    "# Tool Call LLMs\n",
    "Some of the more exciting use cases for RT is when you want to cede control of the decision making process to the LLM. RT has a suite of tools that you can use to make this process much simpler. Check out an example below. "
   ]
  },
  {
   "cell_type": "code",
   "execution_count": 1,
   "metadata": {
    "ExecuteTime": {
     "end_time": "2025-03-19T01:29:52.656653Z",
     "start_time": "2025-03-19T01:29:50.496308Z"
    }
   },
   "outputs": [],
   "source": [
    "from typing import Dict, Any, Set, Type\n",
    "from pydantic import BaseModel, Field\n",
    "import textwrap\n",
    "import railtracks as rt"
   ]
  },
  {
   "cell_type": "markdown",
   "metadata": {},
   "source": [
    "### Making Agents that can be used as tools:\n"
   ]
  },
  {
   "cell_type": "markdown",
   "metadata": {},
   "source": [
    "For more information on Agents as Tools, Check out LINK TO DOCS:"
   ]
  },
  {
   "cell_type": "code",
   "execution_count": 2,
   "metadata": {},
   "outputs": [],
   "source": [
    "def _critic_factory(emotion: str) -> tuple[rt.ToolManifest, str]:\n",
    "    \"\"\" A factory function that creates a ToolManifest and system message for a critic tool.\n",
    "    \"\"\"\n",
    "    system_message = f\"You are a {emotion} critic of the world and you should analyze the given statement and provide a {emotion} critique of it. Be very concise and to the point.\"\n",
    "    tool_manifest = rt.ToolManifest(\n",
    "        description=f\"A tool used to critique a statement {emotion}ly.\",\n",
    "        parameters=[rt.llm.Parameter(\"analysis_detail\", \"string\", \"The thing you would like to analyze\")]\n",
    "    )\n",
    "    return system_message, tool_manifest"
   ]
  },
  {
   "cell_type": "code",
   "execution_count": null,
   "metadata": {},
   "outputs": [],
   "source": [
    "harsh_critic_system_message, harsh_critic_tool_manifest = _critic_factory(\"harsh\")\n",
    "harsh_critic_llm = rt.llm.OpenAILLM(\"gpt-4o\")\n",
    "\n",
    "positive_critic_system_message, positive_critic_tool_manifest = _critic_factory(\"positive\")\n",
    "positive_critic_llm = rt.llm.AnthropicLLM(\"claude-3-5-sonnet-20240620\")\n",
    "\n",
    "deeper_meaning_critic_system_message, deeper_meaning_critic_tool_manifest = _critic_factory(\"deeper\")\n",
    "deeper_meaning_critic_llm = rt.llm.HuggingFaceLLM(\"together/deepseek-ai/DeepSeek-R1\")"
   ]
  },
  {
   "cell_type": "code",
   "execution_count": 4,
   "metadata": {},
   "outputs": [],
   "source": [
    "HarshCritic = rt.agent_node(\n",
    "    \"Harsh Critic\",\n",
    "    system_message=harsh_critic_system_message,\n",
    "    llm_model=harsh_critic_llm,\n",
    "    manifest=harsh_critic_tool_manifest,\n",
    ")\n",
    "\n",
    "PositiveCritic = rt.agent_node(\n",
    "    \"Positive Critic\",\n",
    "    system_message=positive_critic_system_message,\n",
    "    llm_model=positive_critic_llm,\n",
    "    manifest=positive_critic_tool_manifest,\n",
    ")\n",
    "\n",
    "DeeperMeaningCritic = rt.agent_node(\n",
    "    \"Deeper Meaning Critic\",\n",
    "    system_message=deeper_meaning_critic_system_message,\n",
    "    llm_model=deeper_meaning_critic_llm,\n",
    "    manifest=deeper_meaning_critic_tool_manifest,\n",
    ")\n"
   ]
  },
  {
   "cell_type": "markdown",
   "metadata": {},
   "source": [
    "### Parent Tool calling LLM that has access to agents as tools"
   ]
  },
  {
   "cell_type": "code",
   "execution_count": 5,
   "metadata": {},
   "outputs": [],
   "source": [
    "class CriticOutput(BaseModel):\n",
    "    harsh_critic: str = Field(description=\"The harsh critic of the statement\")\n",
    "    positive_critic: str = Field(description=\"The positive critic of the statement\")\n",
    "    deeper_meaning: str = Field(description=\"The deeper meaning of the statement\")\n",
    "    overall_score: float = Field(description=\"The overall score of the statement on a scale of 0 to 1\")"
   ]
  },
  {
   "cell_type": "code",
   "execution_count": 6,
   "metadata": {},
   "outputs": [
    {
     "name": "stderr",
     "output_type": "stream",
     "text": [
      "C:\\Users\\Aryan\\dev\\rc\\packages\\railtracks\\src\\railtracks\\validation\\node_creation\\validation.py:222: UserWarning: You have set max_tool_calls to None. The llm will be able to make unlimited tool calls.\n",
      "  warnings.warn(\n"
     ]
    }
   ],
   "source": [
    "system_message_critic = \"You are a critic of the world and you provide comprehensive critiques of the world around you. You should utilize the provided tools to collect specific critiques and structure them before completing your answer.\"\n",
    "Critic = rt.agent_node(\n",
    "    \"Critic\",\n",
    "    tool_nodes={HarshCritic, PositiveCritic, DeeperMeaningCritic},\n",
    "    output_schema=CriticOutput,\n",
    "    system_message=system_message_critic,\n",
    "    llm_model=rt.llm.OpenAILLM(\"gpt-4o\")\n",
    ")"
   ]
  },
  {
   "cell_type": "markdown",
   "metadata": {},
   "source": [
    "For the parent node we will dynamically inject the model during `rt.call` "
   ]
  },
  {
   "cell_type": "code",
   "execution_count": 7,
   "metadata": {
    "ExecuteTime": {
     "end_time": "2025-03-19T01:30:28.862705Z",
     "start_time": "2025-03-19T01:30:28.837702Z"
    }
   },
   "outputs": [
    {
     "name": "stdout",
     "output_type": "stream",
     "text": [
      "Using existing session\n"
     ]
    },
    {
     "name": "stderr",
     "output_type": "stream",
     "text": [
      "C:\\Users\\Aryan\\dev\\rc\\packages\\railtracks\\src\\railtracks\\nodes\\concrete\\_tool_call_base.py:74: UserWarning: You have provided max_tool_calls as a parameter and as a class variable. We will use the parameter.\n",
      "  warnings.warn(\n",
      "[+3.526  s] RT          : INFO     - START CREATED Critic\n",
      "[+7.131  s] RT          : INFO     - Critic CREATED Positive Critic\n",
      "[+7.144  s] RT          : INFO     - Critic CREATED Deeper Meaning Critic\n",
      "[+7.154  s] RT          : INFO     - Critic CREATED Harsh Critic\n",
      "[+10.301 s] RT          : INFO     - Positive Critic DONE\n",
      "[+10.829 s] RT          : INFO     - Harsh Critic DONE\n",
      "[+11.466 s] RT          : INFO     - Deeper Meaning Critic DONE\n",
      "C:\\Users\\Aryan\\dev\\rc\\packages\\railtracks\\src\\railtracks\\nodes\\concrete\\_llm_base.py:122: UserWarning: You have provided an llm model as a parameter and as a class variable. We will use the parameter.\n",
      "  warnings.warn(\n",
      "[+18.232 s] RT          : INFO     - Critic CREATED Structured LLM (CriticOutput)\n",
      "[+24.402 s] RT          : INFO     - Structured LLM (CriticOutput) DONE\n",
      "[+24.405 s] RT          : INFO     - Critic DONE\n",
      "[+24.407 s] RT.Session  : INFO     - Saving execution info to .railtracks\\e0ac8562-8cb1-44f0-b915-538c9476ea64.json\n"
     ]
    }
   ],
   "source": [
    "template = (\n",
    "    \"I am writing a short story and I would like to analyze my introduction.\\n\"\n",
    "    \"\\n\"\n",
    "    \"Once upon a time there was a little boy who lived in a small village. He was a very kind and generous, but lacked an understanding\"\n",
    "    \" of the world around him. He was always looking for ways to help others and make the world a better place. One day, he stumbled upon a\"\n",
    "    \" magical book that would change his life forever. The book was filled with stories of adventure and mystery, and the promise of a better\"\n",
    "    \" tomorrow.\"\n",
    ")\n",
    "with rt.Session(timeout=50):\n",
    "    response = await rt.call(\n",
    "        Critic, template, max_tool_calls=10\n",
    "    )"
   ]
  },
  {
   "cell_type": "code",
   "execution_count": 8,
   "metadata": {},
   "outputs": [
    {
     "name": "stdout",
     "output_type": "stream",
     "text": [
      "{\n",
      "  \"harsh_critic\": \"What a painfully saccharine and simplistic narrative setup. It's as if you tried to blend every overused trope of a children's fairy tale into one insipid package. The clichéd \\\"kind and generous boy\\\" devoid of any world understanding is such a hollow character sketch that it fails to evoke any genuine interest or connection. This magical book, a deus ex machina of narrative convenience, appears with no depth or explanation, and the vague promise of a \\\"better tomorrow\\\" is a worn-out platitude lacking any originality or insight. This story does not offer anything new or thought-provoking; it simply rehashes stale motifs without a shred of creativity to justify yet another rehashing of this tired story arc.\",\n",
      "  \"positive_critic\": \"This charming narrative presents a hopeful and inspirational tale that resonates with readers of all ages. It effectively introduces a relatable protagonist - a kind-hearted boy with limited worldly experience but a strong desire to make a positive impact. The introduction of the magical book serves as an intriguing plot device, symbolizing the transformative power of knowledge and imagination. This story setup has great potential to explore themes of personal growth, the importance of empathy, and the value of lifelong learning. By blending elements of realism with fantasy, it creates an engaging backdrop for what promises to be an uplifting journey of discovery and self-improvement.\",\n",
      "  \"deeper_meaning\": \"The provided narrative presents a classic storytelling framework: an innocent protagonist in a quaint setting, inadvertently discovering a catalyst for personal growth. While it paints a hopeful future through adventure and mystery, it lacks depth in character development and societal context. The boy's kindness and generosity, albeit noble traits, seem one-dimensional without illustrating the challenges or sacrifices he might face. Moreover, the magical book, a common literary trope, may risk oversimplifying the complexities of real-world improvement by suggesting that solutions are as accessible as turning a page. To enrich this story, it should explore the boy's internal conflict, the village's socio-economic dynamics, and how the lessons from the book can be practically applied to drive meaningful change.\",\n",
      "  \"overall_score\": 0.5\n",
      "}\n"
     ]
    }
   ],
   "source": [
    "final_critic = response.structured\n",
    "assert isinstance(final_critic, CriticOutput)\n",
    "print(final_critic.model_dump_json(indent=2))"
   ]
  }
 ],
 "metadata": {
  "kernelspec": {
   "display_name": ".venv",
   "language": "python",
   "name": "python3"
  },
  "language_info": {
   "codemirror_mode": {
    "name": "ipython",
    "version": 3
   },
   "file_extension": ".py",
   "mimetype": "text/x-python",
   "name": "python",
   "nbconvert_exporter": "python",
   "pygments_lexer": "ipython3",
   "version": "3.10.11"
  }
 },
 "nbformat": 4,
 "nbformat_minor": 4
}
