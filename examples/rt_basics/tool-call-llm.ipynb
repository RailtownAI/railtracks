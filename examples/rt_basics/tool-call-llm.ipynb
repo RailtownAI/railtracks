{
 "cells": [
  {
   "cell_type": "markdown",
   "metadata": {},
   "source": [
    "# Tool Call LLMs\n",
    "Some of the more exciting use cases for RT is when you want to cede control of the decision making process to the LLM. RT has a suite of tools that you can use to make this process much simpler. Check out an example below. "
   ]
  },
  {
   "cell_type": "code",
   "execution_count": 1,
   "metadata": {
    "ExecuteTime": {
     "end_time": "2025-03-19T01:29:52.656653Z",
     "start_time": "2025-03-19T01:29:50.496308Z"
    }
   },
   "outputs": [],
   "source": [
    "from typing import Dict, Any, Set, Type\n",
    "import railtracks as rt"
   ]
  },
  {
   "cell_type": "code",
   "execution_count": 2,
   "metadata": {},
   "outputs": [],
   "source": [
    "# Common params for all terminal_llms being used as tools in this example\n",
    "critic_tool_params = {\n",
    "    rt.llm.Parameter(\"analysis_detail\", \"string\", \"The thing you would like to analyze\")\n",
    "}\n",
    "\n",
    "critic_model = rt.llm.OpenAILLM(\"gpt-4o\")"
   ]
  },
  {
   "cell_type": "code",
   "execution_count": 3,
   "metadata": {},
   "outputs": [],
   "source": [
    "HarshCritic = rt.library.terminal_llm(\n",
    "    pretty_name=\"Harsh Critic\",\n",
    "    system_message=rt.llm.SystemMessage(\n",
    "        \"You are a harsh critic of the world and you should analyze the given statement and provide a harsh critique of it. Be very concise and to the point.\"\n",
    "    ),\n",
    "    llm_model=critic_model,\n",
    "    tool_details=\"A tool used to critique a statement harshly.\",\n",
    "    tool_params=critic_tool_params,\n",
    ")\n",
    "\n",
    "PositiveCritic = rt.library.terminal_llm(\n",
    "    pretty_name=\"Positive Critic\",\n",
    "    system_message=rt.llm.SystemMessage(\n",
    "        \"You are a positive critic of the world and you should analyze the given statement and provide a positive critique of it. Be very concise and to the point.\"\n",
    "    ),\n",
    "    llm_model=critic_model,\n",
    "    tool_details=\"A tool used to critique a statement positively.\",\n",
    "    tool_params=critic_tool_params,\n",
    ")\n",
    "\n",
    "DeeperMeaningCritic = rt.library.terminal_llm(\n",
    "    pretty_name=\"Deeper Meaning Critic\",\n",
    "    system_message=rt.llm.SystemMessage(\n",
    "        \"You are a critic of the world and you should analyze the given statement and provide a critique of it. Be very concise and to the point.\"\n",
    "    ),\n",
    "    llm_model=critic_model,\n",
    "    tool_details=\"A tool used to critique a statement deeply.\",\n",
    "    tool_params=critic_tool_params,\n",
    ")"
   ]
  },
  {
   "cell_type": "code",
   "execution_count": 4,
   "metadata": {},
   "outputs": [
    {
     "name": "stderr",
     "output_type": "stream",
     "text": [
      "C:\\Users\\Aryan\\dev\\rc\\src\\railtracks\\exceptions\\node_creation\\validation.py:219: UserWarning: You have set max_tool_calls to None. The llm will be able to make unlimited tool calls.\n",
      "  warnings.warn(\n"
     ]
    }
   ],
   "source": [
    "system_message_critic = rt.llm.SystemMessage(\n",
    "    \"You are a critic of the world and you provide comprehensive critiques of the world around you. You should utilize the provided tools to collect specific critiques and structure them before completing your answer.\"\n",
    ")\n",
    "Critic = rt.library.message_hist_tool_call_llm(\n",
    "    connected_nodes={HarshCritic, PositiveCritic, DeeperMeaningCritic},\n",
    "    pretty_name=\"Critic\",\n",
    "    system_message=system_message_critic,\n",
    "    llm_model=rt.llm.OpenAILLM(\"gpt-4o\"),\n",
    ")"
   ]
  },
  {
   "cell_type": "code",
   "execution_count": 5,
   "metadata": {
    "ExecuteTime": {
     "end_time": "2025-03-19T01:30:28.862705Z",
     "start_time": "2025-03-19T01:30:28.837702Z"
    }
   },
   "outputs": [
    {
     "name": "stderr",
     "output_type": "stream",
     "text": [
      "C:\\Users\\Aryan\\dev\\rc\\src\\railtracks\\exceptions\\node_invocation\\validation.py:46: RuntimeWarning: You have set max_tool_calls to None. The llm will be able to make unlimited tool calls.\n",
      "  warnings.warn(\n"
     ]
    }
   ],
   "source": [
    "template = (\n",
    "    \"I am writing a short story and I would like to analyze my introduction.\\n\"\n",
    "    \"\\n\"\n",
    "    \"Once upon a time there was a little boy who lived in a small village. He was a very kind and generous, but lacked an understanding\"\n",
    "    \" of the world around him. He was always looking for ways to help others and make the world a better place. One day, he stumbled upon a\"\n",
    "    \" magical book that would change his life forever. The book was filled with stories of adventure and mystery, and the promise of a better\"\n",
    "    \" tomorrow.\"\n",
    ")\n",
    "with rt.Runner(\n",
    "    executor_config=rt.run.ExecutorConfig(logging_setting=\"QUIET\", timeout=50)\n",
    ") as runner:\n",
    "    response = await runner.run(\n",
    "        Critic, user_input=rt.llm.MessageHistory([rt.llm.UserMessage(template)])\n",
    "    )"
   ]
  },
  {
   "cell_type": "code",
   "execution_count": 6,
   "metadata": {},
   "outputs": [
    {
     "data": {
      "text/plain": [
       "[system: You are a critic of the world and you provide comprehensive critiques of the world around you. You should utilize the provided tools to collect specific critiques and structure them before completing your answer.,\n",
       " user: I am writing a short story and I would like to analyze my introduction.\n",
       " \n",
       " Once upon a time there was a little boy who lived in a small village. He was a very kind and generous, but lacked an understanding of the world around him. He was always looking for ways to help others and make the world a better place. One day, he stumbled upon a magical book that would change his life forever. The book was filled with stories of adventure and mystery, and the promise of a better tomorrow.,\n",
       " assistant: [ToolCall(identifier='call_bVXGfrdcygJ76IILaQvI7wSt', name='Harsh_Critic', arguments={'analysis_detail': 'Once upon a time there was a little boy who lived in a small village. He was a very kind and generous, but lacked an understanding of the world around him. He was always looking for ways to help others and make the world a better place. One day, he stumbled upon a magical book that would change his life forever. The book was filled with stories of adventure and mystery, and the promise of a better tomorrow.'}), ToolCall(identifier='call_ojWEBiTFQ1JU2u8htuT9lRAO', name='Deeper_Meaning_Critic', arguments={'analysis_detail': 'Once upon a time there was a little boy who lived in a small village. He was a very kind and generous, but lacked an understanding of the world around him. He was always looking for ways to help others and make the world a better place. One day, he stumbled upon a magical book that would change his life forever. The book was filled with stories of adventure and mystery, and the promise of a better tomorrow.'}), ToolCall(identifier='call_GYxGAtZaaT3fEsrWgQeyKvxC', name='Positive_Critic', arguments={'analysis_detail': 'Once upon a time there was a little boy who lived in a small village. He was a very kind and generous, but lacked an understanding of the world around him. He was always looking for ways to help others and make the world a better place. One day, he stumbled upon a magical book that would change his life forever. The book was filled with stories of adventure and mystery, and the promise of a better tomorrow.'})],\n",
       " tool: Harsh_Critic -> The statement is a saccharine and all-too-common trope that reeks of cliché and lacks originality. The narrative is predictably centered around a guileless, overly altruistic protagonist—yet another tiresome iteration of the naive child trope, supposedly imbued with universal wisdom through a conveniently discovered magical object. It's inundated with hackneyed elements like a \"magical book\" and \"promise of a better tomorrow\" that do nothing but perpetuate a tired fantasy narrative without offering any innovative or intellectually stimulating content. This is merely a regurgitation of trite themes that fail to push any boundaries or offer significant depth.,\n",
       " tool: Deeper_Meaning_Critic -> The provided statement is a classic setup for a fairytale or fable, focusing on a young protagonist's journey of discovery and growth. Its charm lies in the traditional narrative elements—a kind boy, a small village, a magical book—that suggest a universal moral or lesson, likely about the importance of kindness, curiosity, and learning. However, the lack of originality or specific details might limit its appeal to audiences seeking fresh or innovative storytelling. The trope of a \"magical book\" is quite common and could benefit from unique twists to avoid predictability. It also leaves ambiguity regarding the ultimate changes or lessons learned, which might detract from its impact or memorability.,\n",
       " tool: Positive_Critic -> This statement paints a charming and inspiring narrative about a young boy whose innocence and kindness drive his eagerness to contribute positively to the world. It exemplifies the timeless theme of personal growth through learning and adventure. By discovering a magical book, the boy not only embarks on a journey of imagination and exploration but also underscores the transformative power of literature in expanding one's understanding and vision. This story can motivate readers to be open to learning and to pursue kindness, reinforcing the belief that even simple acts can lead to profound changes. It is a heartwarming reminder of the potential within each individual to impact the world positively.,\n",
       " assistant: Here's a comprehensive analysis of your short story introduction:\n",
       " \n",
       " ### Harsh Critique\n",
       " Your introduction follows a well-worn narrative path with a young, innocent protagonist inhabiting a small village. This portrayal, while endearing, leans heavily on clichés such as the \"naive child\" and the discovery of a \"magical book.\" These common fantasy tropes don’t push any creative boundaries or offer fresh perspectives. Rather, they reinforce predictable storytelling patterns and may fail to engage readers seeking inventive or thought-provoking content.\n",
       " \n",
       " ### Deeper Meaning Critique\n",
       " The story sets the stage for a traditional fable or fairy tale, presenting universal themes of kindness, learning, and growth. The boy's journey suggests an underlying moral lesson, perhaps highlighting the importance of curiosity and self-improvement. However, the lack of specific details and originality may limit its appeal, especially to those looking for new narratives. The \"magical book\" is a familiar element that could seem predictable unless given a unique twist. Moreover, the narrative leaves room for ambiguity in terms of the boy's eventual growth or lessons learned.\n",
       " \n",
       " ### Positive Critique\n",
       " Despite its reliance on classic motifs, your introduction is heartwarming and inspiring. It effectively illustrates the transformative power of kindness and literature through a young boy's journey. The story can serve as a delightful reminder of the impact that simple actions and learning can have on personal development and the world at large. This narrative encourages readers to embrace curiosity and the possibilities of change, reinforcing the notion that anyone can make a positive difference.\n",
       " \n",
       " By incorporating some unique twists and providing more context or specifics, you could enhance the originality and depth of your story while still maintaining its inherent charm and universal appeal.]"
      ]
     },
     "execution_count": 6,
     "metadata": {},
     "output_type": "execute_result"
    }
   ],
   "source": [
    "response.answer"
   ]
  },
  {
   "cell_type": "markdown",
   "metadata": {},
   "source": [
    "Sometimes there may be a need to inject parameters into the subserviant tools at instance \"runtime\". This can be done by modifying the node creation method in the parent top level node\n"
   ]
  },
  {
   "cell_type": "code",
   "execution_count": 7,
   "metadata": {},
   "outputs": [],
   "source": [
    "class GradeLevelHarshCritic(HarshCritic):\n",
    "    def __init__(self, message_history: rt.llm.MessageHistory, grade_level: int):\n",
    "        super().__init__(message_history=message_history)\n",
    "        self.grade_level = grade_level\n",
    "\n",
    "    @classmethod\n",
    "    def prepare_tool(cls, tool_parameters):\n",
    "        message_hist = rt.llm.MessageHistory(\n",
    "            [rt.llm.UserMessage(tool_parameters[\"analysis_detail\"])]\n",
    "        )\n",
    "        return cls(message_hist, tool_parameters[\"grade_level\"])\n",
    "\n",
    "    def system_message(self):\n",
    "        return (\n",
    "            super().system_message()\n",
    "            + \" You should provide a critique at a grade level of \"\n",
    "            + str(self.grade_level)\n",
    "        )"
   ]
  },
  {
   "cell_type": "code",
   "execution_count": 8,
   "metadata": {},
   "outputs": [],
   "source": [
    "class InjectGradeLevel(Critic):\n",
    "    def __init__(self, message_history: rt.llm.MessageHistory, grade_level: int):\n",
    "        super().__init__(message_history=message_history)\n",
    "        self.grade_level = grade_level\n",
    "\n",
    "    def create_node(self, tool_name: str, arguments: Dict[str, Any]) -> rt.Node:\n",
    "        if tool_name == \"Harsh_Critic\":\n",
    "            arguments[\"grade_level\"] = self.grade_level\n",
    "            return GradeLevelHarshCritic.prepare_tool(arguments)\n",
    "        # note the super method will not add any parameters and work just as it always does.\n",
    "        return super().create_node(tool_name, arguments)\n",
    "\n",
    "    def connected_nodes(self) -> Set[Type[rt.Node]]:\n",
    "        # note that you can add the new node to the connected nodes set\n",
    "        return {GradeLevelHarshCritic, PositiveCritic, DeeperMeaningCritic}"
   ]
  },
  {
   "cell_type": "code",
   "execution_count": 9,
   "metadata": {
    "ExecuteTime": {
     "end_time": "2025-02-12T00:58:52.182005Z",
     "start_time": "2025-02-12T00:58:51.968968Z"
    }
   },
   "outputs": [
    {
     "name": "stderr",
     "output_type": "stream",
     "text": [
      "C:\\Users\\Aryan\\AppData\\Local\\Temp\\ipykernel_41084\\2308724356.py:11: RuntimeWarning: coroutine 'call' was never awaited\n",
      "  rt.call(\n",
      "RuntimeWarning: Enable tracemalloc to get the object allocation traceback\n"
     ]
    },
    {
     "name": "stdout",
     "output_type": "stream",
     "text": [
      "system: You are a critic of the world and you provide comprehensive critiques of the world around you. You should utilize the provided tools to collect specific critiques and structure them before completing your answer.\n",
      "user: I am writing a short story and I would like to analyze my introduction.\n",
      "\n",
      "Once upon a time there was a little boy who lived in a small village. He was a very kind and generous, but lacked an understanding of the world around him. He was always looking for ways to help others and make the world a better place. One day, he stumbled upon a magical book that would change his life forever. The book was filled with stories of adventure and mystery, and the promise of a better tomorrow.\n",
      "assistant: [ToolCall(identifier='call_bVXGfrdcygJ76IILaQvI7wSt', name='Harsh_Critic', arguments={'analysis_detail': 'Once upon a time there was a little boy who lived in a small village. He was a very kind and generous, but lacked an understanding of the world around him. He was always looking for ways to help others and make the world a better place. One day, he stumbled upon a magical book that would change his life forever. The book was filled with stories of adventure and mystery, and the promise of a better tomorrow.'}), ToolCall(identifier='call_ojWEBiTFQ1JU2u8htuT9lRAO', name='Deeper_Meaning_Critic', arguments={'analysis_detail': 'Once upon a time there was a little boy who lived in a small village. He was a very kind and generous, but lacked an understanding of the world around him. He was always looking for ways to help others and make the world a better place. One day, he stumbled upon a magical book that would change his life forever. The book was filled with stories of adventure and mystery, and the promise of a better tomorrow.'}), ToolCall(identifier='call_GYxGAtZaaT3fEsrWgQeyKvxC', name='Positive_Critic', arguments={'analysis_detail': 'Once upon a time there was a little boy who lived in a small village. He was a very kind and generous, but lacked an understanding of the world around him. He was always looking for ways to help others and make the world a better place. One day, he stumbled upon a magical book that would change his life forever. The book was filled with stories of adventure and mystery, and the promise of a better tomorrow.'})]\n",
      "tool: Harsh_Critic -> The statement is a saccharine and all-too-common trope that reeks of cliché and lacks originality. The narrative is predictably centered around a guileless, overly altruistic protagonist—yet another tiresome iteration of the naive child trope, supposedly imbued with universal wisdom through a conveniently discovered magical object. It's inundated with hackneyed elements like a \"magical book\" and \"promise of a better tomorrow\" that do nothing but perpetuate a tired fantasy narrative without offering any innovative or intellectually stimulating content. This is merely a regurgitation of trite themes that fail to push any boundaries or offer significant depth.\n",
      "tool: Deeper_Meaning_Critic -> The provided statement is a classic setup for a fairytale or fable, focusing on a young protagonist's journey of discovery and growth. Its charm lies in the traditional narrative elements—a kind boy, a small village, a magical book—that suggest a universal moral or lesson, likely about the importance of kindness, curiosity, and learning. However, the lack of originality or specific details might limit its appeal to audiences seeking fresh or innovative storytelling. The trope of a \"magical book\" is quite common and could benefit from unique twists to avoid predictability. It also leaves ambiguity regarding the ultimate changes or lessons learned, which might detract from its impact or memorability.\n",
      "tool: Positive_Critic -> This statement paints a charming and inspiring narrative about a young boy whose innocence and kindness drive his eagerness to contribute positively to the world. It exemplifies the timeless theme of personal growth through learning and adventure. By discovering a magical book, the boy not only embarks on a journey of imagination and exploration but also underscores the transformative power of literature in expanding one's understanding and vision. This story can motivate readers to be open to learning and to pursue kindness, reinforcing the belief that even simple acts can lead to profound changes. It is a heartwarming reminder of the potential within each individual to impact the world positively.\n",
      "assistant: Here's a comprehensive analysis of your short story introduction:\n",
      "\n",
      "### Harsh Critique\n",
      "Your introduction follows a well-worn narrative path with a young, innocent protagonist inhabiting a small village. This portrayal, while endearing, leans heavily on clichés such as the \"naive child\" and the discovery of a \"magical book.\" These common fantasy tropes don’t push any creative boundaries or offer fresh perspectives. Rather, they reinforce predictable storytelling patterns and may fail to engage readers seeking inventive or thought-provoking content.\n",
      "\n",
      "### Deeper Meaning Critique\n",
      "The story sets the stage for a traditional fable or fairy tale, presenting universal themes of kindness, learning, and growth. The boy's journey suggests an underlying moral lesson, perhaps highlighting the importance of curiosity and self-improvement. However, the lack of specific details and originality may limit its appeal, especially to those looking for new narratives. The \"magical book\" is a familiar element that could seem predictable unless given a unique twist. Moreover, the narrative leaves room for ambiguity in terms of the boy's eventual growth or lessons learned.\n",
      "\n",
      "### Positive Critique\n",
      "Despite its reliance on classic motifs, your introduction is heartwarming and inspiring. It effectively illustrates the transformative power of kindness and literature through a young boy's journey. The story can serve as a delightful reminder of the impact that simple actions and learning can have on personal development and the world at large. This narrative encourages readers to embrace curiosity and the possibilities of change, reinforcing the notion that anyone can make a positive difference.\n",
      "\n",
      "By incorporating some unique twists and providing more context or specifics, you could enhance the originality and depth of your story while still maintaining its inherent charm and universal appeal.\n"
     ]
    }
   ],
   "source": [
    "template = (\n",
    "    \"I am writing a short story and I would like to analyze my introduction.\\n\"\n",
    "    \"\\n\"\n",
    "    \"Green Apples are a strong fruit that can be used in many different ways. They are a great source of vitamins and minerals, and can be eaten or even thrown at others you don't like\"\n",
    ")\n",
    "# with rt.Runner(executor_config=rt.run.ExecutorConfig(logging_setting=\"QUIET\", timeout=50)) as runner:\n",
    "#     response = await runner.run(InjectGradeLevel,\n",
    "#         message_history=rt.llm.MessageHistory([rt.llm.UserMessage(template)]),\n",
    "#         grade_level=12)\n",
    "\n",
    "rt.call(\n",
    "    InjectGradeLevel,\n",
    "    message_history=rt.llm.MessageHistory([rt.llm.UserMessage(template)]),\n",
    "    grade_level=12,\n",
    ")\n",
    "\n",
    "\n",
    "print(response.answer)"
   ]
  }
 ],
 "metadata": {
  "kernelspec": {
   "display_name": ".venv",
   "language": "python",
   "name": "python3"
  },
  "language_info": {
   "codemirror_mode": {
    "name": "ipython",
    "version": 3
   },
   "file_extension": ".py",
   "mimetype": "text/x-python",
   "name": "python",
   "nbconvert_exporter": "python",
   "pygments_lexer": "ipython3",
   "version": "3.10.11"
  }
 },
 "nbformat": 4,
 "nbformat_minor": 4
}
