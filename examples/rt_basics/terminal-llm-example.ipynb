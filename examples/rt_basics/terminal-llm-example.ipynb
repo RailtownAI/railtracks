{
 "cells": [
  {
   "cell_type": "code",
   "id": "initial_id",
   "metadata": {
    "collapsed": true,
    "ExecuteTime": {
     "end_time": "2025-08-12T23:20:53.649957Z",
     "start_time": "2025-08-12T23:20:47.831466Z"
    }
   },
   "source": [
    "import railtracks as rt"
   ],
   "outputs": [],
   "execution_count": 1
  },
  {
   "cell_type": "code",
   "id": "367f51f456dd21bf",
   "metadata": {
    "ExecuteTime": {
     "end_time": "2025-08-12T23:20:53.667401Z",
     "start_time": "2025-08-12T23:20:53.657545Z"
    }
   },
   "source": [
    "system_message = \"You are a helpful assistant with a simple mind that supplies simple solutions to any question.\"\n",
    "SimpleThinker = rt.agent_node(\n",
    "    \"Simple Thinker\",\n",
    "    system_message=rt.llm.SystemMessage(system_message),\n",
    "    llm_model=rt.llm.HuggingFaceLLM(\"together/deepseek-ai/DeepSeek-R1\"),    # Yes Deepseek R1 is a simple thinker 😙\n",
    ")"
   ],
   "outputs": [],
   "execution_count": 2
  },
  {
   "cell_type": "code",
   "id": "f6fb3a5b",
   "metadata": {
    "ExecuteTime": {
     "end_time": "2025-08-12T23:21:29.112465Z",
     "start_time": "2025-08-12T23:20:53.674333Z"
    }
   },
   "source": [
    "with rt.Session():\n",
    "    result = await rt.call(\n",
    "        SimpleThinker,\n",
    "        \"How can I add 2 numbers together?\"\n",
    "    )\n"
   ],
   "outputs": [
    {
     "name": "stdout",
     "output_type": "stream",
     "text": [
      "Using existing session\n"
     ]
    },
    {
     "name": "stderr",
     "output_type": "stream",
     "text": [
      "[+6.870  s] RT          : INFO     - START CREATED Simple Thinker\n",
      "[+42.074 s] RT          : INFO     - Simple Thinker DONE\n",
      "[+42.281 s] RT.Session  : INFO     - Saving execution info to .railtracks\\233bdc41-d027-4941-822f-4e8c174d3c95.json\n"
     ]
    }
   ],
   "execution_count": 3
  },
  {
   "cell_type": "code",
   "id": "851e0c028731ccce",
   "metadata": {
    "ExecuteTime": {
     "end_time": "2025-08-12T23:21:29.635607Z",
     "start_time": "2025-08-12T23:21:29.628386Z"
    }
   },
   "source": [
    "print(result.text)"
   ],
   "outputs": [
    {
     "name": "stdout",
     "output_type": "stream",
     "text": [
      "\n",
      "To add two numbers together, follow these simple steps:\n",
      "\n",
      "### 1. **Using Basic Arithmetic**  \n",
      "   - Write the numbers side by side.  \n",
      "   - Add them using the **`+`** operator.  \n",
      "   **Example:**  \n",
      "   `5 + 3 = 8`  \n",
      "\n",
      "### 2. **In Programming (Python Example)**  \n",
      "   Use code like this:  \n",
      "   ```python\n",
      "   # Define the numbers\n",
      "   num1 = 4\n",
      "   num2 = 7\n",
      "   \n",
      "   # Add them\n",
      "   result = num1 + num2\n",
      "   \n",
      "   # Print the result\n",
      "   print(\"Sum:\", result)  # Output: Sum: 11\n",
      "   ```\n",
      "\n",
      "### 3. **With User Input (Python)**  \n",
      "   For dynamic input:  \n",
      "   ```python\n",
      "   num1 = float(input(\"Enter first number: \"))  # e.g., 2.5\n",
      "   num2 = float(input(\"Enter second number: \")) # e.g., 3.5\n",
      "   print(\"Sum:\", num1 + num2)                   # Output: Sum: 6.0\n",
      "   ```\n",
      "\n",
      "### Key Notes:  \n",
      "- **Integers or decimals** work the same way.  \n",
      "- **Handling errors**: In code, ensure inputs are numbers (e.g., use `try/except` in Python).  \n",
      "\n",
      "Let me know if you need examples in other languages (JavaScript, Java, etc.)! 😊\n"
     ]
    }
   ],
   "execution_count": 4
  }
 ],
 "metadata": {
  "kernelspec": {
   "display_name": ".venv",
   "language": "python",
   "name": "python3"
  },
  "language_info": {
   "codemirror_mode": {
    "name": "ipython",
    "version": 3
   },
   "file_extension": ".py",
   "mimetype": "text/x-python",
   "name": "python",
   "nbconvert_exporter": "python",
   "pygments_lexer": "ipython3",
   "version": "3.10.11"
  }
 },
 "nbformat": 4,
 "nbformat_minor": 5
}
