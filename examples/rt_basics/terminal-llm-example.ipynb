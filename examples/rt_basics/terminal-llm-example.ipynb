{
 "cells": [
  {
   "cell_type": "code",
   "execution_count": 1,
   "id": "initial_id",
   "metadata": {
    "ExecuteTime": {
     "end_time": "2025-04-04T19:16:50.594150Z",
     "start_time": "2025-04-04T19:16:48.538867Z"
    },
    "collapsed": true
   },
   "outputs": [],
   "source": [
    "import railtracks as rt"
   ]
  },
  {
   "cell_type": "code",
   "execution_count": 2,
   "id": "367f51f456dd21bf",
   "metadata": {
    "ExecuteTime": {
     "end_time": "2025-04-04T19:16:50.620566Z",
     "start_time": "2025-04-04T19:16:50.614766Z"
    }
   },
   "outputs": [],
   "source": [
    "system_message = \"You are a helpful assistant with a simple mind that supplies simple solutions to any question.\"\n",
    "SimpleThinker = rt.library.terminal_llm(\n",
    "    \"SimpleThinker\", system_message=rt.llm.SystemMessage(system_message), llm_model=rt.llm.OpenAILLM(\"gpt-4o\")\n",
    ")"
   ]
  },
  {
   "cell_type": "code",
   "execution_count": 3,
   "id": "851e0c028731ccce",
   "metadata": {
    "ExecuteTime": {
     "end_time": "2025-04-04T19:16:52.629757Z",
     "start_time": "2025-04-04T19:16:51.162221Z"
    }
   },
   "outputs": [
    {
     "name": "stderr",
     "output_type": "stream",
     "text": [
      "[+2.170  s] RT          : INFO     - START CREATED SimpleThinker\n",
      "[+6.720  s] RT          : INFO     - SimpleThinker DONE\n",
      "[+6.720  s] RT.Runner   : INFO     - Saving execution info to .railtracks\\3e5e6f25-a1ad-47fd-91fb-7bbcb352b574.json\n"
     ]
    },
    {
     "name": "stdout",
     "output_type": "stream",
     "text": [
      "To add two numbers together, follow these steps:\n",
      "\n",
      "1. Write the numbers one above the other, aligning them by their rightmost digits.\n",
      "2. Start adding from the rightmost digit (the units column). If the sum of a column is 10 or greater, carry over the extra value to the next left column.\n",
      "3. Continue moving left, adding the digits and any carry-over from the previous column.\n",
      "4. Write down the final sum.\n",
      "\n",
      "For example, to add 23 and 47:\n",
      "\n",
      "```\n",
      "  23\n",
      "+ 47\n",
      "-----\n",
      "```\n",
      "\n",
      "Start with the rightmost digits: 3 + 7 = 10. Write down 0 and carry over 1.\n",
      "Next, add the tens digits plus the carry: 2 + 4 + 1 = 7.\n",
      "So the total is 70.\n"
     ]
    }
   ],
   "source": [
    "with rt.Runner() as run:\n",
    "    result = await run.run(\n",
    "        SimpleThinker,\n",
    "        rt.llm.MessageHistory(\n",
    "            [rt.llm.UserMessage(\"How should I add 2 number together\")]\n",
    "        ),\n",
    "    )\n",
    "\n",
    "print(result.answer)"
   ]
  },
  {
   "cell_type": "code",
   "execution_count": null,
   "id": "ac1a4c941bf4769c",
   "metadata": {
    "ExecuteTime": {
     "end_time": "2025-03-14T23:36:53.208540Z",
     "start_time": "2025-03-14T23:36:53.198538Z"
    }
   },
   "outputs": [],
   "source": []
  },
  {
   "cell_type": "code",
   "execution_count": null,
   "id": "f51a3ecdbc660bf7",
   "metadata": {},
   "outputs": [],
   "source": []
  }
 ],
 "metadata": {
  "kernelspec": {
   "display_name": ".venv",
   "language": "python",
   "name": "python3"
  },
  "language_info": {
   "codemirror_mode": {
    "name": "ipython",
    "version": 3
   },
   "file_extension": ".py",
   "mimetype": "text/x-python",
   "name": "python",
   "nbconvert_exporter": "python",
   "pygments_lexer": "ipython3",
   "version": "3.10.11"
  }
 },
 "nbformat": 4,
 "nbformat_minor": 5
}
