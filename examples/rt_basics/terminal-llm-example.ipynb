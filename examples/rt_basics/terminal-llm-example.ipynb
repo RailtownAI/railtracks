{
 "cells": [
  {
   "cell_type": "code",
   "execution_count": 1,
   "id": "initial_id",
   "metadata": {
    "ExecuteTime": {
     "end_time": "2025-04-04T19:16:50.594150Z",
     "start_time": "2025-04-04T19:16:48.538867Z"
    },
    "collapsed": true
   },
   "outputs": [
    {
     "name": "stderr",
     "output_type": "stream",
     "text": [
      "C:\\Users\\Logan\\Documents\\rc\\.venv\\lib\\site-packages\\requests\\__init__.py:86: RequestsDependencyWarning: Unable to find acceptable character detection dependency (chardet or charset_normalizer).\n",
      "  warnings.warn(\n"
     ]
    }
   ],
   "source": [
    "import railtracks as rt"
   ]
  },
  {
   "cell_type": "code",
   "execution_count": 2,
   "id": "367f51f456dd21bf",
   "metadata": {
    "ExecuteTime": {
     "end_time": "2025-04-04T19:16:50.620566Z",
     "start_time": "2025-04-04T19:16:50.614766Z"
    }
   },
   "outputs": [],
   "source": [
    "system_message = \"You are a helpful assistant with a simple mind that supplies simple solutions to any question.\"\n",
    "SimpleThinker = rt.library.terminal_llm(\n",
    "    \"SimpleThinker\", rt.llm.SystemMessage(system_message), rt.llm.OpenAILLM(\"gpt-4o\")\n",
    ")"
   ]
  },
  {
   "cell_type": "code",
   "execution_count": 3,
   "id": "851e0c028731ccce",
   "metadata": {
    "ExecuteTime": {
     "end_time": "2025-04-04T19:16:52.629757Z",
     "start_time": "2025-04-04T19:16:51.162221Z"
    }
   },
   "outputs": [
    {
     "name": "stdout",
     "output_type": "stream",
     "text": [
      "To add two numbers together, simply combine their values. For example, if you want to add 3 and 5, you calculate:\n",
      "\n",
      "3 + 5 = 8\n",
      "\n",
      "So, the sum of 3 and 5 is 8. Just follow this process for any two numbers you want to add.\n"
     ]
    }
   ],
   "source": [
    "with rt.Runner() as run:\n",
    "    result = await run.run(\n",
    "        SimpleThinker,\n",
    "        rt.llm.MessageHistory(\n",
    "            [rt.llm.UserMessage(\"How should I add 2 number together\")]\n",
    "        ),\n",
    "    )\n",
    "\n",
    "print(result.answer)"
   ]
  },
  {
   "cell_type": "code",
   "execution_count": null,
   "id": "ac1a4c941bf4769c",
   "metadata": {
    "ExecuteTime": {
     "end_time": "2025-03-14T23:36:53.208540Z",
     "start_time": "2025-03-14T23:36:53.198538Z"
    }
   },
   "outputs": [],
   "source": []
  },
  {
   "cell_type": "code",
   "execution_count": null,
   "id": "f51a3ecdbc660bf7",
   "metadata": {},
   "outputs": [],
   "source": []
  }
 ],
 "metadata": {
  "kernelspec": {
   "display_name": ".venv",
   "language": "python",
   "name": "python3"
  },
  "language_info": {
   "codemirror_mode": {
    "name": "ipython",
    "version": 3
   },
   "file_extension": ".py",
   "mimetype": "text/x-python",
   "name": "python",
   "nbconvert_exporter": "python",
   "pygments_lexer": "ipython3",
   "version": "3.10.11"
  }
 },
 "nbformat": 4,
 "nbformat_minor": 5
}
