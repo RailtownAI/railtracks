{
 "cells": [
  {
   "cell_type": "code",
   "execution_count": 1,
   "metadata": {},
   "outputs": [],
   "source": [
    "import railtracks as rt\n",
    "from pydantic import BaseModel, Field\n",
    "from copy import deepcopy\n",
    "import textwrap"
   ]
  },
  {
   "cell_type": "markdown",
   "metadata": {},
   "source": [
    "Make sure you have the environment set up correctly. For running this example successfully, you need the following API keys:\n",
    "```\n",
    "OPENAI_API_KEY\n",
    "HF_TOKEN\n",
    "```\n",
    "\n",
    "For more information on how to set up the environment, please refer to the DOCS LINK HERE\n"
   ]
  },
  {
   "cell_type": "code",
   "execution_count": 2,
   "metadata": {},
   "outputs": [],
   "source": [
    "openai_llm = rt.llm.OpenAILLM(\"gpt-4o\")\n",
    "hf_llm = rt.llm.HuggingFaceLLM(model_name=\"featherless-ai/mistralai/Mistral-7B-Instruct-v0.2\")        # good for terminal LLM but doesn't support tool calling\n",
    "\n",
    "\n",
    "class AnswerPrediction(BaseModel):\n",
    "    quality_answer: bool = Field(\n",
    "        ..., description=\"The quality of the answer that was provided by the model.\"\n",
    "    )\n",
    "\n",
    "\n",
    "system_c_o_t = rt.llm.SystemMessage(\n",
    "    \"You are extremley intellegnt reviewer of information that ponders the provided question and context to provide a simple one paragraph plan where you discuss you thinking process and how you would go about answering the question, without explictely answer the question.\"\n",
    ")\n",
    "system_answer = rt.llm.SystemMessage(\n",
    "    \"You are a helpful assistant that works tirelessly to answer a question using the provided context as a guide to answer the question.\"\n",
    ")\n",
    "system_answer_reviewer = rt.llm.SystemMessage(\n",
    "    \"You are a reviewer of the plan that was provided by the model and will determine if the plan is feasible and if it will accomplish the task that was asked of you. Be harsh and clear when the plan is not adequete.\"\n",
    ")\n",
    "\n",
    "\n",
    "COTNode = rt.agent_node(\"COT\", system_message=system_c_o_t, llm_model=openai_llm)\n",
    "AnswerNode = rt.agent_node(\n",
    "    \"Answerer\", system_message=system_answer, llm_model=hf_llm\n",
    ")\n",
    "ReviewerNode = rt.agent_node(\n",
    "    output_schema=AnswerPrediction,\n",
    "    name=\"AnswerReviewer\",\n",
    "    system_message=system_answer_reviewer,\n",
    "    llm_model=openai_llm,\n",
    ")\n",
    "\n",
    "\n",
    "async def COTLLM(message_history: rt.llm.MessageHistory, number_trails: int = 4):\n",
    "    original_message_history = deepcopy(message_history)\n",
    "    for _ in range(number_trails):\n",
    "        cot_response = await rt.call(COTNode, user_input=message_history)\n",
    "\n",
    "        message_history.append(rt.llm.AssistantMessage(\"My plan:\" + cot_response.text))\n",
    "\n",
    "        answer_response = await rt.call(ReviewerNode, user_input=message_history)\n",
    "        if not answer_response.structured.quality_answer:\n",
    "            continue\n",
    "        else:\n",
    "            break\n",
    "\n",
    "    original_message_history.append(\n",
    "        rt.llm.UserMessage(\"Contextual Plan: \" + cot_response.text)\n",
    "    )\n",
    "    response = await rt.call(AnswerNode, user_input=original_message_history)\n",
    "\n",
    "    return cot_response.text, response.text\n",
    "\n",
    "\n",
    "ChainOfThought = rt.function_node(COTLLM)"
   ]
  },
  {
   "cell_type": "code",
   "execution_count": 3,
   "metadata": {},
   "outputs": [
    {
     "name": "stdout",
     "output_type": "stream",
     "text": [
      "Using existing session\n"
     ]
    },
    {
     "name": "stderr",
     "output_type": "stream",
     "text": [
      "[+3.330  s] RT          : INFO     - START CREATED COTLLM\n",
      "[+3.333  s] RT          : INFO     - COTLLM CREATED COT\n",
      "[+9.954  s] RT          : INFO     - COT DONE\n",
      "[+9.957  s] RT          : INFO     - COTLLM CREATED AnswerReviewer\n",
      "[+10.840 s] RT          : INFO     - AnswerReviewer DONE\n",
      "[+10.840 s] RT          : INFO     - COTLLM CREATED Answerer\n",
      "[+40.419 s] RT          : INFO     - Answerer DONE\n",
      "[+40.422 s] RT          : INFO     - COTLLM DONE\n",
      "[+40.424 s] RT.Session  : INFO     - Saving execution info to .railtracks\\df73525c-caa9-4f5b-8672-9dab88a02e6e.json\n"
     ]
    }
   ],
   "source": [
    "message_history = rt.llm.MessageHistory([rt.llm.UserMessage(\"\")])\n",
    "with rt.Session() as runner:\n",
    "    response = await rt.call(ChainOfThought, message_history=message_history)\n"
   ]
  },
  {
   "cell_type": "code",
   "execution_count": 4,
   "metadata": {},
   "outputs": [
    {
     "name": "stdout",
     "output_type": "stream",
     "text": [
      "COT plan: \n",
      "What is the role of social media in shaping public opinion?   To tackle the question of social media's role in shaping public opinion, I would first consider the historical context of media influences\n",
      "on society and compare traditional media's influence to social media's, especially in terms of speed and reach. I would examine case studies where social media has played a pivotal role in shaping\n",
      "public discourse, such as political campaigns, social movements, and public health information dissemination. Additionally, analyzing the algorithms behind social media platforms would reveal how\n",
      "information is curated and presented to users, which could influence opinions. I would also explore the role of influencers and user-generated content in creating echo chambers or diversifying\n",
      "perspectives. Finally, I would consider both the benefits and challenges, such as the rapid spread of misinformation versus the democratization of information access, in my evaluation. This multi-\n",
      "faceted approach would provide a comprehensive understanding of the impact of social media on public opinion.\n",
      "-------------------\n",
      "Answer:  In order to fully answer the question of how social media shapes public opinion, let's break down the context provided and explore each aspect in detail:\n",
      "\n",
      "1. Historical Context: Media has always influenced society, but social media introduces new factors. Traditional media such as TV, radio, and print have traditionally shaped public opinion through the control of information dissemination. However, social media has drastically changed the playing field by making it easier for individuals to produce and share content with each other instantaneously.\n",
      "\n",
      "2. Speed and Reach: Social media's strengths lie in its speed and reach. Information spreads rapidly, and individuals can engage in real-time discussions. For example, during political campaigns or breaking news events, social media platforms can become the primary source of information, shaping public discourse almost in real-time.\n",
      "\n",
      "3. Case Studies: Several case studies can shed light on social media's role in shaping public opinion:\n",
      "   a. Political Campaigns: Social media has been increasingly used for political campaigns, with candidates and parties using platforms like Facebook, Twitter, and Instagram to reach voters, engage in debates, and build public support.\n",
      "   b. Social Movements: Social media has been instrumental in organizing, publicizing, and mobilizing followers for various social movements. For example, the Arab Spring and the Black Lives Matter movement were heavily fueled by social media to spread awareness and mobilize supporters.\n",
      "   c. Public Health Information: Social media has also played a significant role in disseminating information related to public health crises, such as the COVID-19 pandemic. However, it also poses a challenge as misinformation can spread quickly on these platforms, amplifying fear and confusion.\n",
      "\n",
      "4. Algorithms: The algorithms used by social media platforms can influence public opinion by curating content that caters to user preferences and interests. This can create echo chambers, where users are only exposed to content that aligns with their beliefs, strengthening their existing opinions.\n",
      "\n",
      "5. Influencers and User-Generated Content: Influencers and user-generated content can significantly impact public opinion on social media. Influencers, with their large followings, can influence opinions on various topics - from fashion to politics. User-generated content, while often unfiltered and diverse, can also create echo chambers or amplify misinformation.\n",
      "\n",
      "6. Benefits and Challenges: Social media offers both benefits and challenges in shaping public opinion:\n",
      "   a. Rapid Spread of Information: Social media's power lies in its ability to spread information quickly, making it an essential tool for political campaigns, social movements, and crisis management.\n",
      "   b. Democratization of Information: Anyone with an internet connection can produce and share content, democratizing access to information and allowing underrepresented voices to be heard.\n",
      "   c. Misinformation: Social media also offers a platform for the rapid spread of misinformation, which can create fear and confusion, fueling biases and polarizing opinions.\n",
      "\n",
      "By taking a multi-faceted approach, considering the historical context, exploring the specific role of social media in various contexts, and recognizing both the benefits and challenges, we can gain a comprehensive understanding of social media's impact on shaping public opinion.\n"
     ]
    }
   ],
   "source": [
    "print(\"COT plan: \")\n",
    "for line in textwrap.wrap(response[0], width=200):\n",
    "    print(line)\n",
    "print(\"-------------------\")\n",
    "print(\"Answer: \" + response[1])"
   ]
  },
  {
   "cell_type": "code",
   "execution_count": null,
   "metadata": {},
   "outputs": [],
   "source": []
  }
 ],
 "metadata": {
  "kernelspec": {
   "display_name": ".venv",
   "language": "python",
   "name": "python3"
  },
  "language_info": {
   "codemirror_mode": {
    "name": "ipython",
    "version": 3
   },
   "file_extension": ".py",
   "mimetype": "text/x-python",
   "name": "python",
   "nbconvert_exporter": "python",
   "pygments_lexer": "ipython3",
   "version": "3.10.11"
  }
 },
 "nbformat": 4,
 "nbformat_minor": 2
}
