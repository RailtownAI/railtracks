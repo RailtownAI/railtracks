{
 "cells": [
  {
   "cell_type": "code",
   "execution_count": 2,
   "metadata": {},
   "outputs": [],
   "source": [
    "import railtracks as rt\n",
    "from pydantic import BaseModel, Field\n",
    "from copy import deepcopy"
   ]
  },
  {
   "cell_type": "code",
   "execution_count": 20,
   "metadata": {},
   "outputs": [],
   "source": [
    "gpt_4o = rt.llm.OpenAILLM(\"gpt-4o\")\n",
    "\n",
    "\n",
    "class AnswerPrediction(BaseModel):\n",
    "    quality_answer: bool = Field(\n",
    "        ..., description=\"The quality of the answer that was provided by the model.\"\n",
    "    )\n",
    "\n",
    "\n",
    "system_c_o_t = rt.llm.SystemMessage(\n",
    "    \"You are extremley intellegnt reviewer of information that ponders the provided question and context to provide a simple one paragraph plan where you discuss you thinking process and how you would go about answering the question, without explictely answer the question.\"\n",
    ")\n",
    "system_answer = rt.llm.SystemMessage(\n",
    "    \"You are a helpful assistant that works tirelessly to answer a question using the provided context as a guide to answer the question.\"\n",
    ")\n",
    "system_answer_reviewer = rt.llm.SystemMessage(\n",
    "    \"You are a reviewer of the plan that was provided by the model and will determine if the plan is feasible and if it will accomplish the task that was asked of you. Be harsh and clear when the plan is not adequete.\"\n",
    ")\n",
    "\n",
    "\n",
    "COTNode = rt.library.terminal_llm(\"COT\", system_message=system_c_o_t, model=gpt_4o)\n",
    "AnswerNode = rt.library.terminal_llm(\n",
    "    \"Answerer\", system_message=system_answer, model=gpt_4o\n",
    ")\n",
    "ReviewerNode = rt.library.structured_llm(\n",
    "    pretty_name=\"AnswerReviewer\",\n",
    "    output_model=AnswerPrediction,\n",
    "    system_message=system_answer_reviewer,\n",
    "    model=gpt_4o,\n",
    ")\n",
    "\n",
    "\n",
    "async def COTLLM(message_history: rt.llm.MessageHistory, number_trails: int = 4):\n",
    "    original_message_history = deepcopy(message_history)\n",
    "    for _ in range(number_trails):\n",
    "        cot_response = await rt.call(COTNode, message_history=message_history)\n",
    "\n",
    "        message_history.append(rt.llm.AssistantMessage(\"My plan:\" + cot_response))\n",
    "\n",
    "        answer_response = await rt.call(ReviewerNode, message_history=message_history)\n",
    "        if not answer_response.quality_answer:\n",
    "            continue\n",
    "        else:\n",
    "            break\n",
    "\n",
    "    original_message_history.append(\n",
    "        rt.llm.UserMessage(\"Contextual Plan: \" + cot_response)\n",
    "    )\n",
    "    response = await rt.call(AnswerNode, message_history=original_message_history)\n",
    "\n",
    "    return cot_response, response\n",
    "\n",
    "\n",
    "ChainOfThought = rt.library.from_function(COTLLM)"
   ]
  },
  {
   "cell_type": "code",
   "execution_count": null,
   "metadata": {},
   "outputs": [
    {
     "name": "stderr",
     "output_type": "stream",
     "text": [
      "c:\\Users\\Logan\\Documents\\rc\\.venv\\lib\\site-packages\\railtracks\\nodes\\library\\terminal_llm.py:22: UserWarning: System message already exists in message history. We will replace it.\n",
      "  warnings.warn(\"System message already exists in message history. We will replace it.\")\n"
     ]
    },
    {
     "name": "stdout",
     "output_type": "stream",
     "text": [
      "COT plan: To address the question of how to make a cake, I would start by considering the fundamental components and steps involved in cake baking. First, I would identify the basic ingredients typically required, such as flour, sugar, eggs, butter, and a leavening agent like baking powder or baking soda. Next, I would explore the process of combining these ingredients, which usually involves creaming the butter and sugar, adding eggs, and then alternating between adding dry and wet ingredients. I would also consider the importance of preheating the oven to the correct temperature and preparing the baking pan to prevent sticking. Additionally, I would think about the different types of cakes, such as sponge, butter, or chiffon, as each might have specific techniques or variations in the method. Finally, I would reflect on the cooling and decorating process, which can be crucial for the final presentation and taste. By organizing these thoughts, I would be able to construct a clear and concise guide to making a cake.\n",
      "-------------------\n",
      "Answer: To make a basic cake, follow these steps:\n",
      "\n",
      "### Ingredients:\n",
      "- 1 cup (2 sticks) unsalted butter, softened\n",
      "- 1 ½ cups granulated sugar\n",
      "- 4 large eggs\n",
      "- 2 teaspoons vanilla extract\n",
      "- 3 cups all-purpose flour\n",
      "- 1 tablespoon baking powder\n",
      "- ½ teaspoon salt\n",
      "- 1 cup milk\n",
      "\n",
      "### Instructions:\n",
      "\n",
      "1. **Preheat the Oven:**\n",
      "   - Preheat your oven to 350°F (175°C). Grease and flour two 9-inch round cake pans or line them with parchment paper.\n",
      "\n",
      "2. **Prepare the Batter:**\n",
      "   - In a large mixing bowl, cream the butter and sugar together until light and fluffy. This usually takes about 3-5 minutes with an electric mixer.\n",
      "   - Add the eggs one at a time, beating well after each addition. Stir in the vanilla extract.\n",
      "   - In a separate bowl, whisk together the flour, baking powder, and salt.\n",
      "   - Gradually add the dry ingredients to the creamed mixture, alternating with the milk. Begin and end with the flour mixture. Mix until just combined, being careful not to overmix.\n",
      "\n",
      "3. **Bake the Cake:**\n",
      "   - Divide the batter evenly between the prepared cake pans. Smooth the tops with a spatula.\n",
      "   - Bake in the preheated oven for 25-30 minutes, or until a toothpick inserted into the center of the cakes comes out clean.\n",
      "   - Allow the cakes to cool in the pans for about 10 minutes, then turn them out onto a wire rack to cool completely.\n",
      "\n",
      "4. **Decorate:**\n",
      "   - Once the cakes are completely cool, you can frost and decorate them as desired. You might use a simple buttercream frosting, whipped cream, or any other favorite icing.\n",
      "\n",
      "### Tips:\n",
      "- **Room Temperature Ingredients:** Ensure that your butter, eggs, and milk are at room temperature before starting. This helps in achieving a smooth batter.\n",
      "- **Measuring Flour:** Spoon the flour into your measuring cup and level it off with a knife to avoid packing it in, which can lead to a dense cake.\n",
      "- **Cooling:** Make sure the cakes are completely cool before frosting to prevent the icing from melting.\n",
      "\n",
      "By following these steps, you can create a delicious homemade cake. Enjoy your baking!\n"
     ]
    }
   ],
   "source": [
    "message_history = rt.llm.MessageHistory([rt.llm.UserMessage(\"\")])\n",
    "with rt.Runner() as runner:\n",
    "    response = await runner.run(ChainOfThought, message_history=message_history)\n",
    "\n",
    "print(\"COT plan: \" + response.answer[0])\n",
    "print(\"-------------------\")\n",
    "print(\"Answer: \" + response.answer[1])"
   ]
  },
  {
   "cell_type": "code",
   "execution_count": null,
   "metadata": {},
   "outputs": [],
   "source": []
  }
 ],
 "metadata": {
  "kernelspec": {
   "display_name": ".venv",
   "language": "python",
   "name": "python3"
  },
  "language_info": {
   "codemirror_mode": {
    "name": "ipython",
    "version": 3
   },
   "file_extension": ".py",
   "mimetype": "text/x-python",
   "name": "python",
   "nbconvert_exporter": "python",
   "pygments_lexer": "ipython3",
   "version": "3.10.11"
  }
 },
 "nbformat": 4,
 "nbformat_minor": 2
}
