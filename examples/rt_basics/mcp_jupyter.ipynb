{
 "cells": [
  {
   "cell_type": "code",
   "execution_count": 1,
   "id": "2bfd0ca4eb3a0c1",
   "metadata": {
    "ExecuteTime": {
     "end_time": "2025-07-24T21:00:28.188145Z",
     "start_time": "2025-07-24T21:00:22.283881Z"
    }
   },
   "outputs": [],
   "source": [
    "# MCP Tools in Jupyter Notebooks\n",
    "# ------------------------------\n",
    "# IMPORTANT: When using MCP tools in Jupyter notebooks, HTTP-based MCP servers are recommended.\n",
    "# Stdio-based MCP servers (MCPStdioParams) are now supported with compatibility patches,\n",
    "# but may have limited functionality. You'll see a warning when using them in Jupyter.\n",
    "\n",
    "import railtracks as rt\n",
    "from railtracks.rt_mcp import MCPHttpParams, MCPStdioParams\n",
    "\n"
   ]
  },
  {
   "cell_type": "code",
   "execution_count": 2,
   "id": "56b7f54469b396ef",
   "metadata": {
    "ExecuteTime": {
     "end_time": "2025-07-24T21:00:29.844360Z",
     "start_time": "2025-07-24T21:00:28.392886Z"
    }
   },
   "outputs": [],
   "source": [
    "# Example 1: Using HTTP-based MCP servers (RECOMMENDED for Jupyter)\n",
    "# -----------------------------------------------------------------\n",
    "# HTTP-based MCP servers work well in Jupyter notebooks and should be used whenever possible\n",
    "fetch_server = rt.connect_mcp(MCPHttpParams(url=\"https://remote.mcpservers.org/fetch/mcp\"))\n",
    "fetch_tools = fetch_server.tools"
   ]
  },
  {
   "cell_type": "code",
   "execution_count": 3,
   "id": "eaf342bcf8658625",
   "metadata": {
    "ExecuteTime": {
     "end_time": "2025-07-24T21:00:30.738322Z",
     "start_time": "2025-07-24T21:00:29.875270Z"
    }
   },
   "outputs": [],
   "source": [
    "# Example 2: Using stdio-based MCP servers (NOW SUPPORTED with compatibility patches)\n",
    "# ---------------------------------------------------------------------------------\n",
    "# With the new Jupyter compatibility patches, stdio-based MCP servers now work in Jupyter notebooks\n",
    "# You'll see a warning about potential limitations, but the code should run successfully\n",
    "\n",
    "# NOTE: Make sure you have `mcp-server-time` installed in your environment: https://pypi.org/project/mcp-server-time/ \n",
    "# Define the command and arguments for the stdio-based MCP server\n",
    "# Note: You'll need to adjust these paths for your environment\n",
    "MCP_COMMAND = \"python\"  # Path to your executable\n",
    "MCP_ARGS = [\"-m\", \"mcp_server_time\"]                      # Arguments for the executable\n",
    "\n",
    "# Create the stdio-based MCP server\n",
    "# This will show a warning but should work with the compatibility patches\n",
    "time_stdio_server = rt.connect_mcp(MCPStdioParams(command=MCP_COMMAND, args=MCP_ARGS))\n",
    "time_stdio_tools = time_stdio_server.tools\n"
   ]
  },
  {
   "cell_type": "code",
   "execution_count": 4,
   "id": "ed9fdf4100d3b074",
   "metadata": {
    "ExecuteTime": {
     "end_time": "2025-07-24T21:02:58.725758Z",
     "start_time": "2025-07-24T21:02:58.714993Z"
    }
   },
   "outputs": [],
   "source": [
    "# Create a parent tool that can use all the tools from both HTTP and stdio MCP servers\n",
    "parent_tool = rt.agent_node(\n",
    "    \"Parent Tool\",\n",
    "    tool_nodes={*fetch_tools, *time_stdio_tools},\n",
    "    system_message=rt.llm.SystemMessage(\"Provide a response using the tool when asked.\"),\n",
    "    llm_model=rt.llm.OpenAILLM(\"gpt-4o\"),\n",
    "    max_tool_calls=3,\n",
    ")\n"
   ]
  },
  {
   "cell_type": "code",
   "execution_count": 5,
   "id": "21919b952b500ba3",
   "metadata": {
    "ExecuteTime": {
     "end_time": "2025-07-24T21:03:13.822899Z",
     "start_time": "2025-07-24T21:03:03.745783Z"
    }
   },
   "outputs": [
    {
     "name": "stdout",
     "output_type": "stream",
     "text": [
      "Using existing session\n",
      "Response: **About Conductr.ai:**\n",
      "\n",
      "Conductr is described as the first end-to-end Developer Productivity Engineering (DPE) platform. It is designed to empower developers and teams by delivering pertinent insights to the right person at the right time and place. The platform aims to streamline software development processes through automation, smart insights, and streamlined CI/CD.\n",
      "\n",
      "Some highlights of Conductr include:\n",
      "- Integration of quality, security, and performance early in the development cycle.\n",
      "- Enhanced continuous delivery through efficient and automated workflows.\n",
      "- Real-time insights and issue detection directly in the developer's IDE.\n",
      "- Features like Root Cause Agent for identifying errors and providing intelligent fix suggestions.\n",
      "- Development tools for daily stand-ups, deployment insights, and a velocity dashboard for tracking progress and optimizing workflows.\n",
      "\n",
      "**Current Time:**\n",
      "\n",
      "The current time in the America/Los_Angeles timezone is 14:07 (2:07 PM).\n"
     ]
    }
   ],
   "source": [
    "with rt.Session(logging_setting=\"QUIET\", timeout=1000):\n",
    "    response = await rt.call(\n",
    "        parent_tool,\n",
    "        user_input=\"Tell me about conductr.ai. Then, tell me what time it is.\",\n",
    "    )\n",
    "\n",
    "    print(\"Response:\", response.text)"
   ]
  }
 ],
 "metadata": {
  "kernelspec": {
   "display_name": ".venv",
   "language": "python",
   "name": "python3"
  },
  "language_info": {
   "codemirror_mode": {
    "name": "ipython",
    "version": 3
   },
   "file_extension": ".py",
   "mimetype": "text/x-python",
   "name": "python",
   "nbconvert_exporter": "python",
   "pygments_lexer": "ipython3",
   "version": "3.10.11"
  }
 },
 "nbformat": 4,
 "nbformat_minor": 5
}
