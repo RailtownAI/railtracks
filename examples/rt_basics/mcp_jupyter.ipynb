{
 "cells": [
  {
   "metadata": {
    "ExecuteTime": {
     "end_time": "2025-07-24T21:00:28.188145Z",
     "start_time": "2025-07-24T21:00:22.283881Z"
    }
   },
   "cell_type": "code",
   "source": [
    "# MCP Tools in Jupyter Notebooks\n",
    "# ------------------------------\n",
    "# IMPORTANT: When using MCP tools in Jupyter notebooks, HTTP-based MCP servers are recommended.\n",
    "# Stdio-based MCP servers (MCPStdioParams) are now supported with compatibility patches,\n",
    "# but may have limited functionality. You'll see a warning when using them in Jupyter.\n",
    "\n",
    "import asyncio\n",
    "import railtracks as rt\n",
    "from railtracks.nodes.library.easy_usage_wrappers.mcp_tool import from_mcp_server\n",
    "from railtracks.rt_mcp import MCPHttpParams, MCPStdioParams\n",
    "\n"
   ],
   "id": "2bfd0ca4eb3a0c1",
   "outputs": [],
   "execution_count": 1
  },
  {
   "metadata": {
    "ExecuteTime": {
     "end_time": "2025-07-24T21:00:29.844360Z",
     "start_time": "2025-07-24T21:00:28.392886Z"
    }
   },
   "cell_type": "code",
   "source": [
    "# Example 1: Using HTTP-based MCP servers (RECOMMENDED for Jupyter)\n",
    "# -----------------------------------------------------------------\n",
    "# HTTP-based MCP servers work well in Jupyter notebooks and should be used whenever possible\n",
    "fetch_server = from_mcp_server(MCPHttpParams(url=\"https://remote.mcpservers.org/fetch/mcp\"))\n",
    "fetch_tools = fetch_server.tools"
   ],
   "id": "56b7f54469b396ef",
   "outputs": [
    {
     "name": "stdout",
     "output_type": "stream",
     "text": [
      "Attempting to import get_ipython from IPython...\n"
     ]
    }
   ],
   "execution_count": 2
  },
  {
   "metadata": {
    "ExecuteTime": {
     "end_time": "2025-07-24T21:00:30.738322Z",
     "start_time": "2025-07-24T21:00:29.875270Z"
    }
   },
   "cell_type": "code",
   "source": [
    "# Example 2: Using stdio-based MCP servers (NOW SUPPORTED with compatibility patches)\n",
    "# ---------------------------------------------------------------------------------\n",
    "# With the new Jupyter compatibility patches, stdio-based MCP servers now work in Jupyter notebooks\n",
    "# You'll see a warning about potential limitations, but the code should run successfully\n",
    "\n",
    "# Define the command and arguments for the stdio-based MCP server\n",
    "# Note: You'll need to adjust these paths for your environment\n",
    "MCP_COMMAND = \"uvx\"  # Path to your executable\n",
    "MCP_ARGS = [\"mcp-server-time\"]                      # Arguments for the executable\n",
    "\n",
    "# Create the stdio-based MCP server\n",
    "# This will show a warning but should work with the compatibility patches\n",
    "time_stdio_server = from_mcp_server(MCPStdioParams(command=MCP_COMMAND, args=MCP_ARGS))\n",
    "time_stdio_tools = time_stdio_server.tools\n"
   ],
   "id": "eaf342bcf8658625",
   "outputs": [
    {
     "name": "stdout",
     "output_type": "stream",
     "text": [
      "Attempting to import get_ipython from IPython...\n"
     ]
    }
   ],
   "execution_count": 3
  },
  {
   "metadata": {
    "ExecuteTime": {
     "end_time": "2025-07-24T20:18:46.699616Z",
     "start_time": "2025-07-24T20:18:46.689140Z"
    }
   },
   "cell_type": "code",
   "source": [
    "# Create a parent tool that can use all the tools from both HTTP and stdio MCP servers\n",
    "parent_tool = rt.library.tool_call_llm(\n",
    "    connected_nodes={*fetch_tools, *time_stdio_tools},\n",
    "    pretty_name=\"Parent Tool\",\n",
    "    system_message=rt.llm.SystemMessage(\"Provide a response using the tool when asked.\"),\n",
    "    llm_model=rt.llm.OpenAILLM(\"gpt-4o\"),\n",
    ")\n"
   ],
   "id": "ed9fdf4100d3b074",
   "outputs": [
    {
     "name": "stderr",
     "output_type": "stream",
     "text": [
      "C:\\Users\\Levi\\PycharmProjects\\rc\\src\\railtracks\\exceptions\\node_creation\\validation.py:219: UserWarning: You have set max_tool_calls to None. The llm will be able to make unlimited tool calls.\n",
      "  warnings.warn(\n"
     ]
    }
   ],
   "execution_count": 4
  },
  {
   "metadata": {
    "ExecuteTime": {
     "end_time": "2025-07-24T20:18:59.661973Z",
     "start_time": "2025-07-24T20:18:49.804513Z"
    }
   },
   "cell_type": "code",
   "source": [
    "user_message = (\"Tell me about conductr.ai. Then, tell me what time it is.\")\n",
    "\n",
    "with rt.Runner(executor_config=rt.ExecutorConfig(logging_setting=\"QUIET\", timeout=1000)) as runner:\n",
    "    message_history = rt.llm.MessageHistory(\n",
    "       [\n",
    "            rt.llm.UserMessage(\n",
    "                user_message\n",
    "            )\n",
    "        ]\n",
    "    )\n",
    "    response = await rt.call(parent_tool, user_input=message_history)\n",
    "\n",
    "    print(\"Response:\", response)\n"
   ],
   "id": "21919b952b500ba3",
   "outputs": [
    {
     "name": "stderr",
     "output_type": "stream",
     "text": [
      "C:\\Users\\Levi\\PycharmProjects\\rc\\src\\railtracks\\exceptions\\node_invocation\\validation.py:46: RuntimeWarning: You have set max_tool_calls to None. The llm will be able to make unlimited tool calls.\n",
      "  warnings.warn(\n"
     ]
    },
    {
     "name": "stdout",
     "output_type": "stream",
     "text": [
      "Response: assistant: **Conductr.ai Overview:**\n",
      "Conductr.ai is focused on enhancing developer productivity by integrating Developer Productivity Engineering (DPE) principles. It aims to streamline software development through automation, smart insights, and efficient CI/CD processes. Conductr helps developers shift left by integrating quality, security, and performance early into the development cycle. Key features include:\n",
      "- **Root Cause Agent:** Provides AI-powered alerts directly in the Integrated Development Environment (IDE) to surface errors and dependencies quickly.\n",
      "- **Development Team Tools:** Automatically generates daily standup updates, tracks errors, enhances team communication, and provides deployment insights.\n",
      "- **Velocity Dashboard:** Offers a central hub for tracking key data, making it easier for teams to identify areas for process improvement and make data-driven decisions.\n",
      "\n",
      "For more information, you can visit their official [website](https://conductr.ai).\n",
      "\n",
      "**Current Time in Los Angeles:**\n",
      "The current time in Los Angeles is 13:18 (1:18 PM) on July 24, 2025. It is Daylight Saving Time.\n"
     ]
    }
   ],
   "execution_count": 5
  }
 ],
 "metadata": {
  "kernelspec": {
   "display_name": "Python 3",
   "language": "python",
   "name": "python3"
  },
  "language_info": {
   "codemirror_mode": {
    "name": "ipython",
    "version": 2
   },
   "file_extension": ".py",
   "mimetype": "text/x-python",
   "name": "python",
   "nbconvert_exporter": "python",
   "pygments_lexer": "ipython2",
   "version": "2.7.6"
  }
 },
 "nbformat": 4,
 "nbformat_minor": 5
}
