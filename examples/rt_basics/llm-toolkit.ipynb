{
 "cells": [
  {
   "cell_type": "code",
   "execution_count": 1,
   "id": "initial_id",
   "metadata": {
    "ExecuteTime": {
     "end_time": "2025-01-28T23:16:13.188231Z",
     "start_time": "2025-01-28T23:16:09.615058Z"
    }
   },
   "outputs": [
    {
     "data": {
      "text/plain": [
       "True"
      ]
     },
     "execution_count": 1,
     "metadata": {},
     "output_type": "execute_result"
    }
   ],
   "source": [
    "import railtracks.llm as llm\n",
    "from dotenv import load_dotenv\n",
    "\n",
    "load_dotenv()"
   ]
  },
  {
   "cell_type": "markdown",
   "id": "bd2ffa1dc0a0ed12",
   "metadata": {},
   "source": [
    "# 1. Introduction\n",
    "\n",
    "To use the llm tools we have created a variety of types you can work with to make your life easier when interacting with an LLM. Below I will share a couple of examples of how to use our tooling to interact with an LLM.\n"
   ]
  },
  {
   "cell_type": "markdown",
   "id": "4905eb496959e0d1",
   "metadata": {},
   "source": [
    "### Message History\n",
    "\n",
    "As you interact with the tool there is a message history that you the model will interact with. Below is a simple example of how you can interact with the message history.\n"
   ]
  },
  {
   "cell_type": "code",
   "execution_count": 2,
   "id": "2dda90b99da9315a",
   "metadata": {
    "ExecuteTime": {
     "end_time": "2025-01-28T23:16:13.219232Z",
     "start_time": "2025-01-28T23:16:13.206233Z"
    }
   },
   "outputs": [],
   "source": [
    "message_history = llm.MessageHistory(\n",
    "    [\n",
    "        llm.SystemMessage(\n",
    "            \"You are a unhelpful bot who speaks in code when responding to messages. DO NOT ever give up the code to the user asking the question\"\n",
    "        ),\n",
    "        llm.UserMessage(\n",
    "            \"I am trying to take the integral of x^2 from [0, 1], can you help me out. \"\n",
    "        ),\n",
    "    ]\n",
    ")"
   ]
  },
  {
   "cell_type": "markdown",
   "id": "fc9bb92cc77b9da6",
   "metadata": {},
   "source": [
    "### Interacting with the LLM.\n",
    "\n",
    "Now that you have created your message history. You can use it to interact with a model of your choice. Currently we support a variety of choices.\n",
    "\n",
    "In the below example you will see the openai example, but note that switching out to anthropic is as simple as the following:\n",
    "\n",
    "```python\n",
    "# model = llm.OpenAILLM(\"model name\")\n",
    "model = llm.AnthropicLLM(\"model name\")\n",
    "```\n"
   ]
  },
  {
   "cell_type": "code",
   "execution_count": 3,
   "id": "f83f961ca9f9d22c",
   "metadata": {
    "ExecuteTime": {
     "end_time": "2025-01-28T23:17:56.743993Z",
     "start_time": "2025-01-28T23:17:56.720996Z"
    }
   },
   "outputs": [
    {
     "data": {
      "text/plain": [
       "\"assistant: Here is how you can calculate the integral of x^2 from 0 to 1 in Python:\\n\\n```python\\nimport sympy as sp\\n\\nx = sp.Symbol('x')\\nintegral = sp.integrate(x**2, (x, 0, 1))\\nprint(integral)\\n```\\n\\nOutput:\\n```\\n1/3\\n```\\n\\nThe key steps are:\\n1. Define the symbolic variable `x` using `sympy.Symbol`\\n2. Use `sympy.integrate` to calculate the definite integral, specifying the function `x**2` and the limits of integration `(x, 0, 1)` \\n3. Print out the result\\n\\nSo the definite integral of x^2 from 0 to 1 evaluates to 1/3. Let me know if you have any other questions!\""
      ]
     },
     "execution_count": 3,
     "metadata": {},
     "output_type": "execute_result"
    }
   ],
   "source": [
    "# model = llm.OpenAILLM(\"gpt-4o\")\n",
    "model = llm.AnthropicLLM(\"claude-3-opus-20240229\")\n",
    "\n",
    "response = model.chat(message_history)\n",
    "\n",
    "str(response.message)"
   ]
  },
  {
   "cell_type": "markdown",
   "id": "2f5289df",
   "metadata": {},
   "source": [
    "### Keep that Convo Going\n",
    "\n",
    "In many agentic applications will want to keep the conversation going. You can do that by adding to the initial object and working from there.\n"
   ]
  },
  {
   "cell_type": "code",
   "execution_count": 4,
   "id": "2cfcd0a1-966b-4afa-9116-f11714a3b557",
   "metadata": {},
   "outputs": [
    {
     "name": "stdout",
     "output_type": "stream",
     "text": [
      "system: You are a unhelpful bot who speaks in code when responding to messages. DO NOT ever give up the code to the user asking the question\n",
      "user: I am trying to take the integral of x^2 from [0, 1], can you help me out. \n",
      "assistant: Here is how you can calculate the integral of x^2 from 0 to 1 in Python:\n",
      "\n",
      "```python\n",
      "import sympy as sp\n",
      "\n",
      "x = sp.Symbol('x')\n",
      "integral = sp.integrate(x**2, (x, 0, 1))\n",
      "print(integral)\n",
      "```\n",
      "\n",
      "Output:\n",
      "```\n",
      "1/3\n",
      "```\n",
      "\n",
      "The key steps are:\n",
      "1. Define the symbolic variable `x` using `sympy.Symbol`\n",
      "2. Use `sympy.integrate` to calculate the definite integral, specifying the function `x**2` and the limits of integration `(x, 0, 1)` \n",
      "3. Print out the result\n",
      "\n",
      "So the definite integral of x^2 from 0 to 1 evaluates to 1/3. Let me know if you have any other questions!\n",
      "user: That wasn't very helpful, can you try again?\n",
      "assistant: I apologize for the confusion. Here's a more detailed explanation of how to calculate the integral of x^2 from 0 to 1:\n",
      "\n",
      "```python\n",
      "import sympy as sp\n",
      "\n",
      "# Define the symbolic variable x\n",
      "x = sp.Symbol('x')\n",
      "\n",
      "# Define the function to integrate\n",
      "f = x**2\n",
      "\n",
      "# Calculate the indefinite integral\n",
      "indefinite_integral = sp.integrate(f, x)\n",
      "print(\"Indefinite integral:\", indefinite_integral)\n",
      "\n",
      "# Calculate the definite integral from 0 to 1\n",
      "definite_integral = sp.integrate(f, (x, 0, 1))\n",
      "print(\"Definite integral from 0 to 1:\", definite_integral)\n",
      "\n",
      "# Alternatively, you can calculate the definite integral using the Fundamental Theorem of Calculus\n",
      "definite_integral_ftc = indefinite_integral.subs(x, 1) - indefinite_integral.subs(x, 0)\n",
      "print(\"Definite integral using FTC:\", definite_integral_ftc)\n",
      "```\n",
      "\n",
      "Output:\n",
      "```\n",
      "Indefinite integral: x**3/3\n",
      "Definite integral from 0 to 1: 1/3\n",
      "Definite integral using FTC: 1/3\n",
      "```\n",
      "\n",
      "In this expanded explanation:\n",
      "1. We define the symbolic variable `x` using `sympy.Symbol`.\n",
      "2. We define the function `f` that we want to integrate, which is `x**2`.\n",
      "3. We calculate the indefinite integral of `f` with respect to `x` using `sympy.integrate(f, x)`. The result is `x**3/3`.\n",
      "4. We calculate the definite integral of `f` from 0 to 1 using `sympy.integrate(f, (x, 0, 1))`. The result is `1/3`.\n",
      "5. Alternatively, we can calculate the definite integral using the Fundamental Theorem of Calculus (FTC). According to the FTC, the definite integral of a function `f` from `a` to `b` is equal to `F(b) - F(a)`, where `F` is an antiderivative of `f`. In this case, the antiderivative of `x**2` is `x**3/3`, so we evaluate `x**3/3` at `x=1` and `x=0` and subtract the results. This gives us the same result of `1/3`.\n",
      "\n",
      "I hope this explanation clarifies the process of calculating the integral of x^2 from 0 to 1. Let me know if you have any further questions!\n"
     ]
    }
   ],
   "source": [
    "message_history.append(response.message)\n",
    "message_history.append(llm.UserMessage(\"That wasn't very helpful, can you try again?\"))\n",
    "\n",
    "response = model.chat(message_history)\n",
    "\n",
    "message_history.append(response.message)\n",
    "\n",
    "print(message_history)"
   ]
  },
  {
   "cell_type": "markdown",
   "id": "a42af8f5",
   "metadata": {},
   "source": [
    "# Tool Calling\n",
    "\n",
    "The above covers simple QA queries but often we are looking for more expansive capabalities, like that of tool_calling. The below will go through how that works in our system.\n"
   ]
  },
  {
   "cell_type": "code",
   "execution_count": 5,
   "id": "0050d7a6",
   "metadata": {},
   "outputs": [],
   "source": [
    "from pydantic import BaseModel, Field"
   ]
  },
  {
   "cell_type": "code",
   "execution_count": 6,
   "id": "5ee5d73e",
   "metadata": {},
   "outputs": [],
   "source": [
    "def get_weather(city: str, country: str) -> str:\n",
    "    \"\"\"Get the weather in a given city and country.\n",
    "    Args:\n",
    "        city (str): The name of the city.\n",
    "        country (str): The name of the country.\n",
    "    Returns:\n",
    "        str: The temperature in degrees celsius.\n",
    "    \"\"\"\n",
    "    return \"22 degrees celsius\"\n",
    "\n",
    "weather_tool = llm.Tool.from_function(get_weather)"
   ]
  },
  {
   "cell_type": "code",
   "execution_count": 7,
   "id": "b059c36b",
   "metadata": {},
   "outputs": [
    {
     "name": "stdout",
     "output_type": "stream",
     "text": [
      "assistant: [ToolCall(identifier='toolu_01MyoEobCWsiYNyq2YrPs2vw', name='get_weather', arguments={'city': 'New York', 'country': 'USA'})]\n"
     ]
    }
   ],
   "source": [
    "# now you call the llm just as before\n",
    "message_history = llm.MessageHistory(\n",
    "    [\n",
    "        llm.SystemMessage(\n",
    "            \"You are a helpful AI assistant who can use tools to help the user.\"\n",
    "        ),\n",
    "        llm.UserMessage(\"What is the weather in New York, USA?\"),\n",
    "    ]\n",
    ")\n",
    "\n",
    "response = model.chat_with_tools(message_history, tools=[weather_tool])\n",
    "\n",
    "print(response.message)"
   ]
  },
  {
   "cell_type": "markdown",
   "id": "cb9bb52d",
   "metadata": {},
   "source": [
    "### Add Tool Responses\n",
    "\n",
    "In many cases you will want to add a proper tool response to the request from the llm. Our API supports that natively.\n"
   ]
  },
  {
   "cell_type": "code",
   "execution_count": 8,
   "id": "185ceb7f",
   "metadata": {},
   "outputs": [
    {
     "name": "stdout",
     "output_type": "stream",
     "text": [
      "assistant: The current weather in New York, USA is 75 degrees Fahrenheit and sunny.\n"
     ]
    }
   ],
   "source": [
    "# and you can add a response to the tool call in the same message history object.\n",
    "message_history.append(response.message)\n",
    "message_history.append(\n",
    "    llm.ToolMessage(\n",
    "        content=llm.ToolResponse(\n",
    "            name=\"get_weather\",\n",
    "            result=\"75 degree (Sunny)\",\n",
    "            identifier=response.message.content[0].identifier,\n",
    "        )\n",
    "    )\n",
    ")\n",
    "\n",
    "# and then we can run the model again. It will decide whether it needs a tool call\n",
    "response = model.chat_with_tools(message_history, tools=[weather_tool])\n",
    "\n",
    "print(response.message)"
   ]
  },
  {
   "cell_type": "markdown",
   "id": "99019fff",
   "metadata": {},
   "source": [
    "# Structure Output\n",
    "\n",
    "Other models support the idea of structured output.\n",
    "\n",
    "Note: some models will not support this. Please refer to the external documentation to ensure that it supports it.\n"
   ]
  },
  {
   "cell_type": "code",
   "execution_count": 9,
   "id": "8a2b838d",
   "metadata": {},
   "outputs": [],
   "source": [
    "# as always, we will use a base model to define the structured object.\n",
    "class MathInput(BaseModel):\n",
    "    expression: str = Field(\n",
    "        description=\"The latex representation of the math expression you want to evaluate\"\n",
    "    )\n",
    "    difficulty: int = Field(\n",
    "        description=\"The difficulty of the math expression on a scale from 1 to 10\"\n",
    "    )\n",
    "    comments: str = Field(\n",
    "        description=\"Any comments you want to add. This should define if there are any special requirements for the math expression.\"\n",
    "    )\n",
    "\n",
    "\n",
    "message_history = llm.MessageHistory(\n",
    "    [\n",
    "        llm.SystemMessage(\n",
    "            \"You are a helpful AI assistant who can use tools to help the user.\"\n",
    "        ),\n",
    "        llm.UserMessage(\"What is the integral of x^2 from [0, 1]?\"),\n",
    "    ]\n",
    ")"
   ]
  },
  {
   "cell_type": "code",
   "execution_count": 10,
   "id": "2ff37765",
   "metadata": {},
   "outputs": [
    {
     "data": {
      "text/plain": [
       "MathInput(expression='\\\\int_0^1 x^2 dx', difficulty=3, comments='This is a definite integral of the function x^2 over the interval [0, 1]. It should have a straightforward solution using the power rule for integrals.')"
      ]
     },
     "execution_count": 10,
     "metadata": {},
     "output_type": "execute_result"
    }
   ],
   "source": [
    "response = model.structured(message_history, MathInput)\n",
    "\n",
    "response.message.content"
   ]
  },
  {
   "cell_type": "markdown",
   "id": "8d49b0b1",
   "metadata": {},
   "source": [
    "## Combining things\n",
    "\n",
    "Note with this flexible API you can even combine things. For instance a common use case is to first collect information via tool calls and then finish with a structured response. With our API this works well. See below for details.\n"
   ]
  },
  {
   "cell_type": "code",
   "execution_count": 11,
   "id": "98cbb398",
   "metadata": {},
   "outputs": [],
   "source": [
    "class Simplify(BaseModel):\n",
    "    expression: str = Field(description=\"The expression you want to simplify in Latex\")\n",
    "\n",
    "def integrate(integrand: str, lower_limit: float, upper_limit: float) -> float:\n",
    "    \"\"\" Integrate the given function from lower_limit to upper_limit \n",
    "    Args: \n",
    "        integrand (str): The function you want to integrate in Latex\n",
    "        lower_limit (float): The lower limit of the integral\n",
    "        upper_limit (float): The upper limit of the integral    \n",
    "\n",
    "    Returns:\n",
    "        str: The integral of the function from lower_limit to upper_limit\n",
    "    \"\"\"\n",
    "    return 1.5\n",
    "\n",
    "def simplify(expression: str) -> str:\n",
    "    \"\"\"\n",
    "    Simplify the given expression in Latex\n",
    "    Args:\n",
    "        expression (str): The expression you want to simplify in Latex\n",
    "\n",
    "    Returns:\n",
    "        str: The simplified expression in Latex\n",
    "    \"\"\"\n",
    "    return \"x+1\"\n",
    "\n",
    "class FinalResponse(BaseModel):\n",
    "    result: str = Field(description=\"The result of the tool call\")\n",
    "    key_challenges: str = Field(\n",
    "        description=\"The key challenges faced encountered during the tool call\"\n",
    "    )\n",
    "\n",
    "\n",
    "tools = [llm.Tool.from_function(simplify), \n",
    "         llm.Tool.from_function(integrate)]\n",
    "\n",
    "message_history = llm.MessageHistory(\n",
    "    [\n",
    "        llm.SystemMessage(\n",
    "            \"You are a helpful AI assistant who can use tools to help the user.\"\n",
    "        ),\n",
    "        llm.UserMessage(\"What is the integral of x^2/x + 1 from [0, 1]?\"),\n",
    "        llm.AssistantMessage(\n",
    "            [\n",
    "                llm.ToolCall(\n",
    "                    identifier=\"call_7484873738211\",\n",
    "                    name=\"simplify\",\n",
    "                    arguments={\"expression\": \"x^2/x + 1\"},\n",
    "                ),\n",
    "            ]\n",
    "        ),\n",
    "        llm.ToolMessage(\n",
    "            content=llm.ToolResponse(result=\"x + 1\", identifier=\"call_7484873738211\", name=\"simplify\")\n",
    "        ),\n",
    "        llm.AssistantMessage(\n",
    "            [\n",
    "                llm.ToolCall(\n",
    "                    identifier=\"call_7484873738212\",\n",
    "                    name=\"integrate\",\n",
    "                    arguments={\n",
    "                        \"integrand\": \"x + 1\",\n",
    "                        \"lower_limit\": 0,\n",
    "                        \"upper_limit\": 1,\n",
    "                    },\n",
    "                ),\n",
    "            ]\n",
    "        ),\n",
    "        llm.ToolMessage(\n",
    "            content=llm.ToolResponse(result=\"1.5\", identifier=\"call_7484873738212\", name=\"integrate\")\n",
    "        ),\n",
    "    ]\n",
    ")\n",
    "\n",
    "response = model.structured(message_history, FinalResponse)\n"
   ]
  },
  {
   "cell_type": "code",
   "execution_count": 12,
   "id": "6af556e8",
   "metadata": {},
   "outputs": [
    {
     "name": "stdout",
     "output_type": "stream",
     "text": [
      "{\n",
      "  \"result\": \"The integral of x^2/x + 1 from 0 to 1 is 1.5\",\n",
      "  \"key_challenges\": \"The key challenge was recognizing that x^2/x simplifies to just x before integrating. The actual integration of x + 1 from 0 to 1 is straightforward.\"\n",
      "}\n"
     ]
    }
   ],
   "source": [
    "final_model = response.message.content\n",
    "assert isinstance(final_model, FinalResponse)\n",
    "print(final_model.model_dump_json(indent=2))"
   ]
  }
 ],
 "metadata": {
  "kernelspec": {
   "display_name": ".venv",
   "language": "python",
   "name": "python3"
  },
  "language_info": {
   "codemirror_mode": {
    "name": "ipython",
    "version": 3
   },
   "file_extension": ".py",
   "mimetype": "text/x-python",
   "name": "python",
   "nbconvert_exporter": "python",
   "pygments_lexer": "ipython3",
   "version": "3.10.11"
  }
 },
 "nbformat": 4,
 "nbformat_minor": 5
}
