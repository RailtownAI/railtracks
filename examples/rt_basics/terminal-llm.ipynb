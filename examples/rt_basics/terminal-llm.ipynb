{
 "cells": [
  {
   "cell_type": "markdown",
   "id": "5c626569d33a13ec",
   "metadata": {},
   "source": [
    "# Terminal LLM\n",
    "In the following document we will outline how to use the terminal LLM. It is a common use case for a simple LLM with a system prompt and a text output"
   ]
  },
  {
   "cell_type": "code",
   "id": "initial_id",
   "metadata": {
    "collapsed": true,
    "ExecuteTime": {
     "end_time": "2025-05-30T21:30:36.906266Z",
     "start_time": "2025-05-30T21:30:34.940791Z"
    }
   },
   "source": [
    "import railtracks as rt"
   ],
   "outputs": [
    {
     "name": "stderr",
     "output_type": "stream",
     "text": [
      "C:\\Users\\Logan\\Documents\\rc\\.venv\\lib\\site-packages\\requests\\__init__.py:86: RequestsDependencyWarning: Unable to find acceptable character detection dependency (chardet or charset_normalizer).\n",
      "  warnings.warn(\n"
     ]
    }
   ],
   "execution_count": 1
  },
  {
   "cell_type": "code",
   "id": "6f8ed72aa6cfc093",
   "metadata": {
    "ExecuteTime": {
     "end_time": "2025-05-30T21:30:38.070161Z",
     "start_time": "2025-05-30T21:30:38.054298Z"
    }
   },
   "source": [
    "system_message = rt.llm.SystemMessage(\"You are a helpful AI writing assistant. You should provide suggestions and corrections to the user's writing. Keep your advice concise and to the point.\")\n",
    "\n",
    "WritingEditor = rt.library.terminal_llm(\"Writing Editor\", system_message=system_message, model=rt.llm.OpenAILLM(\"gpt-4o\"))\n"
   ],
   "outputs": [],
   "execution_count": 2
  },
  {
   "cell_type": "code",
   "id": "372f4fbc62f01588",
   "metadata": {
    "ExecuteTime": {
     "end_time": "2025-05-30T21:30:43.367902Z",
     "start_time": "2025-05-30T21:30:39.401240Z"
    }
   },
   "source": [
    "# note the system message will be automatically added so don't include it in the message history\n",
    "mess_hist = rt.llm.MessageHistory([\n",
    "    rt.llm.UserMessage(\"I am a writer who is working on a novel. Here is my first paragraph: 'The sun was setting over the horizon, casting a warm glow over the landscape. The birds were chirping in the trees, and a gentle breeze rustled the leaves.'\"),\n",
    "])\n",
    "\n",
    "with rt.Runner() as runner:\n",
    "    info = await runner.run(WritingEditor, message_history=mess_hist)\n",
    "\n",
    "print(info.answer)"
   ],
   "outputs": [
    {
     "name": "stdout",
     "output_type": "stream",
     "text": [
      "Publishing message: RequestCreation(current_node_id=None, new_request_id=START, running_mode=async, new_node_type=TerminalLLMNode, args=(), kwargs={'message_history': [user: I am a writer who is working on a novel. Here is my first paragraph: 'The sun was setting over the horizon, casting a warm glow over the landscape. The birds were chirping in the trees, and a gentle breeze rustled the leaves.']})\n",
      "Handling item: RequestCreation(current_node_id=None, new_request_id=START, running_mode=async, new_node_type=TerminalLLMNode, args=(), kwargs={'message_history': [user: I am a writer who is working on a novel. Here is my first paragraph: 'The sun was setting over the horizon, casting a warm glow over the landscape. The birds were chirping in the trees, and a gentle breeze rustled the leaves.']})\n"
     ]
    },
    {
     "name": "stderr",
     "output_type": "stream",
     "text": [
      "C:\\Users\\Logan\\Documents\\rc\\.venv\\lib\\site-packages\\railtracks\\context.py:86: UserWarning: Overwriting previous global variable\n",
      "  warnings.warn(\"Overwriting previous global variable\")\n",
      "C:\\Users\\Logan\\Documents\\rc\\.venv\\lib\\site-packages\\railtracks\\state\\state.py:260: UserWarning: This is an insertion request and you provided identifier this will be overwritten\n",
      "  warnings.warn(\"This is an insertion request and you provided identifier this will be overwritten\")\n"
     ]
    },
    {
     "name": "stdout",
     "output_type": "stream",
     "text": [
      "Publishing message: RequestSuccess(request_id=START, node_state=<railtracks.nodes.nodes.NodeState object at 0x0000023D190D43A0>, result=Your opening paragraph sets a serene scene, but you might consider adding more specific details to make it more vivid. Here are a few suggestions:\n",
      "\n",
      "1. **Add Specificity**: Instead of \"the landscape,\" specify what kind of landscape it is (e.g., a meadow, a forest, a coastal view).\n",
      "   \n",
      "2. **Enhance Imagery**: Describe the colors of the sunset or the types of birds to create a more vivid picture.\n",
      "\n",
      "3. **Vary Sentence Structure**: Consider combining sentences for a smoother flow. For example: \"As the sun set over the horizon, it cast a warm glow across the meadow, where birds chirped in the trees and a gentle breeze rustled the leaves.\"\n",
      "\n",
      "These adjustments can help engage readers more deeply with your setting.)\n",
      "Handling item: RequestSuccess(request_id=START, node_state=<railtracks.nodes.nodes.NodeState object at 0x0000023D190D43A0>, result=Your opening paragraph sets a serene scene, but you might consider adding more specific details to make it more vivid. Here are a few suggestions:\n",
      "\n",
      "1. **Add Specificity**: Instead of \"the landscape,\" specify what kind of landscape it is (e.g., a meadow, a forest, a coastal view).\n",
      "   \n",
      "2. **Enhance Imagery**: Describe the colors of the sunset or the types of birds to create a more vivid picture.\n",
      "\n",
      "3. **Vary Sentence Structure**: Consider combining sentences for a smoother flow. For example: \"As the sun set over the horizon, it cast a warm glow across the meadow, where birds chirped in the trees and a gentle breeze rustled the leaves.\"\n",
      "\n",
      "These adjustments can help engage readers more deeply with your setting.)\n"
     ]
    },
    {
     "name": "stderr",
     "output_type": "stream",
     "text": [
      "C:\\Users\\Logan\\Documents\\rc\\.venv\\lib\\site-packages\\railtracks\\state\\state.py:111: RuntimeWarning: coroutine 'RCPublisher.shutdown' was never awaited\n",
      "  publisher.shutdown()\n",
      "RuntimeWarning: Enable tracemalloc to get the object allocation traceback\n"
     ]
    },
    {
     "name": "stdout",
     "output_type": "stream",
     "text": [
      "Your opening paragraph sets a serene scene, but you might consider adding more specific details to make it more vivid. Here are a few suggestions:\n",
      "\n",
      "1. **Add Specificity**: Instead of \"the landscape,\" specify what kind of landscape it is (e.g., a meadow, a forest, a coastal view).\n",
      "   \n",
      "2. **Enhance Imagery**: Describe the colors of the sunset or the types of birds to create a more vivid picture.\n",
      "\n",
      "3. **Vary Sentence Structure**: Consider combining sentences for a smoother flow. For example: \"As the sun set over the horizon, it cast a warm glow across the meadow, where birds chirped in the trees and a gentle breeze rustled the leaves.\"\n",
      "\n",
      "These adjustments can help engage readers more deeply with your setting.\n"
     ]
    }
   ],
   "execution_count": 3
  },
  {
   "cell_type": "code",
   "execution_count": null,
   "id": "8dace52aef3f2f1c",
   "metadata": {},
   "outputs": [],
   "source": []
  }
 ],
 "metadata": {
  "kernelspec": {
   "display_name": ".venv",
   "language": "python",
   "name": "python3"
  },
  "language_info": {
   "codemirror_mode": {
    "name": "ipython",
    "version": 3
   },
   "file_extension": ".py",
   "mimetype": "text/x-python",
   "name": "python",
   "nbconvert_exporter": "python",
   "pygments_lexer": "ipython3",
   "version": "3.10.11"
  }
 },
 "nbformat": 4,
 "nbformat_minor": 5
}
