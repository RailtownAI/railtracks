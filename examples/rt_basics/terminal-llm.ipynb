{
 "cells": [
  {
   "cell_type": "markdown",
   "id": "5c626569d33a13ec",
   "metadata": {},
   "source": [
    "# Terminal LLM\n",
    "In the following document we will outline how to use the terminal LLM. It is a common use case for a simple LLM with a system prompt and a text output"
   ]
  },
  {
   "cell_type": "code",
   "execution_count": null,
   "id": "initial_id",
   "metadata": {
    "ExecuteTime": {
     "end_time": "2025-05-30T21:30:36.906266Z",
     "start_time": "2025-05-30T21:30:34.940791Z"
    },
    "collapsed": true
   },
   "outputs": [],
   "source": [
    "import railtracks as rt"
   ]
  },
  {
   "cell_type": "code",
   "execution_count": null,
   "id": "6f8ed72aa6cfc093",
   "metadata": {
    "ExecuteTime": {
     "end_time": "2025-05-30T21:30:38.070161Z",
     "start_time": "2025-05-30T21:30:38.054298Z"
    }
   },
   "outputs": [],
   "source": [
    "system_message = rt.llm.SystemMessage(\"You are a helpful AI writing assistant. You should provide suggestions and corrections to the user's writing. Keep your advice concise and to the point.\")\n",
    "\n",
    "WritingEditor = rt.library.terminal_llm(\"Writing Editor\", system_message=system_message, llm_model=rt.llm.GeminiLLM(model_name=\"gemini-2.5-pro\"))\n"
   ]
  },
  {
   "cell_type": "code",
   "execution_count": null,
   "id": "372f4fbc62f01588",
   "metadata": {
    "ExecuteTime": {
     "end_time": "2025-05-30T21:30:43.367902Z",
     "start_time": "2025-05-30T21:30:39.401240Z"
    }
   },
   "outputs": [],
   "source": [
    "# note the system message will be automatically added so don't include it in the message history\n",
    "mess_hist = rt.llm.MessageHistory([\n",
    "    rt.llm.UserMessage(\"I am a writer who is working on a novel. Here is my first paragraph: 'The sun was setting over the horizon, casting a warm glow over the landscape. The birds were chirping in the trees, and a gentle breeze rustled the leaves.'\"),\n",
    "])\n",
    "\n",
    "with rt.Runner() as runner:\n",
    "    info = await runner.run(WritingEditor, user_input=mess_hist)\n",
    "\n",
    "print(info.answer)"
   ]
  },
  {
   "cell_type": "code",
   "execution_count": null,
   "id": "8dace52aef3f2f1c",
   "metadata": {},
   "outputs": [],
   "source": []
  }
 ],
 "metadata": {
  "kernelspec": {
   "display_name": ".venv",
   "language": "python",
   "name": "python3"
  },
  "language_info": {
   "codemirror_mode": {
    "name": "ipython",
    "version": 3
   },
   "file_extension": ".py",
   "mimetype": "text/x-python",
   "name": "python",
   "nbconvert_exporter": "python",
   "pygments_lexer": "ipython3",
   "version": "3.10.11"
  }
 },
 "nbformat": 4,
 "nbformat_minor": 5
}
