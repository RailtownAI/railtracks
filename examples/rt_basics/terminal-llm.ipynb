{
 "cells": [
  {
   "cell_type": "markdown",
   "id": "5c626569d33a13ec",
   "metadata": {},
   "source": [
    "# Terminal LLM\n",
    "In the following document we will outline how to use the terminal LLM. It is a common use case for a simple LLM with a system prompt and a text output"
   ]
  },
  {
   "cell_type": "code",
   "execution_count": 1,
   "id": "initial_id",
   "metadata": {
    "ExecuteTime": {
     "end_time": "2025-05-30T21:30:36.906266Z",
     "start_time": "2025-05-30T21:30:34.940791Z"
    },
    "collapsed": true
   },
   "outputs": [],
   "source": [
    "import railtracks as rt"
   ]
  },
  {
   "cell_type": "code",
   "execution_count": 2,
   "id": "6f8ed72aa6cfc093",
   "metadata": {
    "ExecuteTime": {
     "end_time": "2025-05-30T21:30:38.070161Z",
     "start_time": "2025-05-30T21:30:38.054298Z"
    }
   },
   "outputs": [],
   "source": [
    "system_message = rt.llm.SystemMessage(\n",
    "    \"You are a helpful AI writing assistant. You should provide suggestions and corrections to the user's writing. Keep your advice concise and to the point.\"\n",
    ")\n",
    "\n",
    "WritingEditor = rt.agent_node(\n",
    "    \"Writing Editor\",\n",
    "    system_message=system_message,\n",
    "    llm_model=rt.llm.GeminiLLM(model_name=\"gemini-2.5-pro\"),\n",
    ")"
   ]
  },
  {
   "cell_type": "code",
   "execution_count": 3,
   "id": "372f4fbc62f01588",
   "metadata": {
    "ExecuteTime": {
     "end_time": "2025-05-30T21:30:43.367902Z",
     "start_time": "2025-05-30T21:30:39.401240Z"
    }
   },
   "outputs": [
    {
     "name": "stdout",
     "output_type": "stream",
     "text": [
      "Using existing session\n"
     ]
    },
    {
     "name": "stderr",
     "output_type": "stream",
     "text": [
      "[+3.187  s] RT          : INFO     - START CREATED Writing Editor\n",
      "[+22.209 s] RT          : INFO     - Writing Editor DONE\n",
      "[+22.213 s] RT.Session  : INFO     - Saving execution info to .railtracks\\6fb66528-4fdb-413d-a2ed-c68d8527dec4.json\n"
     ]
    }
   ],
   "source": [
    "# note the system message will be automatically added so don't include it in the message history\n",
    "\n",
    "with rt.Session():\n",
    "    info = await rt.call(WritingEditor, user_input=\"Here is my first paragraph: 'The sun was setting over the horizon, casting a warm glow over the landscape. The birds were chirping in the trees, and a gentle breeze rustled the leaves.'\")\n"
   ]
  },
  {
   "cell_type": "code",
   "execution_count": 4,
   "id": "8dace52aef3f2f1c",
   "metadata": {},
   "outputs": [
    {
     "name": "stdout",
     "output_type": "stream",
     "text": [
      "This is a great start. Your paragraph is grammatically perfect and sets a clear, peaceful mood.\n",
      "\n",
      "For greater impact, consider adding more specific details:\n",
      "\n",
      "*   **Be more specific than 'landscape'.** Is it rolling hills, a flat plain, or a cityscape? Describing it will create a stronger image.\n",
      "*   **Use more active verbs.** Instead of \"The sun was setting,\" you could try \"The sun dipped below the hills\" or \"The sun bled across the horizon.\"\n",
      "*   **Combine your sentences for better flow.**\n",
      "\n",
      "**Example combining these ideas:**\n",
      "\n",
      "> As the sun dipped below the rolling hills, it painted the valley in a warm glow. A gentle breeze rustled the oak leaves, carrying the sound of sparrows settling in for the night.\n"
     ]
    }
   ],
   "source": [
    "print(info.text)\n"
   ]
  }
 ],
 "metadata": {
  "kernelspec": {
   "display_name": ".venv",
   "language": "python",
   "name": "python3"
  },
  "language_info": {
   "codemirror_mode": {
    "name": "ipython",
    "version": 3
   },
   "file_extension": ".py",
   "mimetype": "text/x-python",
   "name": "python",
   "nbconvert_exporter": "python",
   "pygments_lexer": "ipython3",
   "version": "3.10.11"
  }
 },
 "nbformat": 4,
 "nbformat_minor": 5
}
