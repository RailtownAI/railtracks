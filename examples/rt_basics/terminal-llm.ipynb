{
 "cells": [
  {
   "cell_type": "markdown",
   "id": "5c626569d33a13ec",
   "metadata": {},
   "source": [
    "# Terminal LLM\n",
    "In the following document we will outline how to use the terminal LLM. It is a common use case for a simple LLM with a system prompt and a text output"
   ]
  },
  {
   "cell_type": "code",
   "execution_count": 1,
   "id": "initial_id",
   "metadata": {
    "ExecuteTime": {
     "end_time": "2025-05-30T21:30:36.906266Z",
     "start_time": "2025-05-30T21:30:34.940791Z"
    },
    "collapsed": true
   },
   "outputs": [],
   "source": [
    "import railtracks as rt"
   ]
  },
  {
   "cell_type": "code",
   "execution_count": 2,
   "id": "6f8ed72aa6cfc093",
   "metadata": {
    "ExecuteTime": {
     "end_time": "2025-05-30T21:30:38.070161Z",
     "start_time": "2025-05-30T21:30:38.054298Z"
    }
   },
   "outputs": [],
   "source": [
    "system_message = rt.llm.SystemMessage(\"You are a helpful AI writing assistant. You should provide suggestions and corrections to the user's writing. Keep your advice concise and to the point.\")\n",
    "\n",
    "WritingEditor = rt.agent_node(\"Writing Editor\", system_message=system_message, llm_model=rt.llm.GeminiLLM(model_name=\"gemini-2.5-pro\"))\n"
   ]
  },
  {
   "cell_type": "code",
   "execution_count": 4,
   "id": "372f4fbc62f01588",
   "metadata": {
    "ExecuteTime": {
     "end_time": "2025-05-30T21:30:43.367902Z",
     "start_time": "2025-05-30T21:30:39.401240Z"
    }
   },
   "outputs": [
    {
     "name": "stdout",
     "output_type": "stream",
     "text": [
      "--------------------------------- None\n",
      "Creating new session\n",
      "(register_globals) Registering globals with runner_id: 22f5c0ca-3d12-43e8-adae-f5331d09c677, parent_id: None\n"
     ]
    },
    {
     "name": "stderr",
     "output_type": "stream",
     "text": [
      "[+9866.417s] RT          : INFO     - START CREATED Writing Editor\n",
      "[+9884.007s] RT          : INFO     - Writing Editor DONE\n",
      "[+9884.010s] RT.Session  : INFO     - Saving execution info to .railtracks\\22f5c0ca-3d12-43e8-adae-f5331d09c677.json\n"
     ]
    }
   ],
   "source": [
    "# note the system message will be automatically added so don't include it in the message history\n",
    "mess_hist = rt.llm.MessageHistory([\n",
    "    rt.llm.UserMessage(\"I am a writer who is working on a novel. Here is my first paragraph: 'The sun was setting over the horizon, casting a warm glow over the landscape. The birds were chirping in the trees, and a gentle breeze rustled the leaves.'\"),\n",
    "])\n",
    "\n",
    "info = await rt.call(WritingEditor, user_input=mess_hist)"
   ]
  },
  {
   "cell_type": "code",
   "execution_count": 5,
   "id": "8dace52aef3f2f1c",
   "metadata": {},
   "outputs": [
    {
     "name": "stdout",
     "output_type": "stream",
     "text": [
      "Of course. This is a solid, clear opening. To make it more evocative and unique, consider adding more specific details.\n",
      "\n",
      "Here are a few suggestions:\n",
      "\n",
      "**1. Show, Don't Tell:** Instead of stating \"the sun was setting,\" describe the light itself.\n",
      "**2. Be More Specific:** What kind of landscape? What kind of trees or birds? Specifics make a scene feel real.\n",
      "\n",
      "**Original:**\n",
      "> The sun was setting over the horizon, casting a warm glow over the landscape. The birds were chirping in the trees, and a gentle breeze rustled the leaves.\n",
      "\n",
      "Here are two potential revisions to illustrate the idea:\n",
      "\n",
      "**Revision 1 (More vivid):**\n",
      "> The sun bled crimson across the peaks of the mountains, bathing the valley in a fiery light. Sparrows chattered in the gnarled oak branches as a cool wind swept down from the high passes.\n",
      "\n",
      "**Revision 2 (More moody):**\n",
      "> Long, skeletal shadows stretched from the pines as the last sliver of sun vanished. A lone crow cawed from its perch, and the air grew still, heavy with the coming night.\n",
      "\n",
      "Adding specific details helps establish the mood and grounds the reader in your world right from the start.\n"
     ]
    }
   ],
   "source": [
    "print(info.content)"
   ]
  },
  {
   "cell_type": "code",
   "execution_count": null,
   "id": "d73cdb69",
   "metadata": {},
   "outputs": [],
   "source": []
  }
 ],
 "metadata": {
  "kernelspec": {
   "display_name": ".venv",
   "language": "python",
   "name": "python3"
  },
  "language_info": {
   "codemirror_mode": {
    "name": "ipython",
    "version": 3
   },
   "file_extension": ".py",
   "mimetype": "text/x-python",
   "name": "python",
   "nbconvert_exporter": "python",
   "pygments_lexer": "ipython3",
   "version": "3.10.11"
  }
 },
 "nbformat": 4,
 "nbformat_minor": 5
}
