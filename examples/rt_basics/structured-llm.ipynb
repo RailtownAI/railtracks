{
 "cells": [
  {
   "cell_type": "code",
   "execution_count": 1,
   "id": "initial_id",
   "metadata": {
    "ExecuteTime": {
     "end_time": "2025-02-10T20:42:53.462532Z",
     "start_time": "2025-02-10T20:42:53.446900Z"
    },
    "collapsed": true
   },
   "outputs": [
    {
     "name": "stderr",
     "output_type": "stream",
     "text": [
      "c:\\Users\\Logan\\Documents\\rc\\.venv\\lib\\site-packages\\requests\\__init__.py:86: RequestsDependencyWarning: Unable to find acceptable character detection dependency (chardet or charset_normalizer).\n",
      "  warnings.warn(\n"
     ]
    }
   ],
   "source": [
    "from typing import Type\n",
    "\n",
    "import railtracks as rt\n",
    "from pydantic import BaseModel, Field"
   ]
  },
  {
   "cell_type": "code",
   "execution_count": 3,
   "id": "d3fde2cab70fbd26",
   "metadata": {
    "ExecuteTime": {
     "end_time": "2025-02-10T20:44:55.318391Z",
     "start_time": "2025-02-10T20:44:55.302762Z"
    }
   },
   "outputs": [],
   "source": [
    "class ResponseModel(BaseModel):\n",
    "    quality: float = Field(\n",
    "        description=\"The quality of the statement on a scale of 0 to 1\"\n",
    "    )\n",
    "    completeness: float = Field(\n",
    "        description=\"The completeness of the statement on a scale of 0 to 1\"\n",
    "    )\n",
    "    understanding: str = Field(description=\"Your understanding of the statement\")\n",
    "    suggestions: str = Field(description=\"Suggestions for improvement\")\n",
    "    overall_score: float = Field(\n",
    "        description=\"The overall score of the statement on a scale of 0 to 1\"\n",
    "    )\n",
    "\n",
    "\n",
    "system_prompt = \"\"\"You are a master of the english langauge desigend to analyze the success of a statement given to you. You may be provided with context or you may be provided none. Do what you can with the information provided.\"\"\"\n",
    "\n",
    "\n",
    "StatementAnalyzer = rt.library.structured_llm(\n",
    "    pretty_name=\"Statement Analyzer\",\n",
    "    output_model=ResponseModel,\n",
    "    system_message=rt.llm.SystemMessage(system_prompt),\n",
    "    model=rt.llm.models.OpenAILLM(\"gpt-4o\"),\n",
    ")"
   ]
  },
  {
   "cell_type": "code",
   "execution_count": 5,
   "id": "8710f222d7658bd2",
   "metadata": {
    "ExecuteTime": {
     "end_time": "2025-02-10T20:46:06.566565Z",
     "start_time": "2025-02-10T20:46:04.999538Z"
    }
   },
   "outputs": [],
   "source": [
    "prompt = \"Analyze the following statement \\n 'The quick brown fox jumps over the lazy dog'. \\n It should be consice and clear with no ambiguity.\"\n",
    "with rt.Runner() as runner:\n",
    "    result = await runner.run(\n",
    "        StatementAnalyzer,\n",
    "        message_history=rt.llm.MessageHistory([rt.llm.UserMessage(prompt)]),\n",
    "    )\n",
    "\n",
    "\n",
    "obj = result.answer"
   ]
  },
  {
   "cell_type": "code",
   "execution_count": 6,
   "id": "a89ed4f68115ae2f",
   "metadata": {
    "ExecuteTime": {
     "end_time": "2025-02-10T20:46:07.103616Z",
     "start_time": "2025-02-10T20:46:07.072074Z"
    }
   },
   "outputs": [
    {
     "name": "stdout",
     "output_type": "stream",
     "text": [
      "True\n",
      "{\n",
      "  \"quality\": 0.9,\n",
      "  \"completeness\": 1.0,\n",
      "  \"understanding\": \"The statement is a well-known pangram in the English language, meaning it contains every letter of the alphabet at least once. It is concise, clear, and free of ambiguity.\",\n",
      "  \"suggestions\": \"The statement is already concise and clear. No improvements are necessary.\",\n",
      "  \"overall_score\": 0.95\n",
      "}\n"
     ]
    }
   ],
   "source": [
    "print(isinstance(obj, ResponseModel))\n",
    "print(obj.model_dump_json(indent=2))"
   ]
  },
  {
   "cell_type": "code",
   "execution_count": null,
   "id": "b67945e4505bda3a",
   "metadata": {},
   "outputs": [],
   "source": []
  }
 ],
 "metadata": {
  "kernelspec": {
   "display_name": ".venv",
   "language": "python",
   "name": "python3"
  },
  "language_info": {
   "codemirror_mode": {
    "name": "ipython",
    "version": 3
   },
   "file_extension": ".py",
   "mimetype": "text/x-python",
   "name": "python",
   "nbconvert_exporter": "python",
   "pygments_lexer": "ipython3",
   "version": "3.10.11"
  }
 },
 "nbformat": 4,
 "nbformat_minor": 5
}
