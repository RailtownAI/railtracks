{
 "cells": [
  {
   "cell_type": "markdown",
   "metadata": {},
   "source": [
    "# Tool Call LLMs\n",
    "Some of the more exciting use cases for RC is when you want to cede control of the decision making process to the LLM. RC has a suite of tools that you can use to make this process much simpler. Check out an example below. "
   ]
  },
  {
   "cell_type": "code",
   "execution_count": null,
   "metadata": {
    "ExecuteTime": {
     "end_time": "2025-03-19T01:29:52.656653Z",
     "start_time": "2025-03-19T01:29:50.496308Z"
    }
   },
   "outputs": [],
   "source": [
    "from typing import Dict, Any, Set, Type\n",
    "import requestcompletion as rc"
   ]
  },
  {
   "cell_type": "code",
   "execution_count": 2,
   "metadata": {},
   "outputs": [],
   "source": [
    "# Common params for all terminal_llms being used as tools in this example\n",
    "critic_tool_params = {\n",
    "    rc.llm.Parameter(\"analysis_detail\", \"string\", \"The thing you would like to analyze\")\n",
    "}\n",
    "\n",
    "critic_model = rc.llm.OpenAILLM(\"gpt-4o\")"
   ]
  },
  {
   "cell_type": "code",
   "execution_count": 4,
   "metadata": {},
   "outputs": [],
   "source": [
    "HarshCritic = rc.library.terminal_llm(\n",
    "    pretty_name=\"Harsh Critic\",\n",
    "    system_message=rc.llm.SystemMessage(\n",
    "        \"You are a harsh critic of the world and you should analyze the given statement and provide a harsh critique of it. Be very concise and to the point.\"\n",
    "    ),\n",
    "    model=critic_model,\n",
    "    tool_details=\"A tool used to critique a statement harshly.\",\n",
    "    tool_params=critic_tool_params,\n",
    ")\n",
    "\n",
    "PositiveCritic = rc.library.terminal_llm(\n",
    "    pretty_name=\"Positive Critic\",\n",
    "    system_message=rc.llm.SystemMessage(\n",
    "        \"You are a positive critic of the world and you should analyze the given statement and provide a positive critique of it. Be very concise and to the point.\"\n",
    "    ),\n",
    "    model=critic_model,\n",
    "    tool_details=\"A tool used to critique a statement positively.\",\n",
    "    tool_params=critic_tool_params,\n",
    ")\n",
    "\n",
    "DeeperMeaningCritic = rc.library.terminal_llm(\n",
    "    pretty_name=\"Deeper Meaning Critic\",\n",
    "    system_message=rc.llm.SystemMessage(\n",
    "        \"You are a critic of the world and you should analyze the given statement and provide a critique of it. Be very concise and to the point.\"\n",
    "    ),\n",
    "    model=critic_model,\n",
    "    tool_details=\"A tool used to critique a statement deeply.\",\n",
    "    tool_params=critic_tool_params,\n",
    ")"
   ]
  },
  {
   "cell_type": "code",
   "execution_count": 5,
   "metadata": {},
   "outputs": [],
   "source": [
    "system_message_critic = rc.llm.SystemMessage(\n",
    "    \"You are a critic of the world and you provide comprehensive critiques of the world around you. You should utilize the provided tools to collect specific critiques and structure them before completing your answer.\"\n",
    ")\n",
    "Critic = rc.library.tool_call_llm(\n",
    "    connected_nodes={HarshCritic, PositiveCritic, DeeperMeaningCritic},\n",
    "    pretty_name=\"Critic\",\n",
    "    system_message=system_message_critic,\n",
    "    model=rc.llm.OpenAILLM(\"gpt-4o\"),\n",
    "    output_type=\"MessageHistory\",\n",
    ")"
   ]
  },
  {
   "cell_type": "code",
   "execution_count": 6,
   "metadata": {
    "ExecuteTime": {
     "end_time": "2025-03-19T01:30:28.862705Z",
     "start_time": "2025-03-19T01:30:28.837702Z"
    }
   },
   "outputs": [],
   "source": [
    "template = (\n",
    "    \"I am writing a short story and I would like to analyze my introduction.\\n\"\n",
    "    \"\\n\"\n",
    "    \"Once upon a time there was a little boy who lived in a small village. He was a very kind and generous, but lacked an understanding\"\n",
    "    \" of the world around him. He was always looking for ways to help others and make the world a better place. One day, he stumbled upon a\"\n",
    "    \" magical book that would change his life forever. The book was filled with stories of adventure and mystery, and the promise of a better\"\n",
    "    \" tomorrow.\"\n",
    ")\n",
    "with rc.Runner(\n",
    "    executor_config=rc.run.ExecutorConfig(logging_setting=\"QUIET\", timeout=50)\n",
    ") as runner:\n",
    "    response = await runner.run(\n",
    "        Critic, message_history=rc.llm.MessageHistory([rc.llm.UserMessage(template)])\n",
    "    )"
   ]
  },
  {
   "cell_type": "code",
   "execution_count": 7,
   "metadata": {},
   "outputs": [
    {
     "data": {
      "text/plain": [
       "[system: You are a critic of the world and you provide comprehensive critiques of the world around you. You should utilize the provided tools to collect specific critiques and structure them before completing your answer.,\n",
       " user: I am writing a short story and I would like to analyze my introduction.\n",
       " \n",
       " Once upon a time there was a little boy who lived in a small village. He was a very kind and generous, but lacked an understanding of the world around him. He was always looking for ways to help others and make the world a better place. One day, he stumbled upon a magical book that would change his life forever. The book was filled with stories of adventure and mystery, and the promise of a better tomorrow.,\n",
       " assistant: [ToolCall(identifier='call_ug91i0CBmLkHuRLnc6AqRrBq', name='Positive_Critic', arguments={'analysis_detail': 'Once upon a time there was a little boy who lived in a small village. He was a very kind and generous, but lacked an understanding of the world around him. He was always looking for ways to help others and make the world a better place. One day, he stumbled upon a magical book that would change his life forever. The book was filled with stories of adventure and mystery, and the promise of a better tomorrow.'})],\n",
       " tool: This narrative beautifully encapsulates the timeless theme of innocence and the transformative power of knowledge. The little boy's inherent kindness and generosity are admirable traits that set a positive foundation for his character. His quest to help others and improve the world highlights a commendable altruistic spirit. The introduction of the magical book symbolizes the potential for growth and enlightenment through learning and imagination. This story encourages readers to embrace curiosity and the pursuit of knowledge as a means to create a brighter future, making it an inspiring tale for audiences of all ages.,\n",
       " assistant: Your introduction beautifully captures the timeless theme of innocence and the transformative power of knowledge. The little boy's inherent kindness and generosity set a positive foundation for his character, while his quest to help others and improve the world highlights a commendable altruistic spirit. The introduction of the magical book symbolizes the potential for growth and enlightenment through learning and imagination. This story encourages readers to embrace curiosity and the pursuit of knowledge as a means to create a brighter future, making it an inspiring tale for audiences of all ages.]"
      ]
     },
     "execution_count": 7,
     "metadata": {},
     "output_type": "execute_result"
    }
   ],
   "source": [
    "response.answer"
   ]
  },
  {
   "cell_type": "markdown",
   "metadata": {},
   "source": [
    "Sometimes there may be a need to inject parameters into the subserviant tools at instance \"runtime\". This can be done by modifying the node creation method in the parent top level node\n"
   ]
  },
  {
   "cell_type": "code",
   "execution_count": 8,
   "metadata": {},
   "outputs": [],
   "source": [
    "class GradeLevelHarshCritic(HarshCritic):\n",
    "    def __init__(self, message_history: rc.llm.MessageHistory, grade_level: int):\n",
    "        super().__init__(message_history=message_history)\n",
    "        self.grade_level = grade_level\n",
    "\n",
    "    @classmethod\n",
    "    def prepare_tool(cls, tool_parameters):\n",
    "        message_hist = rc.llm.MessageHistory(\n",
    "            [rc.llm.UserMessage(tool_parameters[\"analysis_detail\"])]\n",
    "        )\n",
    "        return cls(message_hist, tool_parameters[\"grade_level\"])\n",
    "\n",
    "    def system_message(self):\n",
    "        return (\n",
    "            super().system_message()\n",
    "            + \" You should provide a critique at a grade level of \"\n",
    "            + str(self.grade_level)\n",
    "        )"
   ]
  },
  {
   "cell_type": "code",
   "execution_count": 9,
   "metadata": {},
   "outputs": [],
   "source": [
    "class InjectGradeLevel(Critic):\n",
    "    def __init__(self, message_history: rc.llm.MessageHistory, grade_level: int):\n",
    "        super().__init__(message_history=message_history)\n",
    "        self.grade_level = grade_level\n",
    "\n",
    "    def create_node(self, tool_name: str, arguments: Dict[str, Any]) -> rc.Node:\n",
    "        if tool_name == \"Harsh_Critic\":\n",
    "            arguments[\"grade_level\"] = self.grade_level\n",
    "            return GradeLevelHarshCritic.prepare_tool(arguments)\n",
    "        # note the super method will not add any parameters and work just as it always does.\n",
    "        return super().create_node(tool_name, arguments)\n",
    "\n",
    "    def connected_nodes(self) -> Set[Type[rc.Node]]:\n",
    "        # note that you can add the new node to the connected nodes set\n",
    "        return {GradeLevelHarshCritic, PositiveCritic, DeeperMeaningCritic}"
   ]
  },
  {
   "cell_type": "code",
   "execution_count": 10,
   "metadata": {
    "ExecuteTime": {
     "end_time": "2025-02-12T00:58:52.182005Z",
     "start_time": "2025-02-12T00:58:51.968968Z"
    }
   },
   "outputs": [
    {
     "name": "stdout",
     "output_type": "stream",
     "text": [
      "system: You are a critic of the world and you provide comprehensive critiques of the world around you. You should utilize the provided tools to collect specific critiques and structure them before completing your answer.\n",
      "user: I am writing a short story and I would like to analyze my introduction.\n",
      "\n",
      "Green Apples are a strong fruit that can be used in many different ways. They are a great source of vitamins and minerals, and can be eaten or even thrown at others you don't like\n",
      "assistant: [ToolCall(identifier='call_Eedck5TRjQ04UQUGEMAC88GW', name='Harsh_Critic', arguments={'analysis_detail': \"Green Apples are a strong fruit that can be used in many different ways. They are a great source of vitamins and minerals, and can be eaten or even thrown at others you don't like\", 'grade_level': 12})]\n",
      "tool: This statement is a bizarre mix of nutritional advice and juvenile aggression. While it's true that green apples are nutritious, suggesting they be used as projectiles is absurd and irresponsible. Promoting such behavior is immature and undermines any legitimate discussion about the fruit's benefits. It's a poor attempt at humor that falls flat and detracts from the actual value of green apples.\n",
      "assistant: [ToolCall(identifier='call_s07TzR2GdcNpPTwnpKwuKs2E', name='Positive_Critic', arguments={'analysis_detail': \"Green Apples are a strong fruit that can be used in many different ways. They are a great source of vitamins and minerals, and can be eaten or even thrown at others you don't like\"})]\n",
      "tool: This statement highlights the versatility and nutritional benefits of green apples, emphasizing their role as a valuable dietary component. The playful mention of using them as projectiles adds a humorous touch, showcasing creativity in thinking outside the box. However, it's important to focus on their positive uses, such as in cooking or as a healthy snack, to fully appreciate their potential. Overall, the statement effectively underscores the multifaceted nature of green apples in a lighthearted manner.\n",
      "assistant: [ToolCall(identifier='call_7in2hkJIqqFqeqXTS1sqvsN0', name='Deeper_Meaning_Critic', arguments={'analysis_detail': \"Green Apples are a strong fruit that can be used in many different ways. They are a great source of vitamins and minerals, and can be eaten or even thrown at others you don't like\"})]\n",
      "tool: The statement begins by highlighting the versatility and nutritional benefits of green apples, which is accurate and informative. However, it takes an inappropriate turn by suggesting that green apples can be used as projectiles against people one dislikes. This suggestion is irresponsible and promotes harmful behavior, detracting from the otherwise positive message about the fruit's health benefits. The statement would be more effective if it focused solely on the constructive uses of green apples.\n",
      "assistant: Your introduction to the short story presents an intriguing mix of ideas about green apples. Here's a comprehensive critique:\n",
      "\n",
      "1. **Harsh Critique**: The introduction takes an odd turn by suggesting that green apples can be used as projectiles. This is an irresponsible and immature suggestion that undermines the legitimate discussion about the fruit's benefits. It detracts from the value of green apples and attempts humor that falls flat.\n",
      "\n",
      "2. **Positive Critique**: On the positive side, the introduction effectively highlights the versatility and nutritional benefits of green apples. The playful mention of using them as projectiles adds a humorous touch, showcasing creativity and thinking outside the box. However, focusing on their positive uses, such as in cooking or as a healthy snack, would better appreciate their potential.\n",
      "\n",
      "3. **Deeper Meaning Critique**: The statement begins with an informative note on the versatility and nutritional benefits of green apples. However, it takes an inappropriate turn by suggesting harmful behavior, which detracts from the positive message. Focusing solely on constructive uses would enhance the introduction's effectiveness.\n",
      "\n",
      "In summary, while the introduction creatively highlights the versatility of green apples, it would benefit from focusing on their positive attributes and uses, avoiding suggestions of harmful behavior.\n"
     ]
    }
   ],
   "source": [
    "template = (\n",
    "    \"I am writing a short story and I would like to analyze my introduction.\\n\"\n",
    "    \"\\n\"\n",
    "    \"Green Apples are a strong fruit that can be used in many different ways. They are a great source of vitamins and minerals, and can be eaten or even thrown at others you don't like\"\n",
    ")\n",
    "# with rc.Runner(executor_config=rc.run.ExecutorConfig(logging_setting=\"QUIET\", timeout=50)) as runner:\n",
    "#     response = await runner.run(InjectGradeLevel,\n",
    "#         message_history=rc.llm.MessageHistory([rc.llm.UserMessage(template)]),\n",
    "#         grade_level=12)\n",
    "\n",
    "rc.call(\n",
    "    InjectGradeLevel,\n",
    "    message_history=rc.llm.MessageHistory([rc.llm.UserMessage(template)]),\n",
    "    grade_level=12,\n",
    ")\n",
    "\n",
    "\n",
    "print(response.answer)"
   ]
  }
 ],
 "metadata": {
  "kernelspec": {
   "display_name": ".venv",
   "language": "python",
   "name": "python3"
  },
  "language_info": {
   "codemirror_mode": {
    "name": "ipython",
    "version": 3
   },
   "file_extension": ".py",
   "mimetype": "text/x-python",
   "name": "python",
   "nbconvert_exporter": "python",
   "pygments_lexer": "ipython3",
   "version": "3.10.11"
  }
 },
 "nbformat": 4,
 "nbformat_minor": 4
}
