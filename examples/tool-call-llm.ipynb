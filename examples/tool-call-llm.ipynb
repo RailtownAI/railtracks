{
  "cells": [
    {
      "cell_type": "markdown",
      "metadata": {},
      "source": [
        "# Tool Call LLMs\n",
        "Some of the more exciting use cases for RC is when you want to cede control of the decision making process to the LLM. RC has a suite of tools that you can use to make this process much simpler. Check out an example below. "
      ]
    },
    {
      "cell_type": "code",
      "execution_count": 6,
      "metadata": {},
      "outputs": [],
      "source": [
        "from typing import Dict, Any, Set, Type\n",
        "\n",
        "from requestcompletion.nodes import Node\n",
        "from typing_extensions import Self\n",
        "\n",
        "import requestcompletion as rc\n",
        "from requestcompletion.llm import ModelBase, Tool, Parameter"
      ]
    },
    {
      "cell_type": "code",
      "execution_count": 7,
      "metadata": {},
      "outputs": [],
      "source": [
        "class HarshCritic(rc.nodes.library.TerminalLLM):\n",
        "    @classmethod\n",
        "    def system_message(cls):\n",
        "        return \"You are a harsh critic of the world and you should analyze the given statement and provide a harsh critique of it.\"\n",
        "    \n",
        "    @classmethod\n",
        "    def create_model(cls) -> ModelBase:\n",
        "        return rc.llm.OpenAILLM(\"gpt-4o\")\n",
        "    \n",
        "    @classmethod\n",
        "    def pretty_name(cls) -> str:\n",
        "        return \"Harsh Critic\"\n",
        "    \n",
        "    # for types which you want to connect to an LLM using our tooling you should implement this method\n",
        "    @classmethod\n",
        "    def tool_info(cls) -> Tool:\n",
        "        return Tool(\n",
        "            name=\"Harsh_Critic\",\n",
        "            detail=\"A tool used to critique a statement harshly.\",\n",
        "            parameters={Parameter(\"analysis_detail\", \"string\", \"The thing you would like to analyze\")}\n",
        "            \n",
        "        )\n",
        "    \n",
        "    @classmethod\n",
        "    def prepare_tool(cls, tool_parameters: Dict[str, Any]) -> Self:\n",
        "        message_hist = rc.llm.MessageHistory([rc.llm.UserMessage(tool_parameters[\"analysis_detail\"])])\n",
        "        return cls(message_hist)\n",
        "        \n",
        "    "
      ]
    },
    {
      "cell_type": "code",
      "execution_count": 8,
      "metadata": {},
      "outputs": [],
      "source": [
        "class PositiveCritic(rc.nodes.library.TerminalLLM):\n",
        "    @classmethod\n",
        "    def system_message(cls):\n",
        "        return \"You are a positive critic of the world and you should analyze the given statement and provide a positive critique of it.\"\n",
        "    \n",
        "    @classmethod\n",
        "    def create_model(cls) -> ModelBase:\n",
        "        return rc.llm.OpenAILLM(\"gpt-4o\")\n",
        "    \n",
        "    @classmethod\n",
        "    def pretty_name(cls) -> str:\n",
        "        return \"Positive Critic\"\n",
        "    \n",
        "    # for types which you want to connect to an LLM using our tooling you should implement this method\n",
        "    @classmethod\n",
        "    def tool_info(cls) -> Tool:\n",
        "        return Tool(\n",
        "            name=\"Positive_Critic\",\n",
        "            detail=\"A tool used to critique a statement positively.\",\n",
        "            parameters={Parameter(\"analysis_detail\", \"string\", \"The thing you would like to analyze\")}\n",
        "            \n",
        "        )\n",
        "    \n",
        "    @classmethod\n",
        "    def prepare_tool(cls, tool_parameters: Dict[str, Any]) -> Self:\n",
        "        message_hist = rc.llm.MessageHistory([rc.llm.UserMessage(tool_parameters[\"analysis_detail\"])])\n",
        "        return cls(message_hist)"
      ]
    },
    {
      "cell_type": "code",
      "execution_count": 9,
      "metadata": {},
      "outputs": [],
      "source": [
        "class DeeperMeaningCritic(rc.nodes.library.TerminalLLM):\n",
        "    @classmethod\n",
        "    def system_message(cls):\n",
        "        return \"You are a critic of the world and you should analyze the given statement and provide a critique of it.\"\n",
        "    \n",
        "    @classmethod\n",
        "    def create_model(cls) -> ModelBase:\n",
        "        return rc.llm.OpenAILLM(\"gpt-4o\")\n",
        "    \n",
        "    @classmethod\n",
        "    def pretty_name(cls) -> str:\n",
        "        return \"Deeper Meaning Critic\"\n",
        "    \n",
        "    # for types which you want to connect to an LLM using our tooling you should implement this method\n",
        "    @classmethod\n",
        "    def tool_info(cls) -> Tool:\n",
        "        return Tool(\n",
        "            name=\"Deeper_Meaning_Critic\",\n",
        "            detail=\"A tool used to critique a statement.\",\n",
        "            parameters={Parameter(\"analysis_detail\", \"string\", \"The thing you would like to analyze\",)}\n",
        "            \n",
        "        )\n",
        "    \n",
        "    @classmethod\n",
        "    def prepare_tool(cls, tool_parameters: Dict[str, Any]) -> Self:\n",
        "        message_hist = rc.llm.MessageHistory([rc.llm.UserMessage(tool_parameters[\"analysis_detail\"])])\n",
        "        return cls(message_hist)\n",
        "    \n",
        "    "
      ]
    },
    {
      "cell_type": "code",
      "execution_count": 10,
      "metadata": {},
      "outputs": [],
      "source": [
        "class Critic(rc.nodes.library.ToolCallLLM):\n",
        "    @classmethod\n",
        "    def system_message(cls) -> str:\n",
        "        return \"You are a critic of the world and you provide comprehensive critiques of the world around you. You should utilize the provided tools to collect specific critiques before completing your answer.\"\n",
        "\n",
        "    @classmethod\n",
        "    def create_model(cls) -> ModelBase:\n",
        "        return rc.llm.OpenAILLM(\"gpt-4o\")\n",
        "\n",
        "    @classmethod\n",
        "    def tool_details(cls) -> Set[Type[Node]]:\n",
        "        return {HarshCritic, PositiveCritic, DeeperMeaningCritic}\n",
        "\n",
        "    @classmethod\n",
        "    def pretty_name(cls) -> str:\n",
        "        return \"Critic\""
      ]
    },
    {
      "cell_type": "code",
      "execution_count": 13,
      "metadata": {},
      "outputs": [
        {
          "name": "stderr",
          "output_type": "stream",
          "text": [
            "c:\\Users\\Logan\\Documents\\rc\\.venv\\lib\\site-packages\\railtownai_rc\\nodes\\nodes.py:109: UserWarning: You are using the default context. It will be empty.\n",
            "  warnings.warn(\"You are using the default context. It will be empty.\")\n"
          ]
        },
        {
          "name": "stdout",
          "output_type": "stream",
          "text": [
            "Your story introduction is a delightful and heartwarming narrative that beautifully captures the essence of innocence and innate goodness. The protagonist, a little boy from a small village, embodies timeless virtues of kindness and generosity, resonating deeply with readers of all ages. His lack of worldly understanding is not a flaw but a blank canvas, full of potential and open to life's wonders and lessons.\n",
            "\n",
            "The magical book symbolizes knowledge and discovery, highlighting the transformative power of stories and learning. It suggests that even the most unassuming individuals can embark on extraordinary journeys of personal growth and enlightenment. The book's promise of adventure and a better tomorrow is an inspiring message, encouraging readers to embrace curiosity and the pursuit of knowledge to effect positive change in their lives and the world.\n",
            "\n",
            "The small village setting adds a charming and relatable backdrop, emphasizing that greatness and the capacity to make a difference are not confined to grandiose beginnings. This story reminds us that the seeds of change often start in humble places, nurtured by pure intentions and actions like those of the little boy.\n",
            "\n",
            "Overall, your introduction is a testament to the power of storytelling and the enduring impact of kindness and curiosity. It invites readers to reflect on their potential to contribute to a better world, making it a truly uplifting and inspiring piece.\n"
          ]
        }
      ],
      "source": [
        "template = (\"I am writing a short story and I would like to analyze my introduction.\\n\"\n",
        "            \"\\n\"\n",
        "            \"Once upon a time there was a little boy who lived in a small village. He was a very kind and generous, but lacked an understanding\"\n",
        "            \" of the world around him. He was always looking for ways to help others and make the world a better place. One day, he stumbled upon a\"\n",
        "            \" magical book that would change his life forever. The book was filled with stories of adventure and mystery, and the promise of a better\"\n",
        "            \" tomorrow.\")\n",
        "\n",
        "response = rc.run.run(Critic(\n",
        "    message_history=rc.llm.MessageHistory([rc.llm.UserMessage(template)])),\n",
        "    executor_config=rc.run.ExecutorConfig(timeout=50)\n",
        ")\n",
        "\n",
        "print(response.answer)"
      ]
    },
    {
      "cell_type": "code",
      "execution_count": null,
      "metadata": {},
      "outputs": [],
      "source": []
    }
  ],
  "metadata": {
    "kernelspec": {
      "display_name": "Python 3 (ipykernel)",
      "language": "python",
      "name": "python3"
    },
    "language_info": {
      "codemirror_mode": {
        "name": "ipython",
        "version": 3
      },
      "file_extension": ".py",
      "mimetype": "text/x-python",
      "name": "python",
      "nbconvert_exporter": "python",
      "pygments_lexer": "ipython3",
      "version": "3.10.11"
    }
  },
  "nbformat": 4,
  "nbformat_minor": 4
}
