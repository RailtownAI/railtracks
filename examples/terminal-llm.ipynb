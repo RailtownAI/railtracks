{
  "cells": [
    {
      "cell_type": "markdown",
      "id": "5c626569d33a13ec",
      "metadata": {},
      "source": [
        "# Terminal LLM\n",
        "In the following document we will outline how to use the terminal LLM. It is a common use case for a simple LLM with a system prompt and a text output"
      ]
    },
    {
      "cell_type": "code",
      "execution_count": 1,
      "id": "initial_id",
      "metadata": {
        "ExecuteTime": {
          "end_time": "2025-01-29T01:51:58.743743Z",
          "start_time": "2025-01-29T01:51:56.899449Z"
        },
        "collapsed": true
      },
      "outputs": [],
      "source": [
        "import requestcompletion as rc"
      ]
    },
    {
      "cell_type": "code",
      "execution_count": 2,
      "id": "6f8ed72aa6cfc093",
      "metadata": {
        "ExecuteTime": {
          "end_time": "2025-01-29T01:51:58.759735Z",
          "start_time": "2025-01-29T01:51:58.747727Z"
        }
      },
      "outputs": [],
      "source": [
        "class WritingEditor(rc.nodes.library.TerminalLLM):\n",
        "    @classmethod\n",
        "    def system_message(cls) -> str:\n",
        "        # define your system message here\n",
        "        return \"You are a helpful AI writing assistant. You should provide suggestions and corrections to the user's writing. Keep your advice concise and to the point.\"\n",
        "\n",
        "    @classmethod\n",
        "    def create_model(cls) -> rc.llm.ModelBase:\n",
        "        # you can choose the LLM you want to use here. \n",
        "        return rc.llm.OpenAILLM(\"gpt-4o\")\n",
        "\n",
        "    @classmethod\n",
        "    def pretty_name(cls) -> str:\n",
        "        return \"Writing Editor\""
      ]
    },
    {
      "cell_type": "code",
      "execution_count": 5,
      "id": "372f4fbc62f01588",
      "metadata": {
        "ExecuteTime": {
          "end_time": "2025-01-29T01:54:19.395217Z",
          "start_time": "2025-01-29T01:54:17.710323Z"
        }
      },
      "outputs": [
        {
          "name": "stdout",
          "output_type": "stream",
          "text": [
            "Your opening paragraph sets a peaceful scene, but you might consider adding more specific details to make it more vivid. Here’s a suggestion:\n",
            "\n",
            "\"The sun dipped below the horizon, casting a golden glow across the rolling hills. Birds chirped melodiously in the oak trees, while a gentle breeze whispered through the rustling leaves.\"\n",
            "\n",
            "This version adds specificity and a bit more imagery.\n"
          ]
        }
      ],
      "source": [
        "# note the system message will be automatically added so don't include it in the message history\n",
        "message_history = rc.llm.MessageHistory([\n",
        "    rc.llm.UserMessage(\"I am a writer who is working on a novel. Here is my first paragraph: 'The sun was setting over the horizon, casting a warm glow over the landscape. The birds were chirping in the trees, and a gentle breeze rustled the leaves.'\"),\n",
        "])\n",
        "\n",
        "info = rc.run.run(WritingEditor(message_history))\n",
        "\n",
        "print(info.answer)"
      ]
    }
  ],
  "metadata": {
    "kernelspec": {
      "display_name": "Python 3",
      "language": "python",
      "name": "python3"
    },
    "language_info": {
      "codemirror_mode": {
        "name": "ipython",
        "version": 2
      },
      "file_extension": ".py",
      "mimetype": "text/x-python",
      "name": "python",
      "nbconvert_exporter": "python",
      "pygments_lexer": "ipython2",
      "version": "2.7.6"
    }
  },
  "nbformat": 4,
  "nbformat_minor": 5
}
