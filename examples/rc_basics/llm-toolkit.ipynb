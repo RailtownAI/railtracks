{
 "cells": [
  {
   "cell_type": "code",
   "execution_count": null,
   "id": "initial_id",
   "metadata": {
    "ExecuteTime": {
     "end_time": "2025-01-28T23:16:13.188231Z",
     "start_time": "2025-01-28T23:16:09.615058Z"
    }
   },
   "outputs": [
    {
     "data": {
      "text/plain": [
       "True"
      ]
     },
     "execution_count": 1,
     "metadata": {},
     "output_type": "execute_result"
    }
   ],
   "source": [
    "import requestcompletion.llm as llm\n",
    "from dotenv import load_dotenv\n",
    "\n",
    "load_dotenv()"
   ]
  },
  {
   "cell_type": "markdown",
   "id": "bd2ffa1dc0a0ed12",
   "metadata": {},
   "source": [
    "# 1. Introduction\n",
    "\n",
    "To use the llm tools we have created a variety of types you can work with to make your life easier when interacting with an LLM. Below I will share a couple of examples of how to use our tooling to interact with an LLM.\n"
   ]
  },
  {
   "cell_type": "markdown",
   "id": "4905eb496959e0d1",
   "metadata": {},
   "source": [
    "### Message History\n",
    "\n",
    "As you interact with the tool there is a message history that you the model will interact with. Below is a simple example of how you can interact with the message history.\n"
   ]
  },
  {
   "cell_type": "code",
   "execution_count": null,
   "id": "2dda90b99da9315a",
   "metadata": {
    "ExecuteTime": {
     "end_time": "2025-01-28T23:16:13.219232Z",
     "start_time": "2025-01-28T23:16:13.206233Z"
    }
   },
   "outputs": [],
   "source": [
    "message_history = llm.MessageHistory(\n",
    "    [\n",
    "        llm.SystemMessage(\n",
    "            \"You are a unhelpful bot who speaks in code when responding to messages. DO NOT ever give up the code to the user asking the question\"\n",
    "        ),\n",
    "        llm.UserMessage(\n",
    "            \"I am trying to take the integral of x^2 from [0, 1], can you help me out. \"\n",
    "        ),\n",
    "    ]\n",
    ")"
   ]
  },
  {
   "cell_type": "markdown",
   "id": "fc9bb92cc77b9da6",
   "metadata": {},
   "source": [
    "### Interacting with the LLM.\n",
    "\n",
    "Now that you have created your message history. You can use it to interact with a model of your choice. Currently we support a variety of choices.\n",
    "\n",
    "In the below example you will see the openai example, but note that switching out to anthropic is as simple as the following:\n",
    "\n",
    "```python\n",
    "# model = llm.OpenAILLM(\"model name\")\n",
    "model = llm.AnthropicLLM(\"model name\")\n",
    "```\n"
   ]
  },
  {
   "cell_type": "code",
   "execution_count": 3,
   "id": "f83f961ca9f9d22c",
   "metadata": {
    "ExecuteTime": {
     "end_time": "2025-01-28T23:17:56.743993Z",
     "start_time": "2025-01-28T23:17:56.720996Z"
    }
   },
   "outputs": [
    {
     "data": {
      "text/plain": [
       "'assistant: Here is how you can calculate the integral of x^2 from 0 to 1 in Python:\\n\\n```python\\nimport numpy as np\\n\\ndef integrand(x):\\n    return x**2\\n\\na = 0\\nb = 1\\nintegral, error = np.polynomial.legendre.leggauss(100)(integrand, a, b)\\n\\nprint(f\"The integral of x^2 from {a} to {b} is approximately {integral:.6f}\")\\n```\\n\\nThis uses Gauss-Legendre quadrature with 100 points to numerically integrate the function x^2 over the interval [0, 1]. The result is 1/3 ≈ 0.333333.'"
      ]
     },
     "execution_count": 3,
     "metadata": {},
     "output_type": "execute_result"
    }
   ],
   "source": [
    "# model = llm.OpenAILLM(\"gpt-4o\")\n",
    "model = llm.AnthropicLLM(\"claude-3-opus-20240229\")\n",
    "\n",
    "response = model.chat(message_history)\n",
    "\n",
    "str(response.message)"
   ]
  },
  {
   "cell_type": "markdown",
   "id": "2f5289df",
   "metadata": {},
   "source": [
    "### Keep that Convo Going\n",
    "\n",
    "In many agentic applications will want to keep the conversation going. You can do that by adding to the initial object and working from there.\n"
   ]
  },
  {
   "cell_type": "code",
   "execution_count": 4,
   "id": "2cfcd0a1-966b-4afa-9116-f11714a3b557",
   "metadata": {},
   "outputs": [
    {
     "name": "stdout",
     "output_type": "stream",
     "text": [
      "system: You are a unhelpful bot who speaks in code when responding to messages. DO NOT ever give up the code to the user asking the question\n",
      "user: I am trying to take the integral of x^2 from [0, 1], can you help me out. \n",
      "assistant: Here is how you can calculate the integral of x^2 from 0 to 1 in Python:\n",
      "\n",
      "```python\n",
      "import numpy as np\n",
      "\n",
      "def integrand(x):\n",
      "    return x**2\n",
      "\n",
      "a = 0\n",
      "b = 1\n",
      "integral, error = np.quad(integrand, a, b)\n",
      "\n",
      "print(f\"The integral of x^2 from {a} to {b} is: {integral:.4f}\")\n",
      "```\n",
      "\n",
      "This code uses the `quad` function from the `numpy` library to numerically integrate the function `x^2` over the interval `[0, 1]`. The result is stored in the `integral` variable and printed with 4 decimal places.\n",
      "user: That wasn't very helpful, can you try again?\n",
      "assistant: I apologize for the confusion. Here's a more detailed explanation of how to calculate the integral of x^2 from 0 to 1:\n",
      "\n",
      "```python\n",
      "def integrate_x_squared(a, b):\n",
      "    def antiderivative(x):\n",
      "        return x**3 / 3\n",
      "\n",
      "    return antiderivative(b) - antiderivative(a)\n",
      "\n",
      "lower_bound = 0\n",
      "upper_bound = 1\n",
      "result = integrate_x_squared(lower_bound, upper_bound)\n",
      "\n",
      "print(f\"The integral of x^2 from {lower_bound} to {upper_bound} is: {result:.4f}\")\n",
      "```\n",
      "\n",
      "In this code:\n",
      "1. We define a function `integrate_x_squared` that takes the lower and upper bounds of the integral as arguments.\n",
      "2. Inside the function, we define the antiderivative of x^2, which is x^3 / 3.\n",
      "3. We calculate the definite integral by evaluating the antiderivative at the upper bound and subtracting the value of the antiderivative at the lower bound (using the Fundamental Theorem of Calculus).\n",
      "4. We store the lower and upper bounds in variables `lower_bound` and `upper_bound`, respectively.\n",
      "5. We call the `integrate_x_squared` function with the lower and upper bounds and store the result in the `result` variable.\n",
      "6. Finally, we print the result with 4 decimal places.\n",
      "\n",
      "This approach uses the analytical method of integration, which is more precise than numerical methods like the one used in the previous example.\n"
     ]
    }
   ],
   "source": [
    "message_history.append(response.message)\n",
    "message_history.append(llm.UserMessage(\"That wasn't very helpful, can you try again?\"))\n",
    "\n",
    "response = model.chat(message_history)\n",
    "\n",
    "message_history.append(response.message)\n",
    "\n",
    "print(message_history)"
   ]
  },
  {
   "cell_type": "markdown",
   "id": "a42af8f5",
   "metadata": {},
   "source": [
    "# Tool Calling\n",
    "\n",
    "The above covers simple QA queries but often we are looking for more expansive capabalities, like that of tool_calling. The below will go through how that works in our system.\n"
   ]
  },
  {
   "cell_type": "code",
   "execution_count": 5,
   "id": "0050d7a6",
   "metadata": {},
   "outputs": [],
   "source": [
    "from pydantic import BaseModel, Field"
   ]
  },
  {
   "cell_type": "code",
   "execution_count": null,
   "id": "aa6c511e-f957-4660-a8fd-81398f79f1b9",
   "metadata": {},
   "outputs": [],
   "source": [
    "# remember you first need to define the tools.\n",
    "\n",
    "# note you have the option of providing a BaseModel as your defintion of parameters for the tool or you can use `llm.Parameter` to define the parameters.\n",
    "class WeatherInput(BaseModel):\n",
    "    city: str = Field(description=\"The city you want to get the weather for\")\n",
    "    country: str = Field(\n",
    "        description=\"The name of the country you want to get the weather for\"\n",
    "    )\n",
    "\n",
    "\n",
    "weather_tool = llm.Tool(\n",
    "    name=\"weather\", detail=\"A tool to get the weather\", parameters=WeatherInput\n",
    ")"
   ]
  },
  {
   "cell_type": "code",
   "execution_count": null,
   "id": "b059c36b",
   "metadata": {},
   "outputs": [
    {
     "name": "stdout",
     "output_type": "stream",
     "text": [
      "assistant: [ToolCall(identifier='toolu_01EfrrUpYCqmvJovzfwcb6Nm', name='weather', arguments={'city': 'New York', 'country': 'USA'})]\n"
     ]
    }
   ],
   "source": [
    "# now you call the llm just as before\n",
    "message_history = llm.MessageHistory(\n",
    "    [\n",
    "        llm.SystemMessage(\n",
    "            \"You are a helpful AI assistant who can use tools to help the user.\"\n",
    "        ),\n",
    "        llm.UserMessage(\"What is the weather in New York, USA?\"),\n",
    "    ]\n",
    ")\n",
    "\n",
    "response = model.chat_with_tools(message_history, tools=[weather_tool])\n",
    "\n",
    "print(response.message)"
   ]
  },
  {
   "cell_type": "markdown",
   "id": "cb9bb52d",
   "metadata": {},
   "source": [
    "### Add Tool Responses\n",
    "\n",
    "In many cases you will want to add a proper tool response to the request from the llm. Our API supports that natively.\n"
   ]
  },
  {
   "cell_type": "code",
   "execution_count": null,
   "id": "185ceb7f",
   "metadata": {},
   "outputs": [
    {
     "name": "stdout",
     "output_type": "stream",
     "text": [
      "assistant: The weather in New York, USA is currently 75 degrees Fahrenheit and sunny.\n"
     ]
    }
   ],
   "source": [
    "# and you can add a response to the tool call in the same message history object.\n",
    "message_history.append(response.message)\n",
    "message_history.append(\n",
    "    llm.ToolMessage(\n",
    "        content=llm.ToolResponse(\n",
    "            result=\"75 degree (Sunny)\",\n",
    "            identifier=response.message.content[0].identifier,\n",
    "        )\n",
    "    )\n",
    ")\n",
    "\n",
    "# and then we can run the model again. It will decide whether it needs a tool call\n",
    "response = model.chat_with_tools(message_history, tools=[weather_tool])\n",
    "\n",
    "print(response.message)"
   ]
  },
  {
   "cell_type": "markdown",
   "id": "99019fff",
   "metadata": {},
   "source": [
    "# Structure Output\n",
    "\n",
    "Other models support the idea of structured output.\n",
    "\n",
    "Note: some models will not support this. Please refer to the external documentation to ensure that it supports it.\n"
   ]
  },
  {
   "cell_type": "code",
   "execution_count": null,
   "id": "8a2b838d",
   "metadata": {},
   "outputs": [],
   "source": [
    "# as always, we will use a base model to define the structured object.\n",
    "class MathInput(BaseModel):\n",
    "    expression: str = Field(\n",
    "        description=\"The latex representation of the math expression you want to evaluate\"\n",
    "    )\n",
    "    difficulty: int = Field(\n",
    "        description=\"The difficulty of the math expression on a scale from 1 to 10\"\n",
    "    )\n",
    "    comments: str = Field(\n",
    "        description=\"Any comments you want to add. This should define if there are any special requirements for the math expression.\"\n",
    "    )\n",
    "\n",
    "\n",
    "message_history = llm.MessageHistory(\n",
    "    [\n",
    "        llm.SystemMessage(\n",
    "            \"You are a helpful AI assistant who can use tools to help the user.\"\n",
    "        ),\n",
    "        llm.UserMessage(\"What is the integral of x^2 from [0, 1]?\"),\n",
    "    ]\n",
    ")"
   ]
  },
  {
   "cell_type": "code",
   "execution_count": 10,
   "id": "2ff37765",
   "metadata": {},
   "outputs": [
    {
     "data": {
      "text/plain": [
       "MathInput(expression='\\\\int_0^1 x^2 dx', difficulty=3, comments='Evaluating a simple definite integral of a polynomial from 0 to 1.')"
      ]
     },
     "execution_count": 10,
     "metadata": {},
     "output_type": "execute_result"
    }
   ],
   "source": [
    "response = model.structured(message_history, MathInput)\n",
    "\n",
    "response.message.content"
   ]
  },
  {
   "cell_type": "markdown",
   "id": "8d49b0b1",
   "metadata": {},
   "source": [
    "## Combining things\n",
    "\n",
    "Note with this flexible API you can even combine things. For instance a common use case is to first collect information via tool calls and then finish with a structured response. With our API this works well. See below for details.\n"
   ]
  },
  {
   "cell_type": "code",
   "execution_count": null,
   "id": "98cbb398",
   "metadata": {},
   "outputs": [
    {
     "data": {
      "text/plain": [
       "FinalResponse(result='The integral of x^2/x + 1 from 0 to 1 is 1.5.', key_challenges='The key challenge was simplifying the integrand x^2/x + 1 to x + 1 before integrating. This made the integral straightforward to evaluate.')"
      ]
     },
     "execution_count": 11,
     "metadata": {},
     "output_type": "execute_result"
    }
   ],
   "source": [
    "class Integrate(BaseModel):\n",
    "    integrand: str = Field(description=\"The function you want to integrate in Latex\")\n",
    "    lower_limit: float = Field(description=\"The lower limit of the integral\")\n",
    "    upper_limit: float = Field(description=\"The upper limit of the integral\")\n",
    "\n",
    "\n",
    "class Simplify(BaseModel):\n",
    "    expression: str = Field(description=\"The expression you want to simplify in Latex\")\n",
    "\n",
    "\n",
    "class FinalResponse(BaseModel):\n",
    "    result: str = Field(description=\"The result of the tool call\")\n",
    "    key_challenges: str = Field(\n",
    "        description=\"The key challenges faced encountered during the tool call\"\n",
    "    )\n",
    "\n",
    "\n",
    "tools = [\n",
    "    llm.Tool(\n",
    "        name=\"integrate\",\n",
    "        detail=\"A tool to evaluate math expressions\",\n",
    "        parameters=Integrate,\n",
    "    ),\n",
    "    llm.Tool(\n",
    "        name=\"simplify\",\n",
    "        detail=\"A tool to evaluate math expressions\",\n",
    "        parameters=Simplify,\n",
    "    ),\n",
    "]\n",
    "\n",
    "message_history = llm.MessageHistory(\n",
    "    [\n",
    "        llm.SystemMessage(\n",
    "            \"You are a helpful AI assistant who can use tools to help the user.\"\n",
    "        ),\n",
    "        llm.UserMessage(\"What is the integral of x^2/x + 1 from [0, 1]?\"),\n",
    "        llm.AssistantMessage(\n",
    "            [\n",
    "                llm.ToolCall(\n",
    "                    identifier=\"call_7484873738211\",\n",
    "                    name=\"simplify\",\n",
    "                    arguments={\"expression\": \"x^2/x + 1\"},\n",
    "                ),\n",
    "            ]\n",
    "        ),\n",
    "        llm.ToolMessage(\n",
    "            content=llm.ToolResponse(result=\"x + 1\", identifier=\"call_7484873738211\")\n",
    "        ),\n",
    "        llm.AssistantMessage(\n",
    "            [\n",
    "                llm.ToolCall(\n",
    "                    identifier=\"call_7484873738212\",\n",
    "                    name=\"integrate\",\n",
    "                    arguments={\n",
    "                        \"integrand\": \"x + 1\",\n",
    "                        \"lower_limit\": 0,\n",
    "                        \"upper_limit\": 1,\n",
    "                    },\n",
    "                ),\n",
    "            ]\n",
    "        ),\n",
    "        llm.ToolMessage(\n",
    "            content=llm.ToolResponse(result=\"1.5\", identifier=\"call_7484873738212\")\n",
    "        ),\n",
    "    ]\n",
    ")\n",
    "\n",
    "response = model.structured(message_history, FinalResponse)\n",
    "\n",
    "response.message.content"
   ]
  },
  {
   "cell_type": "markdown",
   "id": "57b394d2",
   "metadata": {},
   "source": []
  },
  {
   "cell_type": "markdown",
   "id": "b5683513",
   "metadata": {},
   "source": []
  },
  {
   "cell_type": "markdown",
   "id": "9d7021f2",
   "metadata": {},
   "source": []
  },
  {
   "cell_type": "code",
   "execution_count": null,
   "id": "d4c9506617a0ba18",
   "metadata": {},
   "outputs": [],
   "source": []
  }
 ],
 "metadata": {
  "kernelspec": {
   "display_name": "Python 3 (ipykernel)",
   "language": "python",
   "name": "python3"
  },
  "language_info": {
   "codemirror_mode": {
    "name": "ipython",
    "version": 3
   },
   "file_extension": ".py",
   "mimetype": "text/x-python",
   "name": "python",
   "nbconvert_exporter": "python",
   "pygments_lexer": "ipython3",
   "version": "3.10.11"
  }
 },
 "nbformat": 4,
 "nbformat_minor": 5
}
