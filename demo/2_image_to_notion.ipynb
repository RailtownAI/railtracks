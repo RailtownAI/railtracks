{
 "cells": [
  {
   "cell_type": "code",
   "execution_count": 1,
   "id": "22fba695",
   "metadata": {},
   "outputs": [],
   "source": [
    "import src.requestcompletion as rc\n",
    "from src.requestcompletion.llm import MessageHistory, SystemMessage, UserMessage\n",
    "from src.requestcompletion.nodes.library import from_function\n",
    "from src.requestcompletion.visuals.agent_viewer import AgentViewer\n",
    "from pydantic import BaseModel"
   ]
  },
  {
   "cell_type": "markdown",
   "id": "c6565a81",
   "metadata": {},
   "source": [
    "# Image Transcription Agent Demo"
   ]
  },
  {
   "cell_type": "markdown",
   "id": "44e12e1b",
   "metadata": {},
   "source": [
    "We will make an image to notion agent that can look at an image and understand it.\n",
    "\n",
    "We will then wrap these 2 Agents in a top level agent that can call them both sequencially."
   ]
  },
  {
   "cell_type": "markdown",
   "id": "efccd9ab",
   "metadata": {},
   "source": [
    "### Step 1: Creating the ImageAgent"
   ]
  },
  {
   "cell_type": "code",
   "execution_count": 2,
   "id": "8bd03c22",
   "metadata": {},
   "outputs": [],
   "source": [
    "# Importing all functions that the notion_agent can invoke\n",
    "from demo.sample_tools.image_tools import parse_image_to_text, parse_image_to_mermaid, save_image, analyze_image\n",
    "parse_image_to_mermaid_node = from_function(parse_image_to_mermaid)\n",
    "parse_image_to_text_node = from_function(parse_image_to_text)\n",
    "save_image_node = from_function(save_image)\n",
    "analyze_image_node = from_function(analyze_image)"
   ]
  },
  {
   "cell_type": "markdown",
   "id": "2e725ae4",
   "metadata": {},
   "source": [
    "We have already created the NotionAgent, ImageAgent, and AudioAgent in the sample_agents folder. Instead of importing and calling them directly, we will make the ImageAgent to demonstrate how easy it is to use the RC library."
   ]
  },
  {
   "cell_type": "code",
   "execution_count": 3,
   "id": "cfd53fcc",
   "metadata": {},
   "outputs": [],
   "source": [
    "class ImageTranscription(BaseModel):\n",
    "    text: str\n",
    "    code: str | None = None\n",
    "\n",
    "SYSTEM_PROMPT = SystemMessage(\n",
    "    \"\"\"\n",
    "    You are a helpful assistant that can parse images(mermaid code and text), analyze images, and transcribe them.\n",
    "    \"\"\"\n",
    ")\n",
    "\n",
    "ImageAgent = rc.library.tool_call_llm(\n",
    "    pretty_name=\"Image Agent\",\n",
    "    system_message=SYSTEM_PROMPT,\n",
    "    model=rc.llm.OpenAILLM(model_name=\"gpt-4o\"),\n",
    "    connected_nodes=[\n",
    "        from_function(parse_image_to_mermaid),\n",
    "        from_function(parse_image_to_text),\n",
    "        from_function(analyze_image),\n",
    "        from_function(save_image),\n",
    "    ],\n",
    "    output_model=ImageTranscription,\n",
    ")"
   ]
  },
  {
   "cell_type": "markdown",
   "id": "d0483c25",
   "metadata": {},
   "source": [
    "Yes, that is all the code you need to create a tool_calling ImageAgent 😙"
   ]
  },
  {
   "cell_type": "markdown",
   "id": "24ca26c5",
   "metadata": {},
   "source": [
    "### Step 2: Importing the NotionAgent"
   ]
  },
  {
   "cell_type": "code",
   "execution_count": 4,
   "id": "02d175c5",
   "metadata": {},
   "outputs": [],
   "source": [
    "from demo.sample_agents import NotionAgent   "
   ]
  },
  {
   "cell_type": "markdown",
   "id": "f95f1c71",
   "metadata": {},
   "source": [
    "### Step 3: Wrap both agents in a runner function and create a node from the function"
   ]
  },
  {
   "cell_type": "code",
   "execution_count": 5,
   "id": "7dd1392b",
   "metadata": {},
   "outputs": [],
   "source": [
    "async def top_level_node(user_prompt: str):\n",
    "    transcription = await rc.call(ImageAgent, \n",
    "                           message_history=MessageHistory([UserMessage(user_prompt)]))\n",
    "    \n",
    "    await rc.call(NotionAgent, message_history=MessageHistory([UserMessage(user_prompt),\n",
    "                                                               UserMessage(f\"Transctiption text: {transcription.text}\"),\n",
    "                                                               UserMessage(f\"Transctiption code: {transcription.code}\"),\n",
    "                                                               ]))\n",
    "    \n",
    "ImageNotionAgent = from_function(top_level_node)"
   ]
  },
  {
   "cell_type": "markdown",
   "id": "4e0db2e3",
   "metadata": {},
   "source": [
    "### Step 4: Invoke the top level node"
   ]
  },
  {
   "cell_type": "code",
   "execution_count": 6,
   "id": "f0cf8b1c",
   "metadata": {},
   "outputs": [],
   "source": [
    "USER_PROMPT = \"I have a sample flowchart I made on a whiteboard, the path to the image is 'demo/assets/mermaid.jpeg'. \" \\\n",
    "\"I want you add a mermaid diagram under the 'Agent Demo Root' page in Notion.\""
   ]
  },
  {
   "cell_type": "code",
   "execution_count": 7,
   "id": "2d0a06e2",
   "metadata": {},
   "outputs": [
    {
     "name": "stderr",
     "output_type": "stream",
     "text": [
      "[+2.872  s] RC.RUNNER   : INFO     - START CREATED top_level_node Node - (, user_prompt=I have a sample flowchart I made on a whiteboard, the path to the image is 'demo/assets/mermaid.jpeg'. I want you add a mermaid diagram under the 'Agent Demo Root' page in Notion.)\n",
      "[+2.874  s] RC.RUNNER   : INFO     - top_level_node Node CREATED Image Agent - (, message_history=user: I have a sample flowchart I made on a whiteboard, the path to the image is 'demo/assets/mermaid.jpeg'. I want you add a mermaid diagram under the 'Agent Demo Root' page in Notion.)\n",
      "[+4.144  s] RC.RUNNER   : INFO     - Image Agent CREATED parse_image_to_mermaid Node - ({'image_source': 'demo/assets/mermaid.jpeg'}, )\n"
     ]
    },
    {
     "name": "stdout",
     "output_type": "stream",
     "text": [
      "Loading image from demo/assets/mermaid.jpeg\n",
      "Image successfully uploaded and encoded\n",
      "Parsing image to Mermaid code...\n"
     ]
    },
    {
     "name": "stderr",
     "output_type": "stream",
     "text": [
      "[+9.378  s] RC.RUNNER   : INFO     - parse_image_to_mermaid Node DONE graph TD\n",
      "    AudioFile[Audio File] -.-> StartupNotes[Startup Notes]\n",
      "    StartupNotes --> RC[RC]\n",
      "    RC --> MeetingSummary[Meeting Summary]\n",
      "    RC --> MeetingStats[Meeting Stats]\n",
      "    RC --> MeetingWhiteboard[Meeting Whiteboard]\n",
      "    MeetingSummary --> NotionWriter[Notion Writer Tool]\n",
      "    MeetingStats --> NotionWriter\n",
      "    MeetingWhiteboard --> NotionWriter\n",
      "    NotionWriter --> NotionAPI[Notion API]\n"
     ]
    },
    {
     "name": "stdout",
     "output_type": "stream",
     "text": [
      "Mermaid code generation complete\n"
     ]
    },
    {
     "name": "stderr",
     "output_type": "stream",
     "text": [
      "[+14.525 s] RC.RUNNER   : INFO     - Image Agent CREATED ImageTranscription - (, message_history=user: Here's the Mermaid diagram code extracted from your flowchart:\n",
      "\n",
      "```mermaid\n",
      "graph TD\n",
      "    AudioFile[Audio File] -.-> StartupNotes[Startup Notes]\n",
      "    StartupNotes --> RC[RC]\n",
      "    RC --> MeetingSummary[Meeting Summary]\n",
      "    RC --> MeetingStats[Meeting Stats]\n",
      "    RC --> MeetingWhiteboard[Meeting Whiteboard]\n",
      "    MeetingSummary --> NotionWriter[Notion Writer Tool]\n",
      "    MeetingStats --> NotionWriter\n",
      "    MeetingWhiteboard --> NotionWriter\n",
      "    NotionWriter --> NotionAPI[Notion API]\n",
      "```\n",
      "\n",
      "To add this diagram to the 'Agent Demo Root' page in Notion, you can follow these steps:\n",
      "\n",
      "1. Open the 'Agent Demo Root' page in Notion.\n",
      "2. Click on the area where you want to add the diagram.\n",
      "3. Type `/code` to insert a code block.\n",
      "4. Paste the Mermaid code above into the code block.\n",
      "5. Ensure the code block is set to render as a Mermaid diagram.\n",
      "\n",
      "If you need further assistance with Notion, feel free to ask!)\n",
      "[+18.615 s] RC.RUNNER   : INFO     - ImageTranscription DONE text=\"Here's the Mermaid diagram code extracted from your flowchart:\\n\\n```mermaid\\ngraph TD\\n    AudioFile[Audio File] -.-> StartupNotes[Startup Notes]\\n    StartupNotes --> RC[RC]\\n    RC --> MeetingSummary[Meeting Summary]\\n    RC --> MeetingStats[Meeting Stats]\\n    RC --> MeetingWhiteboard[Meeting Whiteboard]\\n    MeetingSummary --> NotionWriter[Notion Writer Tool]\\n    MeetingStats --> NotionWriter\\n    MeetingWhiteboard --> NotionWriter\\n    NotionWriter --> NotionAPI[Notion API]\\n```\\n\\nTo add this diagram to the 'Agent Demo Root' page in Notion, you can follow these steps:\\n\\n1. Open the 'Agent Demo Root' page in Notion.\\n2. Click on the area where you want to add the diagram.\\n3. Type `/code` to insert a code block.\\n4. Paste the Mermaid code above into the code block.\\n5. Ensure the code block is set to render as a Mermaid diagram.\\n\\nIf you need further assistance with Notion, feel free to ask!\" code=None\n",
      "[+18.615 s] RC.RUNNER   : INFO     - Image Agent DONE text=\"Here's the Mermaid diagram code extracted from your flowchart:\\n\\n```mermaid\\ngraph TD\\n    AudioFile[Audio File] -.-> StartupNotes[Startup Notes]\\n    StartupNotes --> RC[RC]\\n    RC --> MeetingSummary[Meeting Summary]\\n    RC --> MeetingStats[Meeting Stats]\\n    RC --> MeetingWhiteboard[Meeting Whiteboard]\\n    MeetingSummary --> NotionWriter[Notion Writer Tool]\\n    MeetingStats --> NotionWriter\\n    MeetingWhiteboard --> NotionWriter\\n    NotionWriter --> NotionAPI[Notion API]\\n```\\n\\nTo add this diagram to the 'Agent Demo Root' page in Notion, you can follow these steps:\\n\\n1. Open the 'Agent Demo Root' page in Notion.\\n2. Click on the area where you want to add the diagram.\\n3. Type `/code` to insert a code block.\\n4. Paste the Mermaid code above into the code block.\\n5. Ensure the code block is set to render as a Mermaid diagram.\\n\\nIf you need further assistance with Notion, feel free to ask!\" code=None\n",
      "[+18.615 s] RC.RUNNER   : INFO     - top_level_node Node CREATED Notion Agent - (, message_history=user: I have a sample flowchart I made on a whiteboard, the path to the image is 'demo/assets/mermaid.jpeg'. I want you add a mermaid diagram under the 'Agent Demo Root' page in Notion.\n",
      "user: Transctiption text: Here's the Mermaid diagram code extracted from your flowchart:\n",
      "\n",
      "```mermaid\n",
      "graph TD\n",
      "    AudioFile[Audio File] -.-> StartupNotes[Startup Notes]\n",
      "    StartupNotes --> RC[RC]\n",
      "    RC --> MeetingSummary[Meeting Summary]\n",
      "    RC --> MeetingStats[Meeting Stats]\n",
      "    RC --> MeetingWhiteboard[Meeting Whiteboard]\n",
      "    MeetingSummary --> NotionWriter[Notion Writer Tool]\n",
      "    MeetingStats --> NotionWriter\n",
      "    MeetingWhiteboard --> NotionWriter\n",
      "    NotionWriter --> NotionAPI[Notion API]\n",
      "```\n",
      "\n",
      "To add this diagram to the 'Agent Demo Root' page in Notion, you can follow these steps:\n",
      "\n",
      "1. Open the 'Agent Demo Root' page in Notion.\n",
      "2. Click on the area where you want to add the diagram.\n",
      "3. Type `/code` to insert a code block.\n",
      "4. Paste the Mermaid code above into the code block.\n",
      "5. Ensure the code block is set to render as a Mermaid diagram.\n",
      "\n",
      "If you need further assistance with Notion, feel free to ask!\n",
      "user: Transctiption code: None)\n",
      "[+19.755 s] RC.RUNNER   : INFO     - Notion Agent CREATED find_page Node - ({'query': 'Agent Demo Root'}, )\n",
      "[+20.123 s] RC.RUNNER   : INFO     - find_page Node DONE [PageProperties(id='1d71b3a3-98fd-80e3-bfc4-c4226c281833', title='Agent Demo Root')]\n",
      "[+23.084 s] RC.RUNNER   : INFO     - Notion Agent CREATED add_block Node - ({'properties': {'language': None, 'block_type': None, 'page_id': '1d71b3a3-98fd-80e3-bfc4-c4226c281833', 'content': '```mermaid\\ngraph TD\\n    AudioFile[Audio File] -.-> StartupNotes[Startup Notes]\\n    StartupNotes --> RC[RC]\\n    RC --> MeetingSummary[Meeting Summary]\\n    RC --> MeetingStats[Meeting Stats]\\n    RC --> MeetingWhiteboard[Meeting Whiteboard]\\n    MeetingSummary --> NotionWriter[Notion Writer Tool]\\n    MeetingStats --> NotionWriter\\n    MeetingWhiteboard --> NotionWriter\\n    NotionWriter --> NotionAPI[Notion API]\\n```'}}, )\n",
      "c:\\Users\\Aryan\\dev\\rc\\src\\requestcompletion\\nodes\\library\\function.py:65: UserWarning: Error invoking function add_block\n",
      " ProvidedArgs: ()\n",
      "Provided kwargs:\n",
      "{'properties': {'language': None, 'block_type': None, 'page_id': '1d71b3a3-98fd-80e3-bfc4-c4226c281833', 'content': '```mermaid\\ngraph TD\\n    AudioFile[Audio File] -.-> StartupNotes[Startup Notes]\\n    StartupNotes --> RC[RC]\\n    RC --> MeetingSummary[Meeting Summary]\\n    RC --> MeetingStats[Meeting Stats]\\n    RC --> MeetingWhiteboard[Meeting Whiteboard]\\n    MeetingSummary --> NotionWriter[Notion Writer Tool]\\n    MeetingStats --> NotionWriter\\n    MeetingWhiteboard --> NotionWriter\\n    NotionWriter --> NotionAPI[Notion API]\\n```'}}.\n",
      ": 1 validation error for BlockProperties\n",
      "block_type\n",
      "  Input should be 'paragraph', 'code', 'heading_1', 'heading_2', 'heading_3', 'bulleted_list_item', 'numbered_list_item', 'to_do' or 'quote' [type=enum, input_value=None, input_type=NoneType]\n",
      "    For further information visit https://errors.pydantic.dev/2.10/v/enum\n",
      "  warnings.warn(\n",
      "[+23.084 s] RC.RUNNER   : ERROR    - add_block Node FAILED 1 validation error for BlockProperties\n",
      "block_type\n",
      "  Input should be 'paragraph', 'code', 'heading_1', 'heading_2', 'heading_3', 'bulleted_list_item', 'numbered_list_item', 'to_do' or 'quote' [type=enum, input_value=None, input_type=NoneType]\n",
      "    For further information visit https://errors.pydantic.dev/2.10/v/enum\n",
      "Traceback (most recent call last):\n",
      "  File \"c:\\Users\\Aryan\\dev\\rc\\src\\requestcompletion\\state\\execute.py\", line 301, in _run_request\n",
      "    result = await self._run_node(node)\n",
      "  File \"c:\\Users\\Aryan\\dev\\rc\\src\\requestcompletion\\state\\execute.py\", line 153, in _run_node\n",
      "    return await node.invoke()\n",
      "  File \"c:\\Users\\Aryan\\dev\\rc\\src\\requestcompletion\\nodes\\library\\function.py\", line 55, in invoke\n",
      "    converted_kwargs = self._convert_kwargs_to_appropriate_types()\n",
      "  File \"c:\\Users\\Aryan\\dev\\rc\\src\\requestcompletion\\nodes\\library\\function.py\", line 79, in _convert_kwargs_to_appropriate_types\n",
      "    converted_kwargs[param_name] = self._convert_value(\n",
      "  File \"c:\\Users\\Aryan\\dev\\rc\\src\\requestcompletion\\nodes\\library\\function.py\", line 103, in _convert_value\n",
      "    return self._convert_to_pydantic_model(value, target_type)\n",
      "  File \"c:\\Users\\Aryan\\dev\\rc\\src\\requestcompletion\\nodes\\library\\function.py\", line 132, in _convert_to_pydantic_model\n",
      "    return model_class(**value)\n",
      "  File \"c:\\Users\\Aryan\\dev\\rc\\.venv\\lib\\site-packages\\pydantic\\main.py\", line 214, in __init__\n",
      "    validated_self = self.__pydantic_validator__.validate_python(data, self_instance=self)\n",
      "pydantic_core._pydantic_core.ValidationError: 1 validation error for BlockProperties\n",
      "block_type\n",
      "  Input should be 'paragraph', 'code', 'heading_1', 'heading_2', 'heading_3', 'bulleted_list_item', 'numbered_list_item', 'to_do' or 'quote' [type=enum, input_value=None, input_type=NoneType]\n",
      "    For further information visit https://errors.pydantic.dev/2.10/v/enum\n",
      "[+23.100 s] RC.RUNNER   : INFO     - add_block Node DONE <src.requestcompletion.state.request.Failure object at 0x00000292F2041C30>\n",
      "[+25.432 s] RC.RUNNER   : INFO     - Notion Agent CREATED add_block Node - ({'properties': {'language': 'mermaid', 'block_type': 'code', 'page_id': '1d71b3a3-98fd-80e3-bfc4-c4226c281833', 'content': 'graph TD\\n    AudioFile[Audio File] -.-> StartupNotes[Startup Notes]\\n    StartupNotes --> RC[RC]\\n    RC --> MeetingSummary[Meeting Summary]\\n    RC --> MeetingStats[Meeting Stats]\\n    RC --> MeetingWhiteboard[Meeting Whiteboard]\\n    MeetingSummary --> NotionWriter[Notion Writer Tool]\\n    MeetingStats --> NotionWriter\\n    MeetingWhiteboard --> NotionWriter\\n    NotionWriter --> NotionAPI[Notion API]'}}, )\n",
      "[+25.770 s] RC.RUNNER   : INFO     - add_block Node DONE None\n",
      "[+27.062 s] RC.RUNNER   : INFO     - Notion Agent DONE assistant: The Mermaid diagram has been successfully added to the 'Agent Demo Root' page in Notion. If you need any more help, feel free to ask!\n",
      "[+27.062 s] RC.RUNNER   : INFO     - top_level_node Node DONE None\n"
     ]
    }
   ],
   "source": [
    "with rc.Runner(executor_config=rc.ExecutorConfig(timeout=50)) as runner:\n",
    "    result = await runner.run(ImageNotionAgent, \n",
    "                              user_prompt=USER_PROMPT,\n",
    "                              )"
   ]
  },
  {
   "cell_type": "markdown",
   "id": "b0b67b58",
   "metadata": {},
   "source": [
    "### Additional: Graphical representation of the nodes and the flow of data"
   ]
  },
  {
   "cell_type": "code",
   "execution_count": 8,
   "id": "f30ca07c",
   "metadata": {},
   "outputs": [],
   "source": [
    "viewer = AgentViewer(\n",
    "        stamps=result.all_stamps,\n",
    "        request_heap=result.request_heap,\n",
    "        node_heap=result.node_heap\n",
    "    )\n",
    "viewer.display_graph()"
   ]
  }
 ],
 "metadata": {
  "kernelspec": {
   "display_name": ".venv",
   "language": "python",
   "name": "python3"
  },
  "language_info": {
   "codemirror_mode": {
    "name": "ipython",
    "version": 3
   },
   "file_extension": ".py",
   "mimetype": "text/x-python",
   "name": "python",
   "nbconvert_exporter": "python",
   "pygments_lexer": "ipython3",
   "version": "3.10.11"
  }
 },
 "nbformat": 4,
 "nbformat_minor": 5
}
