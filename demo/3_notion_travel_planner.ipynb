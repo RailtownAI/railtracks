{
 "cells": [
  {
   "cell_type": "code",
   "execution_count": 1,
   "id": "9898ad62",
   "metadata": {},
   "outputs": [],
   "source": [
    "from typing import Any, Dict\n",
    "import src.requestcompletion as rc\n",
    "from src.requestcompletion.llm import MessageHistory, UserMessage\n",
    "from src.requestcompletion.visuals.agent_viewer import AgentViewer\n",
    "from src.requestcompletion.nodes.library import from_function"
   ]
  },
  {
   "cell_type": "markdown",
   "id": "9b3586be",
   "metadata": {},
   "source": [
    "## Travel Planner Agent Demo"
   ]
  },
  {
   "cell_type": "markdown",
   "id": "8a231816",
   "metadata": {},
   "source": [
    "We will make a travel planning agent that can help you plan your next trip. We will make a NotionAgent and provide the notion agent as a tool to the travel planning agent. \n",
    "\n",
    "First, we will create a NotionAgent that can help us create a new page, add a block to it, find a page, and find and tag a user."
   ]
  },
  {
   "cell_type": "markdown",
   "id": "daf1d92e",
   "metadata": {},
   "source": [
    "### Step 1: Creating the NotionAgentTool node"
   ]
  },
  {
   "cell_type": "code",
   "execution_count": 2,
   "id": "e1f5c48c",
   "metadata": {},
   "outputs": [],
   "source": [
    "# Importing all functions that the notion_agent can invoke\n",
    "from demo.sample_tools.notion_tools import find_page, create_page, add_block, find_user, tag_user"
   ]
  },
  {
   "cell_type": "markdown",
   "id": "492854fe",
   "metadata": {},
   "source": [
    "Making a tool_calling_llm using the inherited ***class based implementation*** for demo. \n",
    "\n",
    "We can use easy_wrappers as well (further down)"
   ]
  },
  {
   "cell_type": "code",
   "execution_count": 3,
   "id": "f9f779d4",
   "metadata": {},
   "outputs": [],
   "source": [
    "class NotionAgenticTool(rc.library.ToolCallLLM):\n",
    "    def __init__(self, message_history: MessageHistory):\n",
    "        super().__init__(message_history=message_history, \n",
    "                         model=rc.llm.OpenAILLM(\"gpt-4o\"),  # or any other model you want to use\n",
    "                         )\n",
    "\n",
    "    # define a set of tools that the agent can use\n",
    "    def connected_nodes(self):  \n",
    "        return {\n",
    "            from_function(find_page),   # make a node from a function in one line 🥰\n",
    "            from_function(create_page),\n",
    "            from_function(add_block),\n",
    "            from_function(find_user),\n",
    "            from_function(tag_user),\n",
    "            }\n",
    "    \n",
    "    # =================== If this node is a tool, then it needs to implement the following ==================\n",
    "    @classmethod\n",
    "    def tool_info(cls) -> rc.llm.Tool:\n",
    "        return rc.llm.Tool(\n",
    "            name=\"NotionAgenticTool\",\n",
    "            detail=\"A notion tool that can find pages, create pages, add blocks, find users, and tag users.\",\n",
    "            parameters={rc.llm.Parameter(name=\"notion_task_request\", param_type=\"string\", description=\"The detailed task prompt for the task to be completed.\")},\n",
    "        )\n",
    "\n",
    "    @classmethod\n",
    "    def prepare_tool(cls, tool_parameters: Dict[str, Any]):\n",
    "        message_hist = MessageHistory(\n",
    "            [UserMessage(f\"Request Prompt: '{tool_parameters['notion_task_request']}'\")]\n",
    "        )\n",
    "        return cls(message_hist)\n",
    "    # ===========================================================================================================\n",
    "\n",
    "    @classmethod\n",
    "    def pretty_name(cls) -> str:\n",
    "        return \"Notion Agentic Tool\"\n"
   ]
  },
  {
   "cell_type": "markdown",
   "id": "23234fed",
   "metadata": {},
   "source": [
    "### Step 2: Make the TravelAgent tool_calling node and give it all the tools"
   ]
  },
  {
   "cell_type": "code",
   "execution_count": 4,
   "id": "8e3963b7",
   "metadata": {},
   "outputs": [],
   "source": [
    "# Import (or write) the functions that we want to give to the agent as tools\n",
    "from demo.sample_tools.travel_planning_tools import available_locations, currency_used, average_location_cost, convert_currency\n",
    "convert_currency_node = rc.library.from_function(convert_currency)\n",
    "available_locations_node = rc.library.from_function(available_locations)\n",
    "currency_used_node = rc.library.from_function(currency_used)\n",
    "average_location_cost_node = rc.library.from_function(average_location_cost)    "
   ]
  },
  {
   "cell_type": "markdown",
   "id": "823135fe",
   "metadata": {},
   "source": [
    "Making an Agent (tool_calling_llm) using easy_usage_wrapper"
   ]
  },
  {
   "cell_type": "code",
   "execution_count": 5,
   "id": "1653ef53",
   "metadata": {},
   "outputs": [],
   "source": [
    "TravelAgent = rc.library.tool_call_llm(\n",
    "    connected_nodes={\n",
    "        convert_currency_node,\n",
    "        available_locations_node,\n",
    "        currency_used_node,\n",
    "        average_location_cost_node,\n",
    "        NotionAgenticTool,\n",
    "    },\n",
    "    pretty_name=\"Travel Agent\",\n",
    "    system_message=rc.llm.SystemMessage(\n",
    "        \"You are a travel planner that will plan a trip. you have access to AvailableLocations, ConvertCurrency, CurrencyUsed, AverageLocationCost and NotionAgenticTool tools. Use them when you need to.\"\n",
    "    ),\n",
    "    model=rc.llm.OpenAILLM(\"gpt-4o\"),  # you can use any model you want\n",
    ")"
   ]
  },
  {
   "cell_type": "markdown",
   "id": "dbff63df",
   "metadata": {},
   "source": [
    "### Step 3: Invoke the Agent with the User Input"
   ]
  },
  {
   "cell_type": "code",
   "execution_count": null,
   "id": "c9c00386",
   "metadata": {},
   "outputs": [],
   "source": [
    "USER_PROMPT = \"I live in Vancouver. I am going to travel to Denmark for 3 days, followed by Germany for 2 days and finally New York for 4 days. Please provide me with a budget summary for the trip in CAD.\" \\\n",
    "\"Please make a notion page called Vancouver Travel Summary under the page 'Agent Demo Root' and write my travel summary in it.\""
   ]
  },
  {
   "cell_type": "code",
   "execution_count": 7,
   "id": "19e75687",
   "metadata": {},
   "outputs": [
    {
     "name": "stderr",
     "output_type": "stream",
     "text": [
      "[+2.822  s] RC.RUNNER   : INFO     - START CREATED Travel Agent - (, message_history=user: I live in Vancouver. I am going to travel to Denmark for 3 days, followed by Germany for 2 days and finally New York for 4 days. Please provide me with a budget summary for the trip in CAD.Please make a notion page called Aryan Travel Summary under the page 'Agent Demo Root' and write my travel summary in it.)\n",
      "[+5.336  s] RC.RUNNER   : INFO     - Travel Agent CREATED currency_used Node - ({'location': 'Denmark'}, )\n",
      "[+5.336  s] RC.RUNNER   : INFO     - currency_used Node DONE EUR\n",
      "[+8.629  s] RC.RUNNER   : INFO     - Travel Agent CREATED currency_used Node - ({'location': 'Germany'}, )\n",
      "[+8.630  s] RC.RUNNER   : INFO     - currency_used Node DONE EUR\n",
      "[+11.889 s] RC.RUNNER   : INFO     - Travel Agent CREATED currency_used Node - ({'location': 'New York'}, )\n",
      "[+11.889 s] RC.RUNNER   : INFO     - currency_used Node DONE USD\n",
      "[+13.517 s] RC.RUNNER   : INFO     - Travel Agent CREATED average_location_cost Node - ({'num_days': 3, 'location': 'Denmark'}, )\n",
      "[+13.517 s] RC.RUNNER   : INFO     - average_location_cost Node DONE 750.0\n",
      "[+14.439 s] RC.RUNNER   : INFO     - Travel Agent CREATED average_location_cost Node - ({'num_days': 2, 'location': 'Germany'}, )\n",
      "[+14.455 s] RC.RUNNER   : INFO     - average_location_cost Node DONE 420.0\n",
      "[+15.443 s] RC.RUNNER   : INFO     - Travel Agent CREATED average_location_cost Node - ({'num_days': 4, 'location': 'New York'}, )\n",
      "[+15.443 s] RC.RUNNER   : INFO     - average_location_cost Node DONE 800.0\n",
      "[+18.137 s] RC.RUNNER   : INFO     - Travel Agent CREATED convert_currency Node - ({'amount': 750, 'to_currency': 'CAD', 'from_currency': 'EUR'}, )\n",
      "[+18.152 s] RC.RUNNER   : INFO     - convert_currency Node DONE 1140.0\n",
      "[+19.318 s] RC.RUNNER   : INFO     - Travel Agent CREATED convert_currency Node - ({'amount': 420, 'to_currency': 'CAD', 'from_currency': 'EUR'}, )\n",
      "[+19.318 s] RC.RUNNER   : INFO     - convert_currency Node DONE 638.4\n",
      "[+20.252 s] RC.RUNNER   : INFO     - Travel Agent CREATED convert_currency Node - ({'amount': 800, 'to_currency': 'CAD', 'from_currency': 'USD'}, )\n",
      "[+20.252 s] RC.RUNNER   : INFO     - convert_currency Node DONE 1024.0\n",
      "[+24.026 s] RC.RUNNER   : INFO     - Travel Agent CREATED Notion Agentic Tool - ({'notion_task_request': \"Create a page titled 'Aryan Travel Summary' under the page 'Agent Demo Root'. Include the following travel summary: \\n\\n**Travel Summary for Aryan**\\n\\n- **Denmark**: 3 days\\n  - Average Cost: 750 EUR\\n  - Converted Cost: 1140 CAD\\n\\n- **Germany**: 2 days\\n  - Average Cost: 420 EUR\\n  - Converted Cost: 638.4 CAD\\n\\n- **New York**: 4 days\\n  - Average Cost: 800 USD\\n  - Converted Cost: 1024 CAD\\n\\n**Total Estimated Cost in CAD**: 2802.4 CAD\"}, )\n",
      "[+25.221 s] RC.RUNNER   : INFO     - Notion Agentic Tool CREATED find_page Node - ({'query': 'Agent Demo Root'}, )\n",
      "[+25.517 s] RC.RUNNER   : INFO     - find_page Node DONE [PageProperties(id='1d71b3a3-98fd-80e3-bfc4-c4226c281833', title='Agent Demo Root')]\n",
      "[+26.455 s] RC.RUNNER   : INFO     - Notion Agentic Tool CREATED create_page Node - ({'properties': {'title': 'Aryan Travel Summary', 'parent_id': '1d71b3a3-98fd-80e3-bfc4-c4226c281833'}}, )\n",
      "[+26.720 s] RC.RUNNER   : INFO     - create_page Node DONE 1dd1b3a3-98fd-81e5-84d3-d834cfc13d67\n",
      "[+28.880 s] RC.RUNNER   : INFO     - Notion Agentic Tool CREATED add_block Node - ({'properties': {'content': '**Travel Summary for Aryan**\\n\\n- **Denmark**: 3 days\\n  - Average Cost: 750 EUR\\n  - Converted Cost: 1140 CAD\\n\\n- **Germany**: 2 days\\n  - Average Cost: 420 EUR\\n  - Converted Cost: 638.4 CAD\\n\\n- **New York**: 4 days\\n  - Average Cost: 800 USD\\n  - Converted Cost: 1024 CAD\\n\\n**Total Estimated Cost in CAD**: 2802.4 CAD', 'page_id': '1dd1b3a3-98fd-81e5-84d3-d834cfc13d67'}}, )\n",
      "[+29.236 s] RC.RUNNER   : INFO     - add_block Node DONE None\n",
      "[+30.282 s] RC.RUNNER   : INFO     - Notion Agentic Tool DONE The page titled \"Aryan Travel Summary\" has been created under \"Agent Demo Root\" with the provided travel summary details.\n",
      "[+34.054 s] RC.RUNNER   : INFO     - Travel Agent DONE assistant: Your travel summary has been created in Notion under the page \"Agent Demo Root\" with the title \"Aryan Travel Summary.\" Here's a quick overview of your budget:\n",
      "\n",
      "- **Denmark**: 3 days\n",
      "  - Average Cost: 750 EUR\n",
      "  - Converted Cost: 1140 CAD\n",
      "\n",
      "- **Germany**: 2 days\n",
      "  - Average Cost: 420 EUR\n",
      "  - Converted Cost: 638.4 CAD\n",
      "\n",
      "- **New York**: 4 days\n",
      "  - Average Cost: 800 USD\n",
      "  - Converted Cost: 1024 CAD\n",
      "\n",
      "**Total Estimated Cost in CAD**: 2802.4 CAD\n",
      "\n",
      "Feel free to check the Notion page for more details!\n"
     ]
    }
   ],
   "source": [
    "with rc.Runner(executor_config=rc.ExecutorConfig(timeout=50)) as runner:\n",
    "    result = await runner.run(TravelAgent, message_history=MessageHistory([UserMessage(USER_PROMPT)]))"
   ]
  },
  {
   "cell_type": "markdown",
   "id": "97180874",
   "metadata": {},
   "source": [
    "### Additional: Graphical representation of the nodes and the flow of data"
   ]
  },
  {
   "cell_type": "code",
   "execution_count": 8,
   "id": "d719427a",
   "metadata": {},
   "outputs": [],
   "source": [
    "viewer = AgentViewer(\n",
    "        stamps=result.all_stamps,\n",
    "        request_heap=result.request_heap,\n",
    "        node_heap=result.node_heap\n",
    "    )\n",
    "viewer.display_graph()"
   ]
  },
  {
   "cell_type": "markdown",
   "id": "0f229c61",
   "metadata": {},
   "source": [
    "# Extended Demo: Vocal Travel Planner Agent"
   ]
  },
  {
   "cell_type": "markdown",
   "id": "19447e6b",
   "metadata": {},
   "source": [
    "To the agent that we constructed above, we will add an AudioAgent that can record the user's voice and transcribe it.\n",
    "\n",
    "We can then invoke this new VocalTravelAgent to listen to the user's voice and make travel itineraries on Notion."
   ]
  },
  {
   "cell_type": "markdown",
   "id": "ae866df9",
   "metadata": {},
   "source": [
    "### Step 1: Import the AudioAgent"
   ]
  },
  {
   "cell_type": "code",
   "execution_count": 9,
   "id": "4b834194",
   "metadata": {},
   "outputs": [],
   "source": [
    "from demo.sample_agents import AudioAgent"
   ]
  },
  {
   "cell_type": "markdown",
   "id": "b89d2b6b",
   "metadata": {},
   "source": [
    "### Step 2: Create the VocalTravelAgent by invoking the AudioAgent and TravelAgent in a sequencial manner."
   ]
  },
  {
   "cell_type": "code",
   "execution_count": 10,
   "id": "ecf82dcd",
   "metadata": {},
   "outputs": [],
   "source": [
    "async def vocal_travel_planner(user_prompt: str):\n",
    "    voice_transcription = await rc.call(AudioAgent, \n",
    "                           message_history=MessageHistory([UserMessage(user_prompt)]))\n",
    "    \n",
    "    await rc.call(TravelAgent, message_history=MessageHistory([UserMessage(voice_transcription.user_voice_command)]))\n",
    "    \n",
    "VocalTravelAgent = from_function(vocal_travel_planner)"
   ]
  },
  {
   "cell_type": "markdown",
   "id": "d63876b7",
   "metadata": {},
   "source": [
    "### Step 3: Invoke the Agent and give it a voice command"
   ]
  },
  {
   "cell_type": "markdown",
   "id": "06ea3db0",
   "metadata": {},
   "source": [
    "Recorded audio file: demo/audio_recordings/travel_plan.wav\n",
    "\n",
    "Recorded audio content: \n",
    "\n",
    "*I am planning a trip from NY to Germany. I will stay in Germany for 3 days followed by Vancouver for a week. Give me an estimated budget for this trip in USD and put it under the notion page Travel Summary.*"
   ]
  },
  {
   "cell_type": "code",
   "execution_count": 11,
   "id": "a4ed7aa5",
   "metadata": {},
   "outputs": [],
   "source": [
    "# use incase there is too much background noise\n",
    "USER_PROMPT = \"I have recorded my voice command in demo/audio_recordings/travel_plan.wav. Please transcribe it.\"\n",
    "# USER_PROMPT = \"Record my audio for 15 seconds and transcribe it.\""
   ]
  },
  {
   "cell_type": "code",
   "execution_count": 12,
   "id": "374f0433",
   "metadata": {},
   "outputs": [
    {
     "name": "stderr",
     "output_type": "stream",
     "text": [
      "[+34.209 s] RC.RUNNER   : INFO     - START CREATED vocal_travel_planner Node - (, user_prompt=I have recorded my voice command in demo/audio_recordings/travel_plan.wav. Please transcribe it.)\n",
      "[+34.209 s] RC.RUNNER   : INFO     - START CREATED vocal_travel_planner Node - (, user_prompt=I have recorded my voice command in demo/audio_recordings/travel_plan.wav. Please transcribe it.)\n",
      "[+34.209 s] RC.RUNNER   : INFO     - vocal_travel_planner Node CREATED Audio Agent - (, message_history=user: I have recorded my voice command in demo/audio_recordings/travel_plan.wav. Please transcribe it.)\n",
      "[+34.209 s] RC.RUNNER   : INFO     - vocal_travel_planner Node CREATED Audio Agent - (, message_history=user: I have recorded my voice command in demo/audio_recordings/travel_plan.wav. Please transcribe it.)\n",
      "[+35.842 s] RC.RUNNER   : INFO     - Audio Agent CREATED transcribe_audio Node - ({'filename': 'demo/audio_recordings/travel_plan.wav'}, )\n",
      "[+35.842 s] RC.RUNNER   : INFO     - Audio Agent CREATED transcribe_audio Node - ({'filename': 'demo/audio_recordings/travel_plan.wav'}, )\n",
      "[+37.479 s] RC.RUNNER   : INFO     - transcribe_audio Node DONE I am planning a trip from New York to Germany. I will stay in Germany for three days, followed by Vancouver for a week. Give me an estimated budget for this trip in USD and put it under the Notion page called travel summary.\n",
      "[+37.479 s] RC.RUNNER   : INFO     - transcribe_audio Node DONE I am planning a trip from New York to Germany. I will stay in Germany for three days, followed by Vancouver for a week. Give me an estimated budget for this trip in USD and put it under the Notion page called travel summary.\n",
      "[+39.943 s] RC.RUNNER   : INFO     - Audio Agent CREATED AudioTranscription - (, message_history=user: The transcription of your voice command is: \n",
      "\n",
      "\"I am planning a trip from New York to Germany. I will stay in Germany for three days, followed by Vancouver for a week. Give me an estimated budget for this trip in USD and put it under the Notion page called travel summary.\")\n",
      "[+39.943 s] RC.RUNNER   : INFO     - Audio Agent CREATED AudioTranscription - (, message_history=user: The transcription of your voice command is: \n",
      "\n",
      "\"I am planning a trip from New York to Germany. I will stay in Germany for three days, followed by Vancouver for a week. Give me an estimated budget for this trip in USD and put it under the Notion page called travel summary.\")\n",
      "[+42.714 s] RC.RUNNER   : INFO     - AudioTranscription DONE user_voice_command='I am planning a trip from New York to Germany. I will stay in Germany for three days, followed by Vancouver for a week. Give me an estimated budget for this trip in USD and put it under the Notion page called travel summary.'\n",
      "[+42.714 s] RC.RUNNER   : INFO     - AudioTranscription DONE user_voice_command='I am planning a trip from New York to Germany. I will stay in Germany for three days, followed by Vancouver for a week. Give me an estimated budget for this trip in USD and put it under the Notion page called travel summary.'\n",
      "[+42.715 s] RC.RUNNER   : INFO     - Audio Agent DONE user_voice_command='I am planning a trip from New York to Germany. I will stay in Germany for three days, followed by Vancouver for a week. Give me an estimated budget for this trip in USD and put it under the Notion page called travel summary.'\n",
      "[+42.715 s] RC.RUNNER   : INFO     - Audio Agent DONE user_voice_command='I am planning a trip from New York to Germany. I will stay in Germany for three days, followed by Vancouver for a week. Give me an estimated budget for this trip in USD and put it under the Notion page called travel summary.'\n",
      "[+42.717 s] RC.RUNNER   : INFO     - vocal_travel_planner Node CREATED Travel Agent - (, message_history=user: I am planning a trip from New York to Germany. I will stay in Germany for three days, followed by Vancouver for a week. Give me an estimated budget for this trip in USD and put it under the Notion page called travel summary.)\n",
      "[+42.717 s] RC.RUNNER   : INFO     - vocal_travel_planner Node CREATED Travel Agent - (, message_history=user: I am planning a trip from New York to Germany. I will stay in Germany for three days, followed by Vancouver for a week. Give me an estimated budget for this trip in USD and put it under the Notion page called travel summary.)\n",
      "[+44.947 s] RC.RUNNER   : INFO     - Travel Agent CREATED currency_used Node - ({'location': 'Germany'}, )\n",
      "[+44.947 s] RC.RUNNER   : INFO     - Travel Agent CREATED currency_used Node - ({'location': 'Germany'}, )\n",
      "[+44.956 s] RC.RUNNER   : INFO     - currency_used Node DONE EUR\n",
      "[+44.956 s] RC.RUNNER   : INFO     - currency_used Node DONE EUR\n",
      "[+46.541 s] RC.RUNNER   : INFO     - Travel Agent CREATED average_location_cost Node - ({'location': 'Germany', 'num_days': 3}, )\n",
      "[+46.541 s] RC.RUNNER   : INFO     - Travel Agent CREATED average_location_cost Node - ({'location': 'Germany', 'num_days': 3}, )\n",
      "[+46.543 s] RC.RUNNER   : INFO     - average_location_cost Node DONE 630.0\n",
      "[+46.543 s] RC.RUNNER   : INFO     - average_location_cost Node DONE 630.0\n",
      "[+47.973 s] RC.RUNNER   : INFO     - Travel Agent CREATED currency_used Node - ({'location': 'Vancouver'}, )\n",
      "[+47.973 s] RC.RUNNER   : INFO     - Travel Agent CREATED currency_used Node - ({'location': 'Vancouver'}, )\n",
      "[+47.975 s] RC.RUNNER   : INFO     - currency_used Node DONE CAD\n",
      "[+47.975 s] RC.RUNNER   : INFO     - currency_used Node DONE CAD\n",
      "[+49.361 s] RC.RUNNER   : INFO     - Travel Agent CREATED average_location_cost Node - ({'location': 'Vancouver', 'num_days': 7}, )\n",
      "[+49.361 s] RC.RUNNER   : INFO     - Travel Agent CREATED average_location_cost Node - ({'location': 'Vancouver', 'num_days': 7}, )\n",
      "[+49.362 s] RC.RUNNER   : INFO     - average_location_cost Node DONE 1400.0\n",
      "[+49.362 s] RC.RUNNER   : INFO     - average_location_cost Node DONE 1400.0\n",
      "[+51.852 s] RC.RUNNER   : INFO     - Travel Agent CREATED convert_currency Node - ({'amount': 630, 'to_currency': 'USD', 'from_currency': 'EUR'}, )\n",
      "[+51.852 s] RC.RUNNER   : INFO     - Travel Agent CREATED convert_currency Node - ({'amount': 630, 'to_currency': 'USD', 'from_currency': 'EUR'}, )\n",
      "[+51.852 s] RC.RUNNER   : INFO     - convert_currency Node DONE 741.195\n",
      "[+51.852 s] RC.RUNNER   : INFO     - convert_currency Node DONE 741.195\n",
      "[+53.116 s] RC.RUNNER   : INFO     - Travel Agent CREATED convert_currency Node - ({'amount': 1400, 'to_currency': 'USD', 'from_currency': 'CAD'}, )\n",
      "[+53.116 s] RC.RUNNER   : INFO     - Travel Agent CREATED convert_currency Node - ({'amount': 1400, 'to_currency': 'USD', 'from_currency': 'CAD'}, )\n",
      "[+53.118 s] RC.RUNNER   : INFO     - convert_currency Node DONE 1092.0\n",
      "[+53.118 s] RC.RUNNER   : INFO     - convert_currency Node DONE 1092.0\n",
      "[+55.503 s] RC.RUNNER   : INFO     - Travel Agent CREATED Notion Agentic Tool - ({'notion_task_request': \"Create a travel summary for a trip from New York to Germany and Vancouver. \\n\\nEstimated Budget:\\n- Germany (3 days): 741.20 USD\\n- Vancouver (7 days): 1092.00 USD\\n\\nTotal Estimated Budget: 1833.20 USD\\n\\nPlease add this information to the Notion page titled 'Travel Summary.'\"}, )\n",
      "[+55.503 s] RC.RUNNER   : INFO     - Travel Agent CREATED Notion Agentic Tool - ({'notion_task_request': \"Create a travel summary for a trip from New York to Germany and Vancouver. \\n\\nEstimated Budget:\\n- Germany (3 days): 741.20 USD\\n- Vancouver (7 days): 1092.00 USD\\n\\nTotal Estimated Budget: 1833.20 USD\\n\\nPlease add this information to the Notion page titled 'Travel Summary.'\"}, )\n",
      "[+56.169 s] RC.RUNNER   : INFO     - Notion Agentic Tool CREATED find_page Node - ({'query': 'Travel Summary'}, )\n",
      "[+56.169 s] RC.RUNNER   : INFO     - Notion Agentic Tool CREATED find_page Node - ({'query': 'Travel Summary'}, )\n",
      "[+56.389 s] RC.RUNNER   : INFO     - find_page Node DONE [PageProperties(id='1dd1b3a3-98fd-81e5-84d3-d834cfc13d67', title='Aryan Travel Summary'), PageProperties(id='1dd1b3a3-98fd-8132-8bcc-ed3ad35daabb', title='travel-summary')]\n",
      "[+56.389 s] RC.RUNNER   : INFO     - find_page Node DONE [PageProperties(id='1dd1b3a3-98fd-81e5-84d3-d834cfc13d67', title='Aryan Travel Summary'), PageProperties(id='1dd1b3a3-98fd-8132-8bcc-ed3ad35daabb', title='travel-summary')]\n",
      "[+58.510 s] RC.RUNNER   : INFO     - Notion Agentic Tool CREATED add_block Node - ({'properties': {'page_id': '1dd1b3a3-98fd-8132-8bcc-ed3ad35daabb', 'content': '**Travel Summary**\\n\\n**Trip Details:**\\n- **From:** New York\\n- **To:** Germany and Vancouver\\n\\n**Estimated Budget:**\\n- **Germany (3 days):** 741.20 USD\\n- **Vancouver (7 days):** 1092.00 USD\\n\\n**Total Estimated Budget:** 1833.20 USD', 'language': None, 'block_type': None}}, )\n",
      "[+58.510 s] RC.RUNNER   : INFO     - Notion Agentic Tool CREATED add_block Node - ({'properties': {'page_id': '1dd1b3a3-98fd-8132-8bcc-ed3ad35daabb', 'content': '**Travel Summary**\\n\\n**Trip Details:**\\n- **From:** New York\\n- **To:** Germany and Vancouver\\n\\n**Estimated Budget:**\\n- **Germany (3 days):** 741.20 USD\\n- **Vancouver (7 days):** 1092.00 USD\\n\\n**Total Estimated Budget:** 1833.20 USD', 'language': None, 'block_type': None}}, )\n",
      "c:\\Users\\Aryan\\dev\\rc\\src\\requestcompletion\\nodes\\library\\function.py:65: UserWarning: Error invoking function add_block\n",
      " ProvidedArgs: ()\n",
      "Provided kwargs:\n",
      "{'properties': {'page_id': '1dd1b3a3-98fd-8132-8bcc-ed3ad35daabb', 'content': '**Travel Summary**\\n\\n**Trip Details:**\\n- **From:** New York\\n- **To:** Germany and Vancouver\\n\\n**Estimated Budget:**\\n- **Germany (3 days):** 741.20 USD\\n- **Vancouver (7 days):** 1092.00 USD\\n\\n**Total Estimated Budget:** 1833.20 USD', 'language': None, 'block_type': None}}.\n",
      ": 1 validation error for BlockProperties\n",
      "block_type\n",
      "  Input should be 'paragraph', 'code', 'heading_1', 'heading_2', 'heading_3', 'bulleted_list_item', 'numbered_list_item', 'to_do' or 'quote' [type=enum, input_value=None, input_type=NoneType]\n",
      "    For further information visit https://errors.pydantic.dev/2.10/v/enum\n",
      "  warnings.warn(\n",
      "[+58.510 s] RC.RUNNER   : ERROR    - add_block Node FAILED 1 validation error for BlockProperties\n",
      "block_type\n",
      "  Input should be 'paragraph', 'code', 'heading_1', 'heading_2', 'heading_3', 'bulleted_list_item', 'numbered_list_item', 'to_do' or 'quote' [type=enum, input_value=None, input_type=NoneType]\n",
      "    For further information visit https://errors.pydantic.dev/2.10/v/enum\n",
      "Traceback (most recent call last):\n",
      "  File \"c:\\Users\\Aryan\\dev\\rc\\src\\requestcompletion\\state\\execute.py\", line 301, in _run_request\n",
      "    result = await self._run_node(node)\n",
      "  File \"c:\\Users\\Aryan\\dev\\rc\\src\\requestcompletion\\state\\execute.py\", line 153, in _run_node\n",
      "    return await node.invoke()\n",
      "  File \"c:\\Users\\Aryan\\dev\\rc\\src\\requestcompletion\\nodes\\library\\function.py\", line 55, in invoke\n",
      "    converted_kwargs = self._convert_kwargs_to_appropriate_types()\n",
      "  File \"c:\\Users\\Aryan\\dev\\rc\\src\\requestcompletion\\nodes\\library\\function.py\", line 79, in _convert_kwargs_to_appropriate_types\n",
      "    converted_kwargs[param_name] = self._convert_value(\n",
      "  File \"c:\\Users\\Aryan\\dev\\rc\\src\\requestcompletion\\nodes\\library\\function.py\", line 103, in _convert_value\n",
      "    return self._convert_to_pydantic_model(value, target_type)\n",
      "  File \"c:\\Users\\Aryan\\dev\\rc\\src\\requestcompletion\\nodes\\library\\function.py\", line 132, in _convert_to_pydantic_model\n",
      "    return model_class(**value)\n",
      "  File \"c:\\Users\\Aryan\\dev\\rc\\.venv\\lib\\site-packages\\pydantic\\main.py\", line 214, in __init__\n",
      "    validated_self = self.__pydantic_validator__.validate_python(data, self_instance=self)\n",
      "pydantic_core._pydantic_core.ValidationError: 1 validation error for BlockProperties\n",
      "block_type\n",
      "  Input should be 'paragraph', 'code', 'heading_1', 'heading_2', 'heading_3', 'bulleted_list_item', 'numbered_list_item', 'to_do' or 'quote' [type=enum, input_value=None, input_type=NoneType]\n",
      "    For further information visit https://errors.pydantic.dev/2.10/v/enum\n",
      "[+58.510 s] RC.RUNNER   : ERROR    - add_block Node FAILED 1 validation error for BlockProperties\n",
      "block_type\n",
      "  Input should be 'paragraph', 'code', 'heading_1', 'heading_2', 'heading_3', 'bulleted_list_item', 'numbered_list_item', 'to_do' or 'quote' [type=enum, input_value=None, input_type=NoneType]\n",
      "    For further information visit https://errors.pydantic.dev/2.10/v/enum\n",
      "Traceback (most recent call last):\n",
      "  File \"c:\\Users\\Aryan\\dev\\rc\\src\\requestcompletion\\state\\execute.py\", line 301, in _run_request\n",
      "    result = await self._run_node(node)\n",
      "  File \"c:\\Users\\Aryan\\dev\\rc\\src\\requestcompletion\\state\\execute.py\", line 153, in _run_node\n",
      "    return await node.invoke()\n",
      "  File \"c:\\Users\\Aryan\\dev\\rc\\src\\requestcompletion\\nodes\\library\\function.py\", line 55, in invoke\n",
      "    converted_kwargs = self._convert_kwargs_to_appropriate_types()\n",
      "  File \"c:\\Users\\Aryan\\dev\\rc\\src\\requestcompletion\\nodes\\library\\function.py\", line 79, in _convert_kwargs_to_appropriate_types\n",
      "    converted_kwargs[param_name] = self._convert_value(\n",
      "  File \"c:\\Users\\Aryan\\dev\\rc\\src\\requestcompletion\\nodes\\library\\function.py\", line 103, in _convert_value\n",
      "    return self._convert_to_pydantic_model(value, target_type)\n",
      "  File \"c:\\Users\\Aryan\\dev\\rc\\src\\requestcompletion\\nodes\\library\\function.py\", line 132, in _convert_to_pydantic_model\n",
      "    return model_class(**value)\n",
      "  File \"c:\\Users\\Aryan\\dev\\rc\\.venv\\lib\\site-packages\\pydantic\\main.py\", line 214, in __init__\n",
      "    validated_self = self.__pydantic_validator__.validate_python(data, self_instance=self)\n",
      "pydantic_core._pydantic_core.ValidationError: 1 validation error for BlockProperties\n",
      "block_type\n",
      "  Input should be 'paragraph', 'code', 'heading_1', 'heading_2', 'heading_3', 'bulleted_list_item', 'numbered_list_item', 'to_do' or 'quote' [type=enum, input_value=None, input_type=NoneType]\n",
      "    For further information visit https://errors.pydantic.dev/2.10/v/enum\n",
      "[+58.510 s] RC.RUNNER   : INFO     - add_block Node DONE <src.requestcompletion.state.request.Failure object at 0x00000185D11735B0>\n",
      "[+58.510 s] RC.RUNNER   : INFO     - add_block Node DONE <src.requestcompletion.state.request.Failure object at 0x00000185D11735B0>\n",
      "[+60.819 s] RC.RUNNER   : INFO     - Notion Agentic Tool CREATED add_block Node - ({'properties': {'page_id': '1dd1b3a3-98fd-8132-8bcc-ed3ad35daabb', 'content': '**Travel Summary**\\n\\n**Trip Details:**\\n- **From:** New York\\n- **To:** Germany and Vancouver\\n\\n**Estimated Budget:**\\n- **Germany (3 days):** 741.20 USD\\n- **Vancouver (7 days):** 1092.00 USD\\n\\n**Total Estimated Budget:** 1833.20 USD', 'language': None, 'block_type': 'paragraph'}}, )\n",
      "[+60.819 s] RC.RUNNER   : INFO     - Notion Agentic Tool CREATED add_block Node - ({'properties': {'page_id': '1dd1b3a3-98fd-8132-8bcc-ed3ad35daabb', 'content': '**Travel Summary**\\n\\n**Trip Details:**\\n- **From:** New York\\n- **To:** Germany and Vancouver\\n\\n**Estimated Budget:**\\n- **Germany (3 days):** 741.20 USD\\n- **Vancouver (7 days):** 1092.00 USD\\n\\n**Total Estimated Budget:** 1833.20 USD', 'language': None, 'block_type': 'paragraph'}}, )\n",
      "[+61.197 s] RC.RUNNER   : INFO     - add_block Node DONE None\n",
      "[+61.197 s] RC.RUNNER   : INFO     - add_block Node DONE None\n",
      "[+61.897 s] RC.RUNNER   : INFO     - Notion Agentic Tool DONE The travel summary has been successfully added to the Notion page titled \"Travel Summary.\"\n",
      "[+61.897 s] RC.RUNNER   : INFO     - Notion Agentic Tool DONE The travel summary has been successfully added to the Notion page titled \"Travel Summary.\"\n",
      "[+64.424 s] RC.RUNNER   : INFO     - Travel Agent DONE assistant: Your travel summary has been added to the Notion page titled \"Travel Summary.\" Here's a quick overview of the estimated budget for your trip:\n",
      "\n",
      "- **Germany (3 days):** 741.20 USD\n",
      "- **Vancouver (7 days):** 1092.00 USD\n",
      "\n",
      "**Total Estimated Budget:** 1833.20 USD\n",
      "\n",
      "If you need further assistance, feel free to ask!\n",
      "[+64.424 s] RC.RUNNER   : INFO     - Travel Agent DONE assistant: Your travel summary has been added to the Notion page titled \"Travel Summary.\" Here's a quick overview of the estimated budget for your trip:\n",
      "\n",
      "- **Germany (3 days):** 741.20 USD\n",
      "- **Vancouver (7 days):** 1092.00 USD\n",
      "\n",
      "**Total Estimated Budget:** 1833.20 USD\n",
      "\n",
      "If you need further assistance, feel free to ask!\n",
      "[+64.424 s] RC.RUNNER   : INFO     - vocal_travel_planner Node DONE None\n",
      "[+64.424 s] RC.RUNNER   : INFO     - vocal_travel_planner Node DONE None\n"
     ]
    }
   ],
   "source": [
    "with rc.Runner(executor_config=rc.ExecutorConfig(timeout=50)) as runner:\n",
    "    result = await runner.run(VocalTravelAgent,\n",
    "                              user_prompt=USER_PROMPT,\n",
    "                              )"
   ]
  },
  {
   "cell_type": "markdown",
   "id": "81f5e503",
   "metadata": {},
   "source": [
    "### Additional: Graph Visualization"
   ]
  },
  {
   "cell_type": "code",
   "execution_count": 13,
   "id": "60bdeb6d",
   "metadata": {},
   "outputs": [],
   "source": [
    "viewer = AgentViewer(\n",
    "        stamps=result.all_stamps,\n",
    "        request_heap=result.request_heap,\n",
    "        node_heap=result.node_heap\n",
    "    )\n",
    "viewer.display_graph()"
   ]
  }
 ],
 "metadata": {
  "kernelspec": {
   "display_name": ".venv",
   "language": "python",
   "name": "python3"
  },
  "language_info": {
   "codemirror_mode": {
    "name": "ipython",
    "version": 3
   },
   "file_extension": ".py",
   "mimetype": "text/x-python",
   "name": "python",
   "nbconvert_exporter": "python",
   "pygments_lexer": "ipython3",
   "version": "3.10.11"
  }
 },
 "nbformat": 4,
 "nbformat_minor": 5
}
