{
 "cells": [
  {
   "cell_type": "code",
   "execution_count": 1,
   "id": "9898ad62",
   "metadata": {},
   "outputs": [],
   "source": [
    "from typing import Any, Dict\n",
    "import src.requestcompletion as rc\n",
    "from src.requestcompletion.llm import MessageHistory, UserMessage\n",
    "from src.requestcompletion.visuals.agent_viewer import AgentViewer\n",
    "from src.requestcompletion.nodes.library import from_function"
   ]
  },
  {
   "cell_type": "markdown",
   "id": "9b3586be",
   "metadata": {},
   "source": [
    "## Travel Planner Agent Demo"
   ]
  },
  {
   "cell_type": "markdown",
   "id": "8a231816",
   "metadata": {},
   "source": [
    "We will make a travel planning agent that can help you plan your next trip. We will make a NotionAgent and provide the notion agent as a tool to the travel planning agent. \n",
    "\n",
    "First, we will create a NotionAgent that can help us create a new page, add a block to it, find a page, and find and tag a user."
   ]
  },
  {
   "cell_type": "markdown",
   "id": "daf1d92e",
   "metadata": {},
   "source": [
    "### Step 1: Creating the NotionAgentTool node"
   ]
  },
  {
   "cell_type": "code",
   "execution_count": 2,
   "id": "e1f5c48c",
   "metadata": {},
   "outputs": [],
   "source": [
    "# Importing all functions that the notion_agent can invoke\n",
    "from demo.sample_tools.notion_tools import find_page, create_page, add_block, find_user, tag_user"
   ]
  },
  {
   "cell_type": "markdown",
   "id": "492854fe",
   "metadata": {},
   "source": [
    "Making a tool_calling_llm using the inherited ***class based implementation*** for demo. \n",
    "\n",
    "We can use easy_wrappers as well (further down)"
   ]
  },
  {
   "cell_type": "code",
   "execution_count": 3,
   "id": "f9f779d4",
   "metadata": {},
   "outputs": [],
   "source": [
    "class NotionAgenticTool(rc.library.ToolCallLLM):\n",
    "    def __init__(self, message_history: MessageHistory):\n",
    "        super().__init__(message_history=message_history, \n",
    "                         model=rc.llm.OpenAILLM(\"gpt-4o\"),  # or any other model you want to use\n",
    "                         )\n",
    "\n",
    "    # define a set of tools that the agent can use\n",
    "    def connected_nodes(self):  \n",
    "        return {\n",
    "            from_function(find_page),   # make a node from a function in one line 🥰\n",
    "            from_function(create_page),\n",
    "            from_function(add_block),\n",
    "            from_function(find_user),\n",
    "            from_function(tag_user),\n",
    "            }\n",
    "    \n",
    "    # =================== If this node is a tool, then it needs to implement the following ==================\n",
    "    @classmethod\n",
    "    def tool_info(cls) -> rc.llm.Tool:\n",
    "        return rc.llm.Tool(\n",
    "            name=\"NotionAgenticTool\",\n",
    "            detail=\"A notion tool that can find pages, create pages, add blocks, find users, and tag users.\",\n",
    "            parameters={rc.llm.Parameter(name=\"notion_task_request\", param_type=\"string\", description=\"The detailed task prompt for the task to be completed.\")},\n",
    "        )\n",
    "\n",
    "    @classmethod\n",
    "    def prepare_tool(cls, tool_parameters: Dict[str, Any]):\n",
    "        message_hist = MessageHistory(\n",
    "            [UserMessage(f\"Request Prompt: '{tool_parameters['notion_task_request']}'\")]\n",
    "        )\n",
    "        return cls(message_hist)\n",
    "    # ===========================================================================================================\n",
    "\n",
    "    @classmethod\n",
    "    def pretty_name(cls) -> str:\n",
    "        return \"Notion Agentic Tool\"\n"
   ]
  },
  {
   "cell_type": "markdown",
   "id": "23234fed",
   "metadata": {},
   "source": [
    "### Step 2: Make the TravelAgent tool_calling node and give it all the tools"
   ]
  },
  {
   "cell_type": "code",
   "execution_count": 4,
   "id": "8e3963b7",
   "metadata": {},
   "outputs": [],
   "source": [
    "# Import (or write) the functions that we want to give to the agent as tools\n",
    "from demo.sample_tools.travel_planning_tools import available_locations, currency_used, average_location_cost, convert_currency\n",
    "convert_currency_node = rc.library.from_function(convert_currency)\n",
    "available_locations_node = rc.library.from_function(available_locations)\n",
    "currency_used_node = rc.library.from_function(currency_used)\n",
    "average_location_cost_node = rc.library.from_function(average_location_cost)    "
   ]
  },
  {
   "cell_type": "markdown",
   "id": "823135fe",
   "metadata": {},
   "source": [
    "Making an Agent (tool_calling_llm) using easy_usage_wrapper"
   ]
  },
  {
   "cell_type": "code",
   "execution_count": 5,
   "id": "1653ef53",
   "metadata": {},
   "outputs": [],
   "source": [
    "TravelAgent = rc.library.tool_call_llm(\n",
    "    connected_nodes={\n",
    "        convert_currency_node,\n",
    "        available_locations_node,\n",
    "        currency_used_node,\n",
    "        average_location_cost_node,\n",
    "        NotionAgenticTool,\n",
    "    },\n",
    "    pretty_name=\"Travel Agent\",\n",
    "    system_message=rc.llm.SystemMessage(\n",
    "        \"You are a travel planner that will plan a trip. you have access to AvailableLocations, ConvertCurrency, CurrencyUsed, AverageLocationCost and NotionAgenticTool tools. Use them when you need to.\"\n",
    "    ),\n",
    "    model=rc.llm.OpenAILLM(\"gpt-4o\"),  # you can use any model you want\n",
    ")"
   ]
  },
  {
   "cell_type": "markdown",
   "id": "dbff63df",
   "metadata": {},
   "source": [
    "### Step 3: Invoke the Agent with the User Input"
   ]
  },
  {
   "cell_type": "code",
   "execution_count": 6,
   "id": "c9c00386",
   "metadata": {},
   "outputs": [],
   "source": [
    "USER_PROMPT = \"I live in Vancouver. I am going to travel to Denmark for 3 days, followed by Germany for 2 days and finally New York for 4 days. Please provide me with a budget summary for the trip in CAD.\" \\\n",
    "\"Please make a notion page called Aryan Travel Summary under the page 'Agent Demo Root' and write my travel summary in it.\""
   ]
  },
  {
   "cell_type": "code",
   "execution_count": 7,
   "id": "19e75687",
   "metadata": {},
   "outputs": [
    {
     "name": "stderr",
     "output_type": "stream",
     "text": [
      "[+10.744 s] RC.RUNNER   : INFO     - START CREATED Travel Agent - (, message_history=user: I live in Vancouver. I am going to travel to Denmark for 3 days, followed by Germany for 2 days and finally New York for 4 days. Please provide me with a budget summary for the trip in CAD.Please make a notion page called Aryan Travel Summary under the page 'Agent Demo Root' and write my travel summary in it.)\n",
      "[+11.619 s] RC.RUNNER   : INFO     - Travel Agent CREATED available_locations Node - ({}, )\n",
      "[+11.621 s] RC.RUNNER   : INFO     - available_locations Node DONE ['New York', 'Los Angeles', 'Chicago', 'Delhi', 'Mumbai', 'Bangalore', 'Paris', 'Denmark', 'Sweden', 'Norway', 'Germany', 'Vancouver', 'Toronto']\n",
      "[+13.746 s] RC.RUNNER   : INFO     - Travel Agent CREATED average_location_cost Node - ({'num_days': 3, 'location': 'Denmark'}, )\n",
      "[+13.746 s] RC.RUNNER   : INFO     - average_location_cost Node DONE 750.0\n",
      "[+15.080 s] RC.RUNNER   : INFO     - Travel Agent CREATED average_location_cost Node - ({'num_days': 2, 'location': 'Germany'}, )\n",
      "[+15.080 s] RC.RUNNER   : INFO     - average_location_cost Node DONE 420.0\n",
      "[+16.043 s] RC.RUNNER   : INFO     - Travel Agent CREATED average_location_cost Node - ({'num_days': 4, 'location': 'New York'}, )\n",
      "[+16.043 s] RC.RUNNER   : INFO     - average_location_cost Node DONE 800.0\n",
      "[+17.459 s] RC.RUNNER   : INFO     - Travel Agent CREATED currency_used Node - ({'location': 'Denmark'}, )\n",
      "[+17.459 s] RC.RUNNER   : INFO     - currency_used Node DONE EUR\n",
      "[+18.444 s] RC.RUNNER   : INFO     - Travel Agent CREATED currency_used Node - ({'location': 'Germany'}, )\n",
      "[+18.444 s] RC.RUNNER   : INFO     - currency_used Node DONE EUR\n",
      "[+19.393 s] RC.RUNNER   : INFO     - Travel Agent CREATED currency_used Node - ({'location': 'New York'}, )\n",
      "[+19.393 s] RC.RUNNER   : INFO     - currency_used Node DONE USD\n",
      "[+21.094 s] RC.RUNNER   : INFO     - Travel Agent CREATED convert_currency Node - ({'from_currency': 'EUR', 'amount': 750, 'to_currency': 'CAD'}, )\n",
      "[+21.095 s] RC.RUNNER   : INFO     - convert_currency Node DONE 1140.0\n",
      "[+22.196 s] RC.RUNNER   : INFO     - Travel Agent CREATED convert_currency Node - ({'from_currency': 'EUR', 'amount': 420, 'to_currency': 'CAD'}, )\n",
      "[+22.196 s] RC.RUNNER   : INFO     - convert_currency Node DONE 638.4\n",
      "[+23.454 s] RC.RUNNER   : INFO     - Travel Agent CREATED convert_currency Node - ({'from_currency': 'USD', 'amount': 800, 'to_currency': 'CAD'}, )\n",
      "[+23.455 s] RC.RUNNER   : INFO     - convert_currency Node DONE 1024.0\n",
      "[+26.826 s] RC.RUNNER   : INFO     - Travel Agent CREATED Notion Agentic Tool - ({'notion_task_request': \"Create a page titled 'Aryan Travel Summary' under the page 'Agent Demo Root'. Write the following travel summary in it: \\n\\n---\\n\\n**Travel Summary for Aryan**\\n\\n**Destinations and Duration:**\\n- Denmark: 3 days\\n- Germany: 2 days\\n- New York: 4 days\\n\\n**Budget Summary in CAD:**\\n- Denmark: 1140 CAD\\n- Germany: 638.4 CAD\\n- New York: 1024 CAD\\n\\n**Total Estimated Budget:** 2802.4 CAD\\n\\n---\\n\\nThis summary provides an estimated budget for Aryan's travel from Vancouver to Denmark, Germany, and New York, with costs converted to Canadian Dollars (CAD).\"}, )\n",
      "[+28.309 s] RC.RUNNER   : INFO     - Notion Agentic Tool CREATED find_page Node - ({'query': 'Agent Demo Root'}, )\n",
      "[+28.629 s] RC.RUNNER   : INFO     - find_page Node DONE [PageProperties(id='1d71b3a3-98fd-80e3-bfc4-c4226c281833', title='Agent Demo Root')]\n",
      "[+29.844 s] RC.RUNNER   : INFO     - Notion Agentic Tool CREATED create_page Node - ({'properties': {'title': 'Aryan Travel Summary', 'parent_id': '1d71b3a3-98fd-80e3-bfc4-c4226c281833'}}, )\n",
      "[+30.154 s] RC.RUNNER   : INFO     - create_page Node DONE 1dd1b3a3-98fd-8118-832d-c82ecdb5d543\n",
      "[+36.477 s] RC.RUNNER   : INFO     - Notion Agentic Tool CREATED add_block Node - ({'properties': {'content': \"**Travel Summary for Aryan**\\n\\n**Destinations and Duration:**\\n- Denmark: 3 days\\n- Germany: 2 days\\n- New York: 4 days\\n\\n**Budget Summary in CAD:**\\n- Denmark: 1140 CAD\\n- Germany: 638.4 CAD\\n- New York: 1024 CAD\\n\\n**Total Estimated Budget:** 2802.4 CAD\\n\\nThis summary provides an estimated budget for Aryan's travel from Vancouver to Denmark, Germany, and New York, with costs converted to Canadian Dollars (CAD).\", 'page_id': '1dd1b3a3-98fd-8118-832d-c82ecdb5d543'}}, )\n",
      "[+36.862 s] RC.RUNNER   : INFO     - add_block Node DONE None\n",
      "[+38.234 s] RC.RUNNER   : INFO     - Notion Agentic Tool DONE The page titled \"Aryan Travel Summary\" has been created under \"Agent Demo Root,\" and the travel summary has been added to it.\n",
      "[+40.696 s] RC.RUNNER   : INFO     - Travel Agent DONE assistant: Your travel summary has been created and added to a Notion page titled \"Aryan Travel Summary\" under the page \"Agent Demo Root.\" Here's a quick overview of your travel budget:\n",
      "\n",
      "---\n",
      "\n",
      "**Travel Summary for Aryan**\n",
      "\n",
      "**Destinations and Duration:**\n",
      "- Denmark: 3 days\n",
      "- Germany: 2 days\n",
      "- New York: 4 days\n",
      "\n",
      "**Budget Summary in CAD:**\n",
      "- Denmark: 1140 CAD\n",
      "- Germany: 638.4 CAD\n",
      "- New York: 1024 CAD\n",
      "\n",
      "**Total Estimated Budget:** 2802.4 CAD\n",
      "\n",
      "---\n",
      "\n",
      "This summary provides an estimated budget for your travel from Vancouver to Denmark, Germany, and New York, with costs converted to Canadian Dollars (CAD).\n"
     ]
    }
   ],
   "source": [
    "with rc.Runner(executor_config=rc.ExecutorConfig(timeout=50)) as runner:\n",
    "    result = await runner.run(TravelAgent, message_history=MessageHistory([UserMessage(USER_PROMPT)]))"
   ]
  },
  {
   "cell_type": "markdown",
   "id": "97180874",
   "metadata": {},
   "source": [
    "### Additional: Graphical representation of the nodes and the flow of data"
   ]
  },
  {
   "cell_type": "code",
   "execution_count": 8,
   "id": "d719427a",
   "metadata": {},
   "outputs": [],
   "source": [
    "viewer = AgentViewer(\n",
    "        stamps=result.all_stamps,\n",
    "        request_heap=result.request_heap,\n",
    "        node_heap=result.node_heap\n",
    "    )\n",
    "viewer.display_graph()"
   ]
  },
  {
   "cell_type": "markdown",
   "id": "0f229c61",
   "metadata": {},
   "source": [
    "# Vocal Travel Planner Agent"
   ]
  },
  {
   "cell_type": "markdown",
   "id": "19447e6b",
   "metadata": {},
   "source": [
    "To the agent that we constructed above, we will add an AudioAgent that can record the user's voice and transcribe it.\n",
    "\n",
    "We can then invoke this new VocalTravelAgent to listen to the user's voice and make travel itineraries on Notion."
   ]
  },
  {
   "cell_type": "markdown",
   "id": "ae866df9",
   "metadata": {},
   "source": [
    "### Step 1: Import the AudioAgent"
   ]
  },
  {
   "cell_type": "code",
   "execution_count": 6,
   "id": "4b834194",
   "metadata": {},
   "outputs": [],
   "source": [
    "from demo.sample_agents import AudioAgent"
   ]
  },
  {
   "cell_type": "markdown",
   "id": "b89d2b6b",
   "metadata": {},
   "source": [
    "### Step 2: Create the VocalTravelAgent by invoking the AudioAgent and TravelAgent in a sequencial manner."
   ]
  },
  {
   "cell_type": "code",
   "execution_count": 7,
   "id": "ecf82dcd",
   "metadata": {},
   "outputs": [],
   "source": [
    "async def vocal_travel_planner(user_prompt: str):\n",
    "    voice_transcription = await rc.call(AudioAgent, \n",
    "                           message_history=MessageHistory([UserMessage(user_prompt)]))\n",
    "    \n",
    "    await rc.call(TravelAgent, message_history=MessageHistory([UserMessage(voice_transcription.user_voice_command)]))\n",
    "    \n",
    "VocalTravelAgent = from_function(vocal_travel_planner)"
   ]
  },
  {
   "cell_type": "markdown",
   "id": "d63876b7",
   "metadata": {},
   "source": [
    "### Step 3: Invoke the Agent and give it a voice command"
   ]
  },
  {
   "cell_type": "code",
   "execution_count": 8,
   "id": "a4ed7aa5",
   "metadata": {},
   "outputs": [],
   "source": [
    "USER_PROMPT = \"Record my audio for 15 seconds and transcribe it.\""
   ]
  },
  {
   "cell_type": "code",
   "execution_count": 9,
   "id": "374f0433",
   "metadata": {},
   "outputs": [
    {
     "name": "stderr",
     "output_type": "stream",
     "text": [
      "[+38.969 s] RC.RUNNER   : INFO     - START CREATED vocal_travel_planner Node - (, user_prompt=Record my audio for 15 seconds and transcribe it.)\n",
      "[+38.970 s] RC.RUNNER   : INFO     - vocal_travel_planner Node CREATED Audio Agent - (, message_history=user: Record my audio for 15 seconds and transcribe it.)\n",
      "[+40.831 s] RC.RUNNER   : INFO     - Audio Agent CREATED record_audio Node - ({'filename': 'user_audio.wav', 'duration': 15}, )\n"
     ]
    },
    {
     "name": "stdout",
     "output_type": "stream",
     "text": [
      "Starting 15 second recording...\n",
      "Recording complete. Saving file...\n"
     ]
    },
    {
     "name": "stderr",
     "output_type": "stream",
     "text": [
      "[+57.504 s] RC.RUNNER   : INFO     - record_audio Node DONE None\n"
     ]
    },
    {
     "name": "stdout",
     "output_type": "stream",
     "text": [
      "Saved to user_audio.wav\n"
     ]
    },
    {
     "name": "stderr",
     "output_type": "stream",
     "text": [
      "[+58.367 s] RC.RUNNER   : INFO     - Audio Agent CREATED transcribe_audio Node - ({'filename': 'user_audio.wav'}, )\n",
      "[+59.750 s] RC.RUNNER   : INFO     - transcribe_audio Node DONE planning a trip from New York to Germany for three days followed by Denmark for two days give me a travel summary in USD and put it under the notion page called a test one which is already existing\n",
      "[+61.250 s] RC.RUNNER   : INFO     - Audio Agent CREATED AudioTranscription - (, message_history=user: The audio has been successfully recorded and transcribed. Here's the transcription:\n",
      "\n",
      "\"planning a trip from New York to Germany for three days followed by Denmark for two days give me a travel summary in USD and put it under the notion page called a test one which is already existing\"\n",
      "\n",
      "If you need any further assistance or actions based on this transcription, feel free to let me know!)\n",
      "[+62.767 s] RC.RUNNER   : INFO     - AudioTranscription DONE user_voice_command='planning a trip from New York to Germany for three days followed by Denmark for two days give me a travel summary in USD and put it under the notion page called a test one which is already existing'\n",
      "[+62.767 s] RC.RUNNER   : INFO     - Audio Agent DONE user_voice_command='planning a trip from New York to Germany for three days followed by Denmark for two days give me a travel summary in USD and put it under the notion page called a test one which is already existing'\n",
      "[+62.767 s] RC.RUNNER   : INFO     - vocal_travel_planner Node CREATED Travel Agent - (, message_history=user: planning a trip from New York to Germany for three days followed by Denmark for two days give me a travel summary in USD and put it under the notion page called a test one which is already existing)\n",
      "[+64.267 s] RC.RUNNER   : INFO     - Travel Agent CREATED currency_used Node - ({'location': 'Germany'}, )\n",
      "[+64.267 s] RC.RUNNER   : INFO     - currency_used Node DONE EUR\n",
      "[+65.333 s] RC.RUNNER   : INFO     - Travel Agent CREATED currency_used Node - ({'location': 'Denmark'}, )\n",
      "[+65.349 s] RC.RUNNER   : INFO     - currency_used Node DONE EUR\n",
      "[+66.593 s] RC.RUNNER   : INFO     - Travel Agent CREATED average_location_cost Node - ({'location': 'Germany', 'num_days': 3}, )\n",
      "[+66.594 s] RC.RUNNER   : INFO     - average_location_cost Node DONE 630.0\n",
      "[+67.786 s] RC.RUNNER   : INFO     - Travel Agent CREATED average_location_cost Node - ({'location': 'Denmark', 'num_days': 2}, )\n",
      "[+67.786 s] RC.RUNNER   : INFO     - average_location_cost Node DONE 500.0\n",
      "[+68.900 s] RC.RUNNER   : INFO     - Travel Agent CREATED convert_currency Node - ({'amount': 1130.0, 'from_currency': 'EUR', 'to_currency': 'USD'}, )\n",
      "[+68.900 s] RC.RUNNER   : INFO     - convert_currency Node DONE 1329.4450000000002\n",
      "[+71.951 s] RC.RUNNER   : INFO     - Travel Agent CREATED Notion Agentic Tool - ({'notion_task_request': \"Create a travel summary for a trip from New York to Germany and Denmark.\\n\\n**Travel Summary:**\\n\\n- **Destination 1:** Germany\\n  - **Duration:** 3 days\\n  - **Cost in EUR:** 630\\n\\n- **Destination 2:** Denmark\\n  - **Duration:** 2 days\\n  - **Cost in EUR:** 500\\n\\n- **Total Cost in EUR:** 1130\\n- **Total Cost in USD:** 1329.45\\n\\nThis summary is for the existing page titled 'Test One'. Please ensure the information is added under that page.\"}, )\n",
      "[+72.900 s] RC.RUNNER   : INFO     - Notion Agentic Tool CREATED find_page Node - ({'query': 'Test One'}, )\n",
      "[+73.268 s] RC.RUNNER   : INFO     - find_page Node DONE [PageProperties(id='1dd1b3a3-98fd-815e-94f7-def78937feda', title='test1')]\n",
      "[+77.851 s] RC.RUNNER   : INFO     - Notion Agentic Tool CREATED add_block Node - ({'properties': {'page_id': '1dd1b3a3-98fd-815e-94f7-def78937feda', 'content': '**Travel Summary:**\\n\\n- **Destination 1:** Germany\\n  - **Duration:** 3 days\\n  - **Cost in EUR:** 630\\n\\n- **Destination 2:** Denmark\\n  - **Duration:** 2 days\\n  - **Cost in EUR:** 500\\n\\n- **Total Cost in EUR:** 1130\\n- **Total Cost in USD:** 1329.45'}}, )\n",
      "[+78.732 s] RC.RUNNER   : INFO     - add_block Node DONE None\n",
      "[+79.568 s] RC.RUNNER   : INFO     - Notion Agentic Tool DONE The travel summary has been successfully added to the page titled \"Test One.\"\n",
      "[+81.837 s] RC.RUNNER   : INFO     - Travel Agent DONE assistant: The travel summary for your trip from New York to Germany and Denmark has been successfully added to the Notion page titled \"Test One.\" Here's a brief overview:\n",
      "\n",
      "- **Destination 1:** Germany\n",
      "  - **Duration:** 3 days\n",
      "  - **Cost in EUR:** 630\n",
      "\n",
      "- **Destination 2:** Denmark\n",
      "  - **Duration:** 2 days\n",
      "  - **Cost in EUR:** 500\n",
      "\n",
      "- **Total Cost in EUR:** 1130\n",
      "- **Total Cost in USD:** 1329.45\n",
      "\n",
      "If you need any more details or further assistance, feel free to ask!\n",
      "[+81.837 s] RC.RUNNER   : INFO     - vocal_travel_planner Node DONE None\n"
     ]
    }
   ],
   "source": [
    "with rc.Runner(executor_config=rc.ExecutorConfig(timeout=50)) as runner:\n",
    "    result = await runner.run(VocalTravelAgent,\n",
    "                              user_prompt=USER_PROMPT,\n",
    "                              )"
   ]
  },
  {
   "cell_type": "markdown",
   "id": "81f5e503",
   "metadata": {},
   "source": [
    "### Additional: Graph Visualization"
   ]
  },
  {
   "cell_type": "code",
   "execution_count": 10,
   "id": "60bdeb6d",
   "metadata": {},
   "outputs": [],
   "source": [
    "viewer = AgentViewer(\n",
    "        stamps=result.all_stamps,\n",
    "        request_heap=result.request_heap,\n",
    "        node_heap=result.node_heap\n",
    "    )\n",
    "viewer.display_graph()"
   ]
  }
 ],
 "metadata": {
  "kernelspec": {
   "display_name": ".venv",
   "language": "python",
   "name": "python3"
  },
  "language_info": {
   "codemirror_mode": {
    "name": "ipython",
    "version": 3
   },
   "file_extension": ".py",
   "mimetype": "text/x-python",
   "name": "python",
   "nbconvert_exporter": "python",
   "pygments_lexer": "ipython3",
   "version": "3.10.11"
  }
 },
 "nbformat": 4,
 "nbformat_minor": 5
}
