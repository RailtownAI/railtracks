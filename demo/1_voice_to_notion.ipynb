{
 "cells": [
  {
   "cell_type": "code",
   "execution_count": 1,
   "id": "22fba695",
   "metadata": {},
   "outputs": [],
   "source": [
    "import src.requestcompletion as rc\n",
    "from src.requestcompletion.llm import MessageHistory, SystemMessage, UserMessage\n",
    "from src.requestcompletion.nodes.library import from_function\n",
    "from src.requestcompletion.visuals.agent_viewer import AgentViewer\n",
    "from pydantic import BaseModel"
   ]
  },
  {
   "cell_type": "markdown",
   "id": "c6565a81",
   "metadata": {},
   "source": [
    "# Voice Transcription Agent Demo"
   ]
  },
  {
   "cell_type": "markdown",
   "id": "44e12e1b",
   "metadata": {},
   "source": [
    "We will make a voice to notion agent that can transcribe your voice commands.\n",
    "\n",
    "Then we will wrap this agent in a top level agent that will call the voice agent and pass the voice user prompt to the notion agent."
   ]
  },
  {
   "cell_type": "markdown",
   "id": "efccd9ab",
   "metadata": {},
   "source": [
    "### Step 1: Creating the VoiceAgent"
   ]
  },
  {
   "cell_type": "code",
   "execution_count": 2,
   "id": "8bd03c22",
   "metadata": {},
   "outputs": [],
   "source": [
    "# Importing all functions that the notion_agent can invoke\n",
    "from demo.sample_tools.audio_tools import record_audio, transcribe_audio"
   ]
  },
  {
   "cell_type": "markdown",
   "id": "2e725ae4",
   "metadata": {},
   "source": [
    "We have already created the NotionAgent, ImageAgent, and AudioAgent in the sample_agents folder. Instead of importing and calling them directly, we will make the VoiceAgent to demonstrate how easy it is to use the RC library."
   ]
  },
  {
   "cell_type": "code",
   "execution_count": 3,
   "id": "cfd53fcc",
   "metadata": {},
   "outputs": [],
   "source": [
    "class VoiceTranscription(BaseModel):\n",
    "    user_voice_command: str\n",
    "\n",
    "SYSTEM_PROMPT = SystemMessage(\n",
    "    \"\"\"\n",
    "    You are a helpful assistant that can record users audio and transcribe it.\n",
    "    \"\"\"\n",
    ")\n",
    "\n",
    "AudioAgent = rc.library.tool_call_llm(\n",
    "    pretty_name=\"Audio Agent\",\n",
    "    system_message=SYSTEM_PROMPT,\n",
    "    model=rc.llm.OpenAILLM(model_name=\"gpt-4o\"),\n",
    "    connected_nodes={\n",
    "        from_function(record_audio),\n",
    "        from_function(transcribe_audio),\n",
    "    },\n",
    "    output_model=VoiceTranscription,        # for structured output with tool_call_llm\n",
    ")"
   ]
  },
  {
   "cell_type": "markdown",
   "id": "d0483c25",
   "metadata": {},
   "source": [
    "Yes, that is all the code you need to create a tool_calling VoiceAgent 😙"
   ]
  },
  {
   "cell_type": "markdown",
   "id": "24ca26c5",
   "metadata": {},
   "source": [
    "### Step 2: Importing the NotionAgent"
   ]
  },
  {
   "cell_type": "code",
   "execution_count": 4,
   "id": "02d175c5",
   "metadata": {},
   "outputs": [],
   "source": [
    "# We made a few sample_agents\n",
    "from demo.sample_agents import NotionAgent   "
   ]
  },
  {
   "cell_type": "markdown",
   "id": "f95f1c71",
   "metadata": {},
   "source": [
    "### Step 3: Wrap both agents in a top level function and create a node from the function"
   ]
  },
  {
   "cell_type": "code",
   "execution_count": 5,
   "id": "7dd1392b",
   "metadata": {},
   "outputs": [],
   "source": [
    "async def top_level_node(user_prompt: str):\n",
    "    voice_transcription = await rc.call(AudioAgent, \n",
    "                           message_history=MessageHistory([UserMessage(user_prompt)]))\n",
    "    \n",
    "    await rc.call(NotionAgent, message_history=MessageHistory([UserMessage(voice_transcription.user_voice_command)]))\n",
    "    \n",
    "VoiceNotionAgent = from_function(top_level_node)"
   ]
  },
  {
   "cell_type": "markdown",
   "id": "4e0db2e3",
   "metadata": {},
   "source": [
    "### Step 4: Invoke the top level node"
   ]
  },
  {
   "cell_type": "code",
   "execution_count": 6,
   "id": "f0cf8b1c",
   "metadata": {},
   "outputs": [],
   "source": [
    "USER_PROMPT = \"Record my audio for 10 seconds and transcribe it.\""
   ]
  },
  {
   "cell_type": "code",
   "execution_count": 7,
   "id": "2d0a06e2",
   "metadata": {},
   "outputs": [
    {
     "name": "stderr",
     "output_type": "stream",
     "text": [
      "[+3.350  s] RC.RUNNER   : INFO     - START CREATED top_level_node Node - (, user_prompt=Record my audio for 10 seconds and transcribe it.)\n",
      "[+3.351  s] RC.RUNNER   : INFO     - top_level_node Node CREATED Audio Agent - (, message_history=user: Record my audio for 10 seconds and transcribe it.)\n",
      "[+5.164  s] RC.RUNNER   : INFO     - Audio Agent CREATED record_audio Node - ({'filename': 'user_audio.wav', 'duration': 10}, )\n"
     ]
    },
    {
     "name": "stdout",
     "output_type": "stream",
     "text": [
      "Starting 10 second recording...\n",
      "Recording complete. Saving file...\n"
     ]
    },
    {
     "name": "stderr",
     "output_type": "stream",
     "text": [
      "[+16.817 s] RC.RUNNER   : INFO     - record_audio Node DONE None\n"
     ]
    },
    {
     "name": "stdout",
     "output_type": "stream",
     "text": [
      "Saved to user_audio.wav\n"
     ]
    },
    {
     "name": "stderr",
     "output_type": "stream",
     "text": [
      "[+17.484 s] RC.RUNNER   : INFO     - Audio Agent CREATED transcribe_audio Node - ({'filename': 'user_audio.wav'}, )\n",
      "[+19.165 s] RC.RUNNER   : INFO     - transcribe_audio Node DONE create a page called test1 under agent demo root\n",
      "[+19.832 s] RC.RUNNER   : INFO     - Audio Agent CREATED VoiceTranscription - (, message_history=user: The transcribed audio is: \"create a page called test1 under agent demo root.\")\n",
      "[+20.582 s] RC.RUNNER   : INFO     - VoiceTranscription DONE user_voice_command='create a page called test1 under agent demo root.'\n",
      "[+20.582 s] RC.RUNNER   : INFO     - Audio Agent DONE user_voice_command='create a page called test1 under agent demo root.'\n",
      "[+20.583 s] RC.RUNNER   : INFO     - top_level_node Node CREATED Notion Agent - (, message_history=user: create a page called test1 under agent demo root.)\n",
      "[+21.434 s] RC.RUNNER   : INFO     - Notion Agent CREATED find_page Node - ({'query': 'agent demo root'}, )\n",
      "[+21.784 s] RC.RUNNER   : INFO     - find_page Node DONE [PageProperties(id='1d71b3a3-98fd-80e3-bfc4-c4226c281833', title='Agent Demo Root')]\n",
      "[+22.798 s] RC.RUNNER   : INFO     - Notion Agent CREATED create_page Node - ({'properties': {'parent_id': '1d71b3a3-98fd-80e3-bfc4-c4226c281833', 'title': 'test1'}}, )\n",
      "[+23.199 s] RC.RUNNER   : INFO     - create_page Node DONE 1dd1b3a3-98fd-815e-94f7-def78937feda\n",
      "[+23.752 s] RC.RUNNER   : INFO     - Notion Agent DONE assistant: The page \"test1\" has been successfully created under \"Agent Demo Root\".\n",
      "[+23.752 s] RC.RUNNER   : INFO     - top_level_node Node DONE None\n"
     ]
    }
   ],
   "source": [
    "with rc.Runner(executor_config=rc.ExecutorConfig(timeout=50)) as runner:\n",
    "    result = await runner.run(VoiceNotionAgent, \n",
    "                              user_prompt=USER_PROMPT,\n",
    "                              )"
   ]
  },
  {
   "cell_type": "markdown",
   "id": "b0b67b58",
   "metadata": {},
   "source": [
    "### Additional: Graphical representation of the nodes and the flow of data"
   ]
  },
  {
   "cell_type": "code",
   "execution_count": 8,
   "id": "f30ca07c",
   "metadata": {},
   "outputs": [],
   "source": [
    "viewer = AgentViewer(\n",
    "        stamps=result.all_stamps,\n",
    "        request_heap=result.request_heap,\n",
    "        node_heap=result.node_heap\n",
    "    )\n",
    "viewer.display_graph()"
   ]
  }
 ],
 "metadata": {
  "kernelspec": {
   "display_name": ".venv",
   "language": "python",
   "name": "python3"
  },
  "language_info": {
   "codemirror_mode": {
    "name": "ipython",
    "version": 3
   },
   "file_extension": ".py",
   "mimetype": "text/x-python",
   "name": "python",
   "nbconvert_exporter": "python",
   "pygments_lexer": "ipython3",
   "version": "3.10.11"
  }
 },
 "nbformat": 4,
 "nbformat_minor": 5
}
