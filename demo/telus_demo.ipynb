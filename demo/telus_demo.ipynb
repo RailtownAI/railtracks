{
 "cells": [
  {
   "cell_type": "code",
   "execution_count": 1,
   "id": "d16967d3",
   "metadata": {},
   "outputs": [],
   "source": [
    "# all necessary requestcompletion imports \n",
    "import src.requestcompletion as rc\n",
    "from src.requestcompletion.llm import MessageHistory, UserMessage, SystemMessage\n",
    "from src.requestcompletion.visuals.agent_viewer import AgentViewer\n",
    "from src.requestcompletion.nodes.library import from_function"
   ]
  },
  {
   "cell_type": "markdown",
   "id": "270afa93",
   "metadata": {},
   "source": [
    "<img src=\"./assets/Telus-Symbol.png\" alt=\"Telus Symbol\" width=\"200\"/>\n",
    "\n",
    "## RC Demo: Customer Service Ticketing Agent + Notion:"
   ]
  },
  {
   "cell_type": "markdown",
   "id": "f0c5691d",
   "metadata": {},
   "source": [
    "In this demo we will demonstrate how to use RequestCompletion to built AI Agents and combine them to perrform complex tasks using just a few lines of code."
   ]
  },
  {
   "cell_type": "markdown",
   "id": "c109c77d",
   "metadata": {},
   "source": [
    "### Step 1: Import and use Notion Agent from sample_agents"
   ]
  },
  {
   "cell_type": "code",
   "execution_count": 2,
   "id": "8ab8d248",
   "metadata": {},
   "outputs": [],
   "source": [
    "from demo.sample_agents import NotionAgent"
   ]
  },
  {
   "cell_type": "markdown",
   "id": "c3108d83",
   "metadata": {},
   "source": [
    "### Step 2: Invoke the agent 🚀"
   ]
  },
  {
   "cell_type": "code",
   "execution_count": null,
   "id": "f387a863",
   "metadata": {},
   "outputs": [],
   "source": [
    "USER_MESSAGE = UserMessage(...)"
   ]
  },
  {
   "cell_type": "code",
   "execution_count": null,
   "id": "2f4ba83f",
   "metadata": {},
   "outputs": [
    {
     "name": "stderr",
     "output_type": "stream",
     "text": [
      "[+187.883s] RC.RUNNER   : INFO     - START CREATED Notion Agent - (user: Under the Telus Demo page, add a new page called 'RC is Awesome'. Inside that page write something awesome about RC., )\n",
      "[+189.030s] RC.RUNNER   : INFO     - Notion Agent CREATED find_page Node - ({'query': 'Telus Demo'}, )\n",
      "[+189.317s] RC.RUNNER   : INFO     - find_page Node DONE [PageProperties(id='1e01b3a3-98fd-80f5-91a1-f4ea96d868df', title='Telus Demo'), PageProperties(id='1d71b3a3-98fd-80e3-bfc4-c4226c281833', title='Agent Demo Root')]\n",
      "[+190.558s] RC.RUNNER   : INFO     - Notion Agent CREATED create_page Node - ({'properties': {'parent_id': '1e01b3a3-98fd-80f5-91a1-f4ea96d868df', 'title': 'RC is Awesome'}}, )\n",
      "[+190.792s] RC.RUNNER   : INFO     - create_page Node DONE 1e31b3a3-98fd-810b-9968-c7b33e2c5dde\n",
      "[+193.760s] RC.RUNNER   : INFO     - Notion Agent CREATED add_block Node - ({'properties': {'content': 'RC is a fantastic platform that fosters creativity and collaboration. It empowers users to build and manage their projects with ease, offering a seamless and intuitive experience. The community is vibrant and supportive, making it a great place to learn and grow.', 'page_id': '1e31b3a3-98fd-810b-9968-c7b33e2c5dde'}}, )\n",
      "[+202.141s] RC.RUNNER   : INFO     - add_block Node DONE None\n",
      "[+203.626s] RC.RUNNER   : INFO     - Notion Agent DONE assistant: I have created a new page titled \"RC is Awesome\" under the \"Telus Demo\" page. Inside, I've added a note highlighting how RC is a fantastic platform that fosters creativity and collaboration.\n"
     ]
    }
   ],
   "source": [
    "mess_hist = MessageHistory([USER_MESSAGE])\n",
    "\n",
    "with rc.Runner() as runner:\n",
    "    result = await runner.run(NotionAgent, mess_hist)"
   ]
  },
  {
   "cell_type": "markdown",
   "id": "9f141743",
   "metadata": {},
   "source": [
    "we can also visualize the agent control flow"
   ]
  },
  {
   "cell_type": "code",
   "execution_count": 5,
   "id": "e6b6d008",
   "metadata": {},
   "outputs": [],
   "source": [
    "viewer = AgentViewer(stamps=result.all_stamps,\n",
    "                     node_heap=result.node_heap,\n",
    "                     request_heap=result.request_heap)\n",
    "\n",
    "viewer.display_graph()"
   ]
  },
  {
   "cell_type": "markdown",
   "id": "45d54761",
   "metadata": {},
   "source": [
    "## Now lets build our own Agent for Telus"
   ]
  },
  {
   "cell_type": "markdown",
   "id": "cf636a39",
   "metadata": {},
   "source": [
    "We have some mock functions that we will give the Agent access to as tools."
   ]
  },
  {
   "cell_type": "code",
   "execution_count": 2,
   "id": "3c37ee25",
   "metadata": {},
   "outputs": [],
   "source": [
    "# imports\n",
    "from demo.sample_tools.notion_tools import NotionAgenticTool\n",
    "from demo.sample_tools.telus_tools import get_service_tickets, create_service_ticket, check_network_status, analyze_call_volume"
   ]
  },
  {
   "cell_type": "code",
   "execution_count": 3,
   "id": "70a3608c",
   "metadata": {},
   "outputs": [],
   "source": [
    "# create randomized mock data (mock telus Database)\n",
    "mock_entries = [\n",
    "    (\"internet_outage\", \"Vancouver, BC\"),\n",
    "    (\"billing\", \"Vancouver, BC\"),\n",
    "    (\"device_support\", \"Langley, BC\"),\n",
    "    (\"internet_outage\", \"Burnbay, BC\"),\n",
    "    (\"tv_service\", \"Vancouver, BC\"),\n",
    "    (\"mobile_service\", \"Burnaby, BC\"),\n",
    "    (\"billing\", \"Kelowna, BC\"),\n",
    "    (\"fiber_installation\", \"Richmond, BC\"),\n",
    "    (\"device_support\", \"Victoria, BC\"),\n",
    "    (\"network_latency\", \"Abbotsford, BC\")\n",
    "]\n",
    "\n",
    "# Populate the mock database\n",
    "for issue_type, location in mock_entries:\n",
    "    result = create_service_ticket(issue_type, location)"
   ]
  },
  {
   "cell_type": "markdown",
   "id": "1f38f06c",
   "metadata": {},
   "source": [
    "### Step 1: Prompts for the Agent"
   ]
  },
  {
   "cell_type": "code",
   "execution_count": 4,
   "id": "b5d580e5",
   "metadata": {},
   "outputs": [],
   "source": [
    "SYSTEM_PROMPT_TELUS = SystemMessage(\"You are a helpful Telus agent. You have access to the following tools: check_network_status,\" \\\n",
    "\"analyze_call_volume, create_service_ticket, get_service_tickets, and NotionTool. Your goal is to resolve the user's request as efficiently as possible.\" \\\n",
    "\"Today is April 28th 2025.\")"
   ]
  },
  {
   "cell_type": "code",
   "execution_count": 5,
   "id": "ff28e08a",
   "metadata": {},
   "outputs": [],
   "source": [
    "USER_MESSAGE = UserMessage(\"Analyze the call volume and network status for the Vancouver and Burnaby area this week.\" \\\n",
    "               \"Categorize the service tickets by issue type and create a summary page showing resolution times and identifying any recurring problems.\" \\\n",
    "               \"Give me an analysis page and a summary page. The notion root page is 'Telus Demo'.\")"
   ]
  },
  {
   "cell_type": "markdown",
   "id": "ad474c57",
   "metadata": {},
   "source": [
    "### Step 2: Construct the Agent"
   ]
  },
  {
   "cell_type": "code",
   "execution_count": 6,
   "id": "f21f2811",
   "metadata": {},
   "outputs": [],
   "source": [
    "TelusTicketingAgent = rc.library.tool_call_llm(connected_nodes={NotionAgenticTool,\n",
    "                                                                from_function(get_service_tickets),   # make functions into nodes before passing as connecte nodes\n",
    "                                                                from_function(check_network_status),\n",
    "                                                                from_function(analyze_call_volume),\n",
    "                                                                },\n",
    "                                               model=rc.llm.OpenAILLM(\"gpt-4o\"),\n",
    "                                               pretty_name=\"Telus Agent\",\n",
    "                                               system_message=SYSTEM_PROMPT_TELUS)"
   ]
  },
  {
   "cell_type": "markdown",
   "id": "18ec37fe",
   "metadata": {},
   "source": [
    "### Step 3: Invoke the Agent 🚀"
   ]
  },
  {
   "cell_type": "code",
   "execution_count": 7,
   "id": "59abe641",
   "metadata": {},
   "outputs": [
    {
     "name": "stderr",
     "output_type": "stream",
     "text": [
      "[+144.339s] RC.RUNNER   : INFO     - START CREATED Telus Agent - (user: Analyze the call volume and network status for the Vancouver and Burnaby area this week.Categorize the service tickets by issue type and create a summary page showing resolution times and identifying any recurring problems.Give me an analysis page and a summary page. The notion root page is 'Telus Demo'., )\n",
      "[+146.467s] RC.RUNNER   : INFO     - Telus Agent CREATED analyze_call_volume Node - ({'time_range': 'weekly', 'region': 'BC'}, )\n",
      "[+146.468s] RC.RUNNER   : INFO     - analyze_call_volume Node DONE {'average_wait_time_minutes': 9.1, 'peak_hours': ['12:00-13:00', '10:00-11:00']}\n",
      "[+148.399s] RC.RUNNER   : INFO     - Telus Agent CREATED check_network_status Node - ({'location': 'Vancouver'}, )\n",
      "[+148.402s] RC.RUNNER   : INFO     - check_network_status Node DONE {'latency_ms': 85, 'uptime_percent': 99.58}\n",
      "[+149.820s] RC.RUNNER   : INFO     - Telus Agent CREATED check_network_status Node - ({'location': 'Burnaby'}, )\n",
      "[+149.823s] RC.RUNNER   : INFO     - check_network_status Node DONE {'latency_ms': 37, 'uptime_percent': 99.85}\n",
      "[+151.337s] RC.RUNNER   : INFO     - Telus Agent CREATED get_service_tickets Node - ({'created_after': '2025-04-21', 'region': 'BC', 'status': 'open'}, )\n",
      "[+151.350s] RC.RUNNER   : INFO     - get_service_tickets Node DONE {'tickets': [{'ticket_id': 'TELUS-ABFA88B1', 'issue_type': 'internet_outage', 'location': 'Vancouver, BC', 'estimated_resolution_time': '24 hours', 'created_at': '2025-04-28 10:55:49', 'status': 'open', 'priority': 'medium', 'region': 'BC'}, {'ticket_id': 'TELUS-24A20534', 'issue_type': 'billing', 'location': 'Vancouver, BC', 'estimated_resolution_time': '48 hours', 'created_at': '2025-04-28 10:55:49', 'status': 'open', 'priority': 'medium', 'region': 'BC'}, {'ticket_id': 'TELUS-CCE2C75B', 'issue_type': 'device_support', 'location': 'Langley, BC', 'estimated_resolution_time': '72 hours', 'created_at': '2025-04-28 10:55:49', 'status': 'open', 'priority': 'low', 'region': 'BC'}, {'ticket_id': 'TELUS-AFC2CAA9', 'issue_type': 'internet_outage', 'location': 'Burnbay, BC', 'estimated_resolution_time': '24 hours', 'created_at': '2025-04-28 10:55:49', 'status': 'open', 'priority': 'critical', 'region': 'BC'}, {'ticket_id': 'TELUS-DE33E6F7', 'issue_type': 'tv_service', 'location': 'Vancouver, BC', 'estimated_resolution_time': '48 hours', 'created_at': '2025-04-28 10:55:49', 'status': 'open', 'priority': 'high', 'region': 'BC'}, {'ticket_id': 'TELUS-8C170F33', 'issue_type': 'mobile_service', 'location': 'Burnaby, BC', 'estimated_resolution_time': '72 hours', 'created_at': '2025-04-28 10:55:49', 'status': 'open', 'priority': 'critical', 'region': 'BC'}, {'ticket_id': 'TELUS-AB6F823F', 'issue_type': 'billing', 'location': 'Kelowna, BC', 'estimated_resolution_time': '48 hours', 'created_at': '2025-04-28 10:55:49', 'status': 'open', 'priority': 'low', 'region': 'BC'}, {'ticket_id': 'TELUS-4EBBFD17', 'issue_type': 'fiber_installation', 'location': 'Richmond, BC', 'estimated_resolution_time': '72 hours', 'created_at': '2025-04-28 10:55:49', 'status': 'open', 'priority': 'high', 'region': 'BC'}, {'ticket_id': 'TELUS-FA717030', 'issue_type': 'device_support', 'location': 'Victoria, BC', 'estimated_resolution_time': '72 hours', 'created_at': '2025-04-28 10:55:49', 'status': 'open', 'priority': 'low', 'region': 'BC'}, {'ticket_id': 'TELUS-2F2D7774', 'issue_type': 'network_latency', 'location': 'Abbotsford, BC', 'estimated_resolution_time': '72 hours', 'created_at': '2025-04-28 10:55:49', 'status': 'open', 'priority': 'critical', 'region': 'BC'}]}\n",
      "[+154.414s] RC.RUNNER   : INFO     - Telus Agent CREATED Notion Agentic Tool - ({'notion_task_request': \"Create an analysis page under 'Telus Demo' with the following details:\\n\\n**Call Volume Analysis for BC (Weekly):**\\n- Average Wait Time: 9.1 minutes\\n- Peak Hours: 12:00-13:00, 10:00-11:00\\n\\n**Network Status:**\\n- **Vancouver:**\\n  - Latency: 85 ms\\n  - Uptime: 99.58%\\n- **Burnaby:**\\n  - Latency: 37 ms\\n  - Uptime: 99.85%\"}, )\n",
      "[+155.822s] RC.RUNNER   : INFO     - Notion Agentic Tool CREATED find_page Node - ({'query': 'Telus Demo'}, )\n",
      "[+156.126s] RC.RUNNER   : INFO     - find_page Node DONE [PageProperties(id='1e01b3a3-98fd-80f5-91a1-f4ea96d868df', title='Telus Demo'), PageProperties(id='1d71b3a3-98fd-80e3-bfc4-c4226c281833', title='Agent Demo Root')]\n",
      "[+156.994s] RC.RUNNER   : INFO     - Notion Agentic Tool CREATED create_page Node - ({'properties': {'parent_id': '1e01b3a3-98fd-80f5-91a1-f4ea96d868df', 'title': 'Call Volume and Network Status Analysis'}}, )\n",
      "[+157.947s] RC.RUNNER   : INFO     - create_page Node DONE 1e31b3a3-98fd-81ee-bfad-e01a283c9d72\n",
      "[+161.345s] RC.RUNNER   : INFO     - Notion Agentic Tool CREATED add_block Node - ({'properties': {'content': '**Call Volume Analysis for BC (Weekly):**\\n- Average Wait Time: 9.1 minutes\\n- Peak Hours: 12:00-13:00, 10:00-11:00', 'page_id': '1e31b3a3-98fd-81ee-bfad-e01a283c9d72'}}, )\n",
      "[+161.658s] RC.RUNNER   : INFO     - add_block Node DONE None\n",
      "[+163.393s] RC.RUNNER   : INFO     - Notion Agentic Tool CREATED add_block Node - ({'properties': {'content': '**Network Status:**\\n- **Vancouver:**\\n  - Latency: 85 ms\\n  - Uptime: 99.58%\\n- **Burnaby:**\\n  - Latency: 37 ms\\n  - Uptime: 99.85%', 'page_id': '1e31b3a3-98fd-81ee-bfad-e01a283c9d72'}}, )\n",
      "[+163.724s] RC.RUNNER   : INFO     - add_block Node DONE None\n",
      "[+164.871s] RC.RUNNER   : INFO     - Notion Agentic Tool DONE The analysis page titled \"Call Volume and Network Status Analysis\" has been successfully created under the \"Telus Demo\" section. It includes the details for Call Volume Analysis for BC and Network Status for Vancouver and Burnaby.\n",
      "[+169.848s] RC.RUNNER   : INFO     - Telus Agent CREATED Notion Agentic Tool - ({'notion_task_request': \"Create a summary page under 'Telus Demo' with the following details:\\n\\n**Service Tickets Summary (BC):**\\n\\n- **Internet Outage:**\\n  - Vancouver, BC: 24 hours (Medium Priority)\\n  - Burnaby, BC: 24 hours (Critical Priority)\\n\\n- **Billing Issues:**\\n  - Vancouver, BC: 48 hours (Medium Priority)\\n  - Kelowna, BC: 48 hours (Low Priority)\\n\\n- **Device Support:**\\n  - Langley, BC: 72 hours (Low Priority)\\n  - Victoria, BC: 72 hours (Low Priority)\\n\\n- **TV Service:**\\n  - Vancouver, BC: 48 hours (High Priority)\\n\\n- **Mobile Service:**\\n  - Burnaby, BC: 72 hours (Critical Priority)\\n\\n- **Fiber Installation:**\\n  - Richmond, BC: 72 hours (High Priority)\\n\\n- **Network Latency:**\\n  - Abbotsford, BC: 72 hours (Critical Priority)\\n\\n**Recurring Problems Identified:**\\n- Internet outages in Vancouver and Burnaby\\n- Billing issues in Vancouver\\n- Device support requests in Langley and Victoria\\n\\n**Resolution Times:**\\n- Most issues are estimated to be resolved within 24 to 72 hours depending on priority.\"}, )\n",
      "[+170.593s] RC.RUNNER   : INFO     - Notion Agentic Tool CREATED find_page Node - ({'query': 'Telus Demo'}, )\n",
      "[+170.825s] RC.RUNNER   : INFO     - find_page Node DONE [PageProperties(id='1e01b3a3-98fd-80f5-91a1-f4ea96d868df', title='Telus Demo'), PageProperties(id='1d71b3a3-98fd-80e3-bfc4-c4226c281833', title='Agent Demo Root')]\n",
      "[+171.770s] RC.RUNNER   : INFO     - Notion Agentic Tool CREATED create_page Node - ({'properties': {'parent_id': '1e01b3a3-98fd-80f5-91a1-f4ea96d868df', 'title': 'Service Tickets Summary (BC)'}}, )\n",
      "[+173.549s] RC.RUNNER   : INFO     - create_page Node DONE 1e31b3a3-98fd-81ed-b58c-ec9c48eef53c\n",
      "[+176.247s] RC.RUNNER   : INFO     - Notion Agentic Tool CREATED add_block Node - ({'properties': {'page_id': '1e31b3a3-98fd-81ed-b58c-ec9c48eef53c', 'content': '**Service Tickets Summary (BC):**\\n\\n- **Internet Outage:**\\n  - Vancouver, BC: 24 hours (Medium Priority)\\n  - Burnaby, BC: 24 hours (Critical Priority)\\n\\n- **Billing Issues:**\\n  - Vancouver, BC: 48 hours (Medium Priority)\\n  - Kelowna, BC: 48 hours (Low Priority)\\n\\n- **Device Support:**\\n  - Langley, BC: 72 hours (Low Priority)\\n  - Victoria, BC: 72 hours (Low Priority)\\n\\n- **TV Service:**\\n  - Vancouver, BC: 48 hours (High Priority)\\n\\n- **Mobile Service:**\\n  - Burnaby, BC: 72 hours (Critical Priority)\\n\\n- **Fiber Installation:**\\n  - Richmond, BC: 72 hours (High Priority)\\n\\n- **Network Latency:**\\n  - Abbotsford, BC: 72 hours (Critical Priority)\\n\\n**Recurring Problems Identified:**\\n- Internet outages in Vancouver and Burnaby\\n- Billing issues in Vancouver\\n- Device support requests in Langley and Victoria\\n\\n**Resolution Times:**\\n- Most issues are estimated to be resolved within 24 to 72 hours depending on priority.'}}, )\n",
      "[+177.688s] RC.RUNNER   : INFO     - add_block Node DONE None\n",
      "[+178.759s] RC.RUNNER   : INFO     - Notion Agentic Tool DONE The summary page titled \"Service Tickets Summary (BC)\" has been successfully created under the \"Telus Demo\" page with the provided details.\n",
      "[+183.760s] RC.RUNNER   : INFO     - Telus Agent DONE assistant: I have created two pages under the \"Telus Demo\" section in Notion:\n",
      "\n",
      "1. **Call Volume and Network Status Analysis**:\n",
      "   - **Call Volume Analysis for BC (Weekly)**:\n",
      "     - Average Wait Time: 9.1 minutes\n",
      "     - Peak Hours: 12:00-13:00, 10:00-11:00\n",
      "   - **Network Status**:\n",
      "     - **Vancouver**: Latency: 85 ms, Uptime: 99.58%\n",
      "     - **Burnaby**: Latency: 37 ms, Uptime: 99.85%\n",
      "\n",
      "2. **Service Tickets Summary (BC)**:\n",
      "   - Categorized service tickets by issue type with estimated resolution times and priorities.\n",
      "   - Identified recurring problems such as internet outages in Vancouver and Burnaby, billing issues in Vancouver, and device support requests in Langley and Victoria.\n",
      "   - Resolution times range from 24 to 72 hours depending on priority.\n",
      "\n",
      "You can view these pages for detailed insights and analysis.\n"
     ]
    }
   ],
   "source": [
    "mess_hist = MessageHistory([USER_MESSAGE])\n",
    "\n",
    "with rc.Runner(executor_config=rc.ExecutorConfig(timeout=50)) as runner:\n",
    "    result = await runner.run(TelusTicketingAgent, mess_hist)"
   ]
  },
  {
   "cell_type": "code",
   "execution_count": 8,
   "id": "347d75c4",
   "metadata": {},
   "outputs": [],
   "source": [
    "viewer = AgentViewer(stamps=result.all_stamps,\n",
    "                     node_heap=result.node_heap,\n",
    "                     request_heap=result.request_heap)\n",
    "\n",
    "viewer.display_graph()"
   ]
  }
 ],
 "metadata": {
  "kernelspec": {
   "display_name": ".venv",
   "language": "python",
   "name": "python3"
  },
  "language_info": {
   "codemirror_mode": {
    "name": "ipython",
    "version": 3
   },
   "file_extension": ".py",
   "mimetype": "text/x-python",
   "name": "python",
   "nbconvert_exporter": "python",
   "pygments_lexer": "ipython3",
   "version": "3.10.11"
  }
 },
 "nbformat": 4,
 "nbformat_minor": 5
}
