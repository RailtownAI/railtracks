{
 "cells": [
  {
   "cell_type": "code",
   "execution_count": null,
   "id": "d16967d3",
   "metadata": {},
   "outputs": [],
   "source": [
    "# all necessary requestcompletion imports \n",
    "import src.requestcompletion as rc\n",
    "from src.requestcompletion.llm import MessageHistory, UserMessage, SystemMessage\n",
    "from src.requestcompletion.visuals.agent_viewer import AgentViewer\n",
    "from src.requestcompletion.nodes.library import from_function"
   ]
  },
  {
   "cell_type": "markdown",
   "id": "270afa93",
   "metadata": {},
   "source": [
    "<img src=\"./assets/Telus-Symbol.png\" alt=\"Telus Symbol\" width=\"200\"/>\n",
    "\n",
    "## RC Demo: Customer Service Ticketing Agent + Notion:"
   ]
  },
  {
   "cell_type": "markdown",
   "id": "f0c5691d",
   "metadata": {},
   "source": [
    "In this demo we will demonstrate how to use RequestCompletion to built AI Agents and combine them to perrform complex tasks using just a few lines of code."
   ]
  },
  {
   "cell_type": "markdown",
   "id": "c109c77d",
   "metadata": {},
   "source": [
    "### Step 1: Import and use Notion Agent from sample_agents"
   ]
  },
  {
   "cell_type": "code",
   "execution_count": null,
   "id": "8ab8d248",
   "metadata": {},
   "outputs": [],
   "source": [
    "from demo.sample_agents import NotionAgent"
   ]
  },
  {
   "cell_type": "markdown",
   "id": "c3108d83",
   "metadata": {},
   "source": [
    "### Step 2: Invoke the agent 🚀"
   ]
  },
  {
   "cell_type": "code",
   "execution_count": null,
   "id": "f387a863",
   "metadata": {},
   "outputs": [],
   "source": [
    "USER_MESSAGE = UserMessage(...)"
   ]
  },
  {
   "cell_type": "code",
   "execution_count": null,
   "id": "2f4ba83f",
   "metadata": {},
   "outputs": [],
   "source": [
    "# construct message history \n",
    "mess_hist = ...\n",
    "\n",
    "# Run the agent\n",
    "with rc.Runner() as runner:\n",
    "    result = await runner.run(..., mess_hist)"
   ]
  },
  {
   "cell_type": "markdown",
   "id": "9f141743",
   "metadata": {},
   "source": [
    "we can also visualize the agent control flow"
   ]
  },
  {
   "cell_type": "code",
   "execution_count": null,
   "id": "e6b6d008",
   "metadata": {},
   "outputs": [],
   "source": [
    "viewer = AgentViewer(stamps=result.all_stamps,\n",
    "                     node_heap=result.node_heap,\n",
    "                     request_heap=result.request_heap)\n",
    "\n",
    "viewer.display_graph()"
   ]
  },
  {
   "cell_type": "markdown",
   "id": "45d54761",
   "metadata": {},
   "source": [
    "## Now lets build our own Agent for Telus"
   ]
  },
  {
   "cell_type": "markdown",
   "id": "cf636a39",
   "metadata": {},
   "source": [
    "We have some mock functions that we will give the Agent access to as tools."
   ]
  },
  {
   "cell_type": "code",
   "execution_count": null,
   "id": "3c37ee25",
   "metadata": {},
   "outputs": [],
   "source": [
    "# imports\n",
    "from demo.sample_tools.notion_tools import NotionAgenticTool\n",
    "from demo.sample_tools.telus_tools import get_service_tickets, create_service_ticket, check_network_status, analyze_call_volume"
   ]
  },
  {
   "cell_type": "code",
   "execution_count": null,
   "id": "70a3608c",
   "metadata": {},
   "outputs": [],
   "source": [
    "# create randomized mock data (mock telus Database)\n",
    "mock_entries = [\n",
    "    (\"internet_outage\", \"Vancouver, BC\"),\n",
    "    (\"billing\", \"Vancouver, BC\"),\n",
    "    (\"device_support\", \"Langley, BC\"),\n",
    "    (\"internet_outage\", \"Burnbay, BC\"),\n",
    "    (\"tv_service\", \"Vancouver, BC\"),\n",
    "    (\"mobile_service\", \"Burnaby, BC\"),\n",
    "    (\"billing\", \"Kelowna, BC\"),\n",
    "    (\"fiber_installation\", \"Richmond, BC\"),\n",
    "    (\"device_support\", \"Victoria, BC\"),\n",
    "    (\"network_latency\", \"Abbotsford, BC\")\n",
    "]\n",
    "\n",
    "# Populate the mock database\n",
    "for issue_type, location in mock_entries:\n",
    "    result = create_service_ticket(issue_type, location)"
   ]
  },
  {
   "cell_type": "markdown",
   "id": "1f38f06c",
   "metadata": {},
   "source": [
    "### Step 1: Prompts for the Agent"
   ]
  },
  {
   "cell_type": "code",
   "execution_count": null,
   "id": "b5d580e5",
   "metadata": {},
   "outputs": [],
   "source": [
    "SYSTEM_PROMPT_TELUS = SystemMessage(\"You are a helpful Telus agent. You have access to the following tools: check_network_status,\" \\\n",
    "\"analyze_call_volume, create_service_ticket, get_service_tickets, and NotionTool. Your goal is to resolve the user's request as efficiently as possible.\" \\\n",
    "\"Today is April 28th 2025.\")"
   ]
  },
  {
   "cell_type": "code",
   "execution_count": null,
   "id": "ff28e08a",
   "metadata": {},
   "outputs": [],
   "source": [
    "USER_MESSAGE = UserMessage(...)"
   ]
  },
  {
   "cell_type": "markdown",
   "id": "ad474c57",
   "metadata": {},
   "source": [
    "### Step 2: Construct the Agent"
   ]
  },
  {
   "cell_type": "code",
   "execution_count": null,
   "id": "f21f2811",
   "metadata": {},
   "outputs": [],
   "source": [
    "TelusTicketingAgent = ..."
   ]
  },
  {
   "cell_type": "markdown",
   "id": "18ec37fe",
   "metadata": {},
   "source": [
    "### Step 3: Invoke the Agent 🚀"
   ]
  },
  {
   "cell_type": "code",
   "execution_count": null,
   "id": "59abe641",
   "metadata": {},
   "outputs": [],
   "source": [
    "# See Step 2 for Notion Agent\n",
    "..."
   ]
  },
  {
   "cell_type": "code",
   "execution_count": null,
   "id": "347d75c4",
   "metadata": {},
   "outputs": [],
   "source": [
    "viewer = AgentViewer(stamps=result.all_stamps,\n",
    "                     node_heap=result.node_heap,\n",
    "                     request_heap=result.request_heap)\n",
    "\n",
    "viewer.display_graph()"
   ]
  }
 ],
 "metadata": {
  "kernelspec": {
   "display_name": "Python 3 (ipykernel)",
   "language": "python",
   "name": "python3"
  },
  "language_info": {
   "codemirror_mode": {
    "name": "ipython",
    "version": 3
   },
   "file_extension": ".py",
   "mimetype": "text/x-python",
   "name": "python",
   "nbconvert_exporter": "python",
   "pygments_lexer": "ipython3",
   "version": "3.10.11"
  }
 },
 "nbformat": 4,
 "nbformat_minor": 5
}
