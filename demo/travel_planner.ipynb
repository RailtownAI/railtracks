{
 "cells": [
  {
   "cell_type": "code",
   "execution_count": 1,
   "id": "9898ad62",
   "metadata": {},
   "outputs": [],
   "source": [
    "import src.requestcompletion as rc\n",
    "from typing import List, Any, Dict\n",
    "from examples.sample_agents import NotionAgent\n",
    "from src.requestcompletion.llm import MessageHistory, UserMessage\n",
    "from src.requestcompletion.nodes.library import from_function\n",
    "from examples.sample_tools.notion_tools import find_page, create_page, add_block, find_user, tag_user\n",
    "from src.requestcompletion.visuals.agent_viewer import AgentViewer"
   ]
  },
  {
   "cell_type": "markdown",
   "id": "23234fed",
   "metadata": {},
   "source": [
    "## Functions to be used as tools for travel planner"
   ]
  },
  {
   "cell_type": "code",
   "execution_count": 2,
   "id": "de005db1",
   "metadata": {},
   "outputs": [],
   "source": [
    "def available_locations() -> List[str]:\n",
    "    \"\"\"Returns a list of available locations.\n",
    "    Args:\n",
    "    Returns:\n",
    "        List[str]: A list of available locations.\n",
    "    \"\"\"\n",
    "    return [\n",
    "        \"New York\",\n",
    "        \"Los Angeles\",\n",
    "        \"Chicago\",\n",
    "        \"Delhi\",\n",
    "        \"Mumbai\",\n",
    "        \"Bangalore\",\n",
    "        \"Paris\",\n",
    "        \"Denmark\",\n",
    "        \"Sweden\",\n",
    "        \"Norway\",\n",
    "        \"Germany\",\n",
    "    ]\n",
    "\n",
    "def currency_used(location: str) -> str:\n",
    "    \"\"\"Returns the currency used in a location.\n",
    "    Args:\n",
    "        location (str): The location to get the currency used for.\n",
    "    Returns:\n",
    "        str: The currency used in the location.\n",
    "    \"\"\"\n",
    "    currency_map = {\n",
    "        \"New York\": \"USD\",\n",
    "        \"Los Angeles\": \"USD\",\n",
    "        \"Chicago\": \"USD\",\n",
    "        \"Delhi\": \"INR\",\n",
    "        \"Mumbai\": \"INR\",\n",
    "        \"Bangalore\": \"INR\",\n",
    "        \"Paris\": \"EUR\",\n",
    "        \"Denmark\": \"EUR\",\n",
    "        \"Sweden\": \"EUR\",\n",
    "        \"Norway\": \"EUR\",\n",
    "        \"Germany\": \"EUR\",\n",
    "    }\n",
    "    used_currency = currency_map.get(location)\n",
    "    if used_currency is None:\n",
    "        raise ValueError(f\"Currency not available for location: {location}\")\n",
    "    return used_currency\n",
    "\n",
    "def average_location_cost(location: str, num_days: int) -> float:\n",
    "    \"\"\"Returns the average cost of living in a location for a given number of days.\n",
    "    Args:\n",
    "        location (str): The location to get the cost of living for.\n",
    "        num_days (int): The number of days for the trip.\n",
    "    Returns:\n",
    "        float: The average cost of living in the location.\n",
    "    \"\"\"\n",
    "    daily_costs = {\n",
    "        \"New York\": 200.0,\n",
    "        \"Los Angeles\": 180.0,\n",
    "        \"Chicago\": 150.0,\n",
    "        \"Delhi\": 50.0,\n",
    "        \"Mumbai\": 55.0,\n",
    "        \"Bangalore\": 60.0,\n",
    "        \"Paris\": 220.0,\n",
    "        \"Denmark\": 250.0,\n",
    "        \"Sweden\": 240.0,\n",
    "        \"Norway\": 230.0,\n",
    "        \"Germany\": 210.0,\n",
    "    }\n",
    "    daily_cost = daily_costs.get(location)\n",
    "    if daily_cost is None:\n",
    "        raise ValueError(f\"Cost information not available for location: {location}\")\n",
    "    return daily_cost * num_days\n",
    "\n",
    "def convert_currency(amount: float, from_currency: str, to_currency: str) -> float:\n",
    "    \"\"\"Converts currency using a static exchange rate (for testing purposes).\n",
    "    Args:\n",
    "        amount (float): The amount to convert.\n",
    "        from_currency (str): The currency to convert from.\n",
    "        to_currency (str): The currency to convert to.\n",
    "    Returns:\n",
    "        float: The converted amount.\n",
    "    Raises:\n",
    "        ValueError: If the exchange rate is not available.\n",
    "    \"\"\"\n",
    "    exchange_rates = {\n",
    "        (\"USD\", \"EUR\"): 0.85,\n",
    "        (\"EUR\", \"USD\"): 1.1765,\n",
    "        (\"USD\", \"INR\"): 83.0,\n",
    "        (\"INR\", \"USD\"): 0.01205,\n",
    "        (\"EUR\", \"INR\"): 98.0,\n",
    "        (\"INR\", \"EUR\"): 0.0102,\n",
    "    }\n",
    "\n",
    "    rate = exchange_rates.get((from_currency, to_currency))\n",
    "    if rate is None:\n",
    "        raise ValueError(\"Exchange rate not available\")\n",
    "    return amount * rate\n",
    "\n"
   ]
  },
  {
   "cell_type": "code",
   "execution_count": 3,
   "id": "99f63d52",
   "metadata": {},
   "outputs": [],
   "source": [
    "convert_currency_node = rc.library.from_function(convert_currency)\n",
    "available_locations_node = rc.library.from_function(available_locations)\n",
    "currency_used_node = rc.library.from_function(currency_used)\n",
    "average_location_cost_node = rc.library.from_function(average_location_cost)    "
   ]
  },
  {
   "cell_type": "markdown",
   "id": "3019a3db",
   "metadata": {},
   "source": [
    "## Travel Planner Agent"
   ]
  },
  {
   "cell_type": "code",
   "execution_count": null,
   "id": "ded8692d",
   "metadata": {},
   "outputs": [],
   "source": [
    "travel_planner_agent = rc.library.tool_call_llm(connected_nodes={convert_currency_node, available_locations_node, currency_used_node, average_location_cost_node}, \n",
    "                                               pretty_name=\"Travel Planner Node\", \n",
    "                                               system_message=rc.llm.SystemMessage(\"You are a travel planner that will plan a trip. you have access to AvailableLocations, ConvertCurrency, CurrencyUsed and AverageLocationCost tools. Use them when you need to.\"),\n",
    "                                               model=rc.llm.OpenAILLM(\"gpt-4o\"))"
   ]
  },
  {
   "cell_type": "code",
   "execution_count": null,
   "id": "179af6c6",
   "metadata": {},
   "outputs": [],
   "source": [
    "USER_PROMPT = \"I live in Delhi. I am going to travel to Denmark for 3 days, followed by Germany for 2 days and finally New York for 4 days. Please provide me with a budget summary for the trip in INR. \" \\\n",
    "\"Please make a notion page called Amir Travel Summary under the page 'Agent Demo Root' and write my travel summary in it.\""
   ]
  },
  {
   "cell_type": "code",
   "execution_count": null,
   "id": "d05dbc25",
   "metadata": {},
   "outputs": [],
   "source": [
    "with rc.Runner() as runner:\n",
    "    result = await runner.run(travel_planner_agent, message_history=rc.llm.MessageHistory([rc.llm.UserMessage(USER_PROMPT)]))"
   ]
  },
  {
   "cell_type": "markdown",
   "id": "4935b069",
   "metadata": {},
   "source": [
    "## Wrapping Notion agent with Travel Planner agent inside a top level node"
   ]
  },
  {
   "cell_type": "code",
   "execution_count": null,
   "id": "71c1517b",
   "metadata": {},
   "outputs": [],
   "source": [
    "USER_PROMPT = \"I live in Delhi. I am going to travel to Denmark for 3 days, followed by Germany for 2 days and finally New York for 4 days. Please provide me with a budget summary for the trip in INR. \" \\\n",
    "\"Please make a notion page called Amir Travel Summary under the page 'Agent Demo Root' and write my travel summary in it.\""
   ]
  },
  {
   "cell_type": "code",
   "execution_count": null,
   "id": "e197df01",
   "metadata": {},
   "outputs": [],
   "source": [
    "async def top_level_node():\n",
    "    travel_plan = await rc.call(travel_planner_agent, \n",
    "                           message_history=MessageHistory([UserMessage(USER_PROMPT)]))\n",
    "\n",
    "    \n",
    "    await rc.call(NotionAgent, message_history=MessageHistory([UserMessage(USER_PROMPT),\n",
    "                                                               UserMessage(f\"Travel Plan: {travel_plan}\")]))\n"
   ]
  },
  {
   "cell_type": "code",
   "execution_count": null,
   "id": "19e75687",
   "metadata": {},
   "outputs": [],
   "source": [
    "TravelSummarizerNotion = from_function(top_level_node)\n",
    "\n",
    "with rc.Runner(rc.ExecutorConfig(timeout=50)) as runner:\n",
    "    result = await runner.run(TravelSummarizerNotion)"
   ]
  },
  {
   "cell_type": "markdown",
   "id": "50d88e93",
   "metadata": {},
   "source": [
    "## Trying to make an agentic tool out of NotionAgent"
   ]
  },
  {
   "cell_type": "code",
   "execution_count": 4,
   "id": "9cb43f2e",
   "metadata": {},
   "outputs": [],
   "source": [
    "class NotionAgenticTool(rc.library.ToolCallLLM):\n",
    "    def __init__(self, message_history: MessageHistory):\n",
    "        super().__init__(message_history=message_history, model=rc.llm.OpenAILLM(\"gpt-4o\"))\n",
    "\n",
    "    def connected_nodes(self):\n",
    "        return {\n",
    "            from_function(find_page),\n",
    "            from_function(create_page),\n",
    "            from_function(add_block),\n",
    "            from_function(find_user),\n",
    "            from_function(tag_user),\n",
    "            }\n",
    "    \n",
    "    @classmethod\n",
    "    def tool_info(cls) -> rc.llm.Tool:\n",
    "        return rc.llm.Tool(\n",
    "            name=\"NotionAgenticTool\",\n",
    "            detail=\"A notion tool that can find pages, create pages, add blocks, find users, and tag users.\",\n",
    "            parameters={rc.llm.Parameter(name=\"notion_task_request\", param_type=\"string\", description=\"The detailed task prompt for the task to be completed.\")},\n",
    "        )\n",
    "\n",
    "    @classmethod\n",
    "    def prepare_tool(cls, tool_parameters: Dict[str, Any]):\n",
    "        message_hist = MessageHistory(\n",
    "            [UserMessage(f\"Request Prompt: '{tool_parameters['notion_task_request']}'\")]\n",
    "        )\n",
    "        return cls(message_hist)\n",
    "    \n",
    "    @classmethod\n",
    "    def pretty_name(cls) -> str:\n",
    "        return \"Notion Agentic Tool\"\n"
   ]
  },
  {
   "cell_type": "code",
   "execution_count": 5,
   "id": "4627e41d",
   "metadata": {},
   "outputs": [],
   "source": [
    "# USER_PROMPT = \"Give me a sample travel summary, very short. Please make a notion page called Aryan Travel Summary under the page 'Agent Demo Root' and write my travel summary in it.\" \\\n",
    "USER_PROMPT = \"I live in Delhi. I am going to travel to Denmark for 3 days, followed by Germany for 2 days and finally New York for 4 days. Please provide me with a budget summary for the trip in INR. Please provide me with a budget summary for the trip in INR. Please make a notion page called Aryan Travel Summary under the page 'Agent Demo Root' and write my travel summary in it.\""
   ]
  },
  {
   "cell_type": "code",
   "execution_count": 6,
   "id": "12734e92",
   "metadata": {},
   "outputs": [],
   "source": [
    "TravelAgent = rc.library.tool_call_llm(connected_nodes={convert_currency_node, available_locations_node, currency_used_node, average_location_cost_node, NotionAgenticTool}, \n",
    "                                        pretty_name=\"Travel Agent\", \n",
    "                                        system_message=rc.llm.SystemMessage(\"You are a travel planner that will plan a trip. you have access to AvailableLocations, ConvertCurrency, CurrencyUsed, AverageLocationCost and NotionAgenticTool tools. Use them when you need to.\"),\n",
    "                                        model=rc.llm.OpenAILLM(\"gpt-4o\"))"
   ]
  },
  {
   "cell_type": "code",
   "execution_count": 7,
   "id": "bf188b1d",
   "metadata": {},
   "outputs": [
    {
     "name": "stderr",
     "output_type": "stream",
     "text": [
      "[+13.247 s] RC.RUNNER   : INFO     - START CREATED Travel Agent - (, message_history=user: I live in Delhi. I am going to travel to Denmark for 3 days, followed by Germany for 2 days and finally New York for 4 days. Please provide me with a budget summary for the trip in INR. Please provide me with a budget summary for the trip in INR. Please make a notion page called Aryan Travel Summary under the page 'Agent Demo Root' and write my travel summary in it.)\n",
      "[+14.233 s] RC.RUNNER   : INFO     - Travel Agent CREATED available_locations Node - ({}, )\n",
      "[+14.235 s] RC.RUNNER   : INFO     - available_locations Node DONE ['New York', 'Los Angeles', 'Chicago', 'Delhi', 'Mumbai', 'Bangalore', 'Paris', 'Denmark', 'Sweden', 'Norway', 'Germany']\n",
      "[+16.854 s] RC.RUNNER   : INFO     - Travel Agent CREATED average_location_cost Node - ({'num_days': 3, 'location': 'Denmark'}, )\n",
      "[+16.857 s] RC.RUNNER   : INFO     - average_location_cost Node DONE 750.0\n",
      "[+18.721 s] RC.RUNNER   : INFO     - Travel Agent CREATED average_location_cost Node - ({'num_days': 2, 'location': 'Germany'}, )\n",
      "[+18.722 s] RC.RUNNER   : INFO     - average_location_cost Node DONE 420.0\n",
      "[+19.636 s] RC.RUNNER   : INFO     - Travel Agent CREATED average_location_cost Node - ({'num_days': 4, 'location': 'New York'}, )\n",
      "[+19.637 s] RC.RUNNER   : INFO     - average_location_cost Node DONE 800.0\n",
      "[+20.939 s] RC.RUNNER   : INFO     - Travel Agent CREATED currency_used Node - ({'location': 'Denmark'}, )\n",
      "[+20.940 s] RC.RUNNER   : INFO     - currency_used Node DONE EUR\n",
      "[+21.963 s] RC.RUNNER   : INFO     - Travel Agent CREATED currency_used Node - ({'location': 'Germany'}, )\n",
      "[+21.964 s] RC.RUNNER   : INFO     - currency_used Node DONE EUR\n",
      "[+22.813 s] RC.RUNNER   : INFO     - Travel Agent CREATED currency_used Node - ({'location': 'New York'}, )\n",
      "[+22.815 s] RC.RUNNER   : INFO     - currency_used Node DONE USD\n",
      "[+24.492 s] RC.RUNNER   : INFO     - Travel Agent CREATED convert_currency Node - ({'amount': 750, 'from_currency': 'EUR', 'to_currency': 'INR'}, )\n",
      "[+24.493 s] RC.RUNNER   : INFO     - convert_currency Node DONE 73500.0\n",
      "[+25.585 s] RC.RUNNER   : INFO     - Travel Agent CREATED convert_currency Node - ({'amount': 420, 'from_currency': 'EUR', 'to_currency': 'INR'}, )\n",
      "[+25.586 s] RC.RUNNER   : INFO     - convert_currency Node DONE 41160.0\n",
      "[+26.575 s] RC.RUNNER   : INFO     - Travel Agent CREATED convert_currency Node - ({'amount': 800, 'from_currency': 'USD', 'to_currency': 'INR'}, )\n",
      "[+26.577 s] RC.RUNNER   : INFO     - convert_currency Node DONE 66400.0\n",
      "[+30.685 s] RC.RUNNER   : INFO     - Travel Agent CREATED Notion Agentic Tool - ({'notion_task_request': \"Create a page titled 'Aryan Travel Summary' under the page 'Agent Demo Root'. Include the following travel budget summary:\\n\\n**Travel Budget Summary**\\n\\n- **Denmark**: 3 days\\n  - Average Cost: 750 EUR\\n  - Converted Cost: 73,500 INR\\n\\n- **Germany**: 2 days\\n  - Average Cost: 420 EUR\\n  - Converted Cost: 41,160 INR\\n\\n- **New York**: 4 days\\n  - Average Cost: 800 USD\\n  - Converted Cost: 66,400 INR\\n\\n**Total Estimated Cost in INR**: 181,060 INR\\n\\nThis summary provides an overview of the expected expenses for Aryan's trip from Delhi to Denmark, Germany, and New York, converted into Indian Rupees (INR).\"}, )\n",
      "[+31.800 s] RC.RUNNER   : INFO     - Notion Agentic Tool CREATED find_page Node - ({'query': 'Agent Demo Root'}, )\n",
      "[+33.026 s] RC.RUNNER   : INFO     - find_page Node DONE [PageProperties(id='1d71b3a3-98fd-80e3-bfc4-c4226c281833', title='Agent Demo Root')]\n",
      "[+34.354 s] RC.RUNNER   : INFO     - Notion Agentic Tool CREATED create_page Node - ({'properties': {'title': 'Aryan Travel Summary', 'parent_id': '1d71b3a3-98fd-80e3-bfc4-c4226c281833'}}, )\n",
      "[+34.630 s] RC.RUNNER   : INFO     - create_page Node DONE 1d81b3a3-98fd-81b3-bf2c-d0812033707f\n",
      "[+36.652 s] RC.RUNNER   : INFO     - Notion Agentic Tool CREATED add_block Node - ({'properties': {'page_id': '1d81b3a3-98fd-81b3-bf2c-d0812033707f', 'content': \"**Travel Budget Summary**\\n\\n- **Denmark**: 3 days\\n  - Average Cost: 750 EUR\\n  - Converted Cost: 73,500 INR\\n\\n- **Germany**: 2 days\\n  - Average Cost: 420 EUR\\n  - Converted Cost: 41,160 INR\\n\\n- **New York**: 4 days\\n  - Average Cost: 800 USD\\n  - Converted Cost: 66,400 INR\\n\\n**Total Estimated Cost in INR**: 181,060 INR\\n\\nThis summary provides an overview of the expected expenses for Aryan's trip from Delhi to Denmark, Germany, and New York, converted into Indian Rupees (INR).\"}}, )\n",
      "[+37.108 s] RC.RUNNER   : INFO     - add_block Node DONE None\n",
      "[+38.180 s] RC.RUNNER   : INFO     - Notion Agentic Tool DONE The page titled \"Aryan Travel Summary\" has been successfully created under the \"Agent Demo Root\" page, and the travel budget summary has been added.\n",
      "[+41.341 s] RC.RUNNER   : INFO     - Travel Agent DONE assistant: Your travel budget summary has been created and added to a Notion page titled \"Aryan Travel Summary\" under the \"Agent Demo Root\" page. Here's a quick overview of your trip expenses:\n",
      "\n",
      "### Travel Budget Summary\n",
      "\n",
      "- **Denmark**: 3 days\n",
      "  - Average Cost: 750 EUR\n",
      "  - Converted Cost: 73,500 INR\n",
      "\n",
      "- **Germany**: 2 days\n",
      "  - Average Cost: 420 EUR\n",
      "  - Converted Cost: 41,160 INR\n",
      "\n",
      "- **New York**: 4 days\n",
      "  - Average Cost: 800 USD\n",
      "  - Converted Cost: 66,400 INR\n",
      "\n",
      "**Total Estimated Cost in INR**: 181,060 INR\n",
      "\n",
      "This summary provides an overview of the expected expenses for your trip from Delhi to Denmark, Germany, and New York, converted into Indian Rupees (INR). Safe travels!\n"
     ]
    }
   ],
   "source": [
    "with rc.Runner() as runner:\n",
    "    result = await runner.run(TravelAgent, message_history=rc.llm.MessageHistory([rc.llm.UserMessage(USER_PROMPT)]))"
   ]
  },
  {
   "cell_type": "code",
   "execution_count": 9,
   "id": "d719427a",
   "metadata": {},
   "outputs": [],
   "source": [
    "viewer = AgentViewer(\n",
    "        stamps=result.all_stamps,\n",
    "        request_heap=result.request_heap,\n",
    "        node_heap=result.node_heap\n",
    "    )\n",
    "viewer.display_graph()"
   ]
  }
 ],
 "metadata": {
  "kernelspec": {
   "display_name": ".venv",
   "language": "python",
   "name": "python3"
  },
  "language_info": {
   "codemirror_mode": {
    "name": "ipython",
    "version": 3
   },
   "file_extension": ".py",
   "mimetype": "text/x-python",
   "name": "python",
   "nbconvert_exporter": "python",
   "pygments_lexer": "ipython3",
   "version": "3.10.11"
  }
 },
 "nbformat": 4,
 "nbformat_minor": 5
}
