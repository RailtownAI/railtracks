{
 "cells": [
  {
   "cell_type": "code",
   "execution_count": 1,
   "id": "d16967d3",
   "metadata": {},
   "outputs": [],
   "source": [
    "# all necessary requestcompletion imports \n",
    "import src.requestcompletion as rc\n",
    "from src.requestcompletion.llm import MessageHistory, UserMessage, SystemMessage\n",
    "from src.requestcompletion.visuals.agent_viewer import AgentViewer\n",
    "from src.requestcompletion.nodes.library import from_function"
   ]
  },
  {
   "cell_type": "markdown",
   "id": "270afa93",
   "metadata": {},
   "source": [
    "<img src=\"./assets/Telus-Symbol.png\" alt=\"Telus Symbol\" width=\"200\"/>\n",
    "\n",
    "## RC Demo: Customer Service Ticketing Agent + Notion:"
   ]
  },
  {
   "cell_type": "markdown",
   "id": "f0c5691d",
   "metadata": {},
   "source": [
    "In this demo we will demonstrate how to use RequestCompletion to built AI Agents and combine them to perrform complex tasks using just a few lines of code."
   ]
  },
  {
   "cell_type": "markdown",
   "id": "c109c77d",
   "metadata": {},
   "source": [
    "### Step 1: Import and use Notion Agent from sample_agents"
   ]
  },
  {
   "cell_type": "code",
   "execution_count": null,
   "id": "8ab8d248",
   "metadata": {},
   "outputs": [],
   "source": [
    "from demo.sample_agents import NotionAgent"
   ]
  },
  {
   "cell_type": "markdown",
   "id": "c3108d83",
   "metadata": {},
   "source": [
    "### Step 2: Invoke the agent 🚀"
   ]
  },
  {
   "cell_type": "code",
   "execution_count": null,
   "id": "f387a863",
   "metadata": {},
   "outputs": [],
   "source": [
    "USER_MESSAGE = UserMessage(\"Under the Telus Demo page, add a new page called 'RC is Awesome'. Inside that page write something awesome about RC.\")"
   ]
  },
  {
   "cell_type": "code",
   "execution_count": null,
   "id": "2f4ba83f",
   "metadata": {},
   "outputs": [],
   "source": [
    "message_history = MessageHistory([USER_MESSAGE])\n",
    "\n",
    "with rc.Runner() as runner1:\n",
    "    result = await runner1.run(NotionAgent, message_history)"
   ]
  },
  {
   "cell_type": "markdown",
   "id": "9f141743",
   "metadata": {},
   "source": [
    "we can also visualize the agent control flow"
   ]
  },
  {
   "cell_type": "code",
   "execution_count": null,
   "id": "e6b6d008",
   "metadata": {},
   "outputs": [],
   "source": [
    "viewer = AgentViewer(\n",
    "        stamps=result.all_stamps,\n",
    "        request_heap=result.request_heap,\n",
    "        node_heap=result.node_heap\n",
    "    )\n",
    "viewer.display_graph()"
   ]
  },
  {
   "cell_type": "markdown",
   "id": "45d54761",
   "metadata": {},
   "source": [
    "### Now lets build our own Agent for Telus"
   ]
  },
  {
   "cell_type": "markdown",
   "id": "cf636a39",
   "metadata": {},
   "source": [
    "We have some mock functions that we will give the Agent access to as tools."
   ]
  },
  {
   "cell_type": "code",
   "execution_count": null,
   "id": "3c37ee25",
   "metadata": {},
   "outputs": [],
   "source": [
    "from demo.sample_tools.telus_tools import check_network_status, analyze_call_volume, create_service_ticket, get_service_tickets\n",
    "from demo.sample_tools.notion_tools import NotionAgenticTool    # use the NotionAgent as a tool"
   ]
  },
  {
   "cell_type": "code",
   "execution_count": null,
   "id": "70a3608c",
   "metadata": {},
   "outputs": [],
   "source": [
    "# create mock data (telus Database)\n",
    "create_service_ticket(\"internet_outage\", \"Vancouver, BC\")\n",
    "create_service_ticket(\"billing\", \"Vancouver, BC\")\n",
    "create_service_ticket(\"device_support\", \"Langley, BC\")\n",
    "create_service_ticket(\"internet_outage\", \"Surrey, BC\")\n",
    "create_service_ticket(\"tv_service\", \"Vancouver, BC\")"
   ]
  },
  {
   "cell_type": "code",
   "execution_count": null,
   "id": "ff28e08a",
   "metadata": {},
   "outputs": [],
   "source": [
    "USER_MESSAGE = UserMessage(\"Analyze the call volume and network status for the Vancouver area this week.\" \\\n",
    "               \"Categorize the service tickets by issue type and create a summary page showing resolution times and identifying any recurring problems.\" \\\n",
    "               \"Give me an analysis page and a summary page. The notion root page is 'Telus Demo'.\")"
   ]
  },
  {
   "cell_type": "code",
   "execution_count": null,
   "id": "b5d580e5",
   "metadata": {},
   "outputs": [],
   "source": [
    "SYSTEM_TELUS = SystemMessage(\"You are a helpful Telus agent. You have access to the following tools: check_network_status,\" \\\n",
    "\"analyze_call_volume, create_service_ticket, get_service_tickets, and NotionTool. Your goal is to resolve the user's request as efficiently as possible.\" \\\n",
    "\"Today is April 25th 2025.\")"
   ]
  },
  {
   "cell_type": "code",
   "execution_count": null,
   "id": "f21f2811",
   "metadata": {},
   "outputs": [],
   "source": [
    "TelusTicketingAgent = rc.library.tool_call_llm(connected_nodes={from_function(check_network_status), \n",
    "                                                                from_function(analyze_call_volume),\n",
    "                                                                from_function(create_service_ticket),\n",
    "                                                                from_function(get_service_tickets),\n",
    "                                                                NotionAgenticTool},\n",
    "                                               pretty_name=\"Telus Ticket Analyzer\",\n",
    "                                               system_message= SYSTEM_TELUS,\n",
    "                                               model=rc.llm.OpenAILLM(\"gpt-4o\"),\n",
    "                                               )"
   ]
  },
  {
   "cell_type": "code",
   "execution_count": null,
   "id": "59abe641",
   "metadata": {},
   "outputs": [],
   "source": [
    "with rc.Runner(executor_config=rc.ExecutorConfig(timeout=50)) as runner2:\n",
    "    result = await runner2.run(TelusTicketingAgent, MessageHistory([UserMessage(USER_MESSAGE)]))"
   ]
  },
  {
   "cell_type": "code",
   "execution_count": null,
   "id": "347d75c4",
   "metadata": {},
   "outputs": [],
   "source": [
    "viewer = AgentViewer(\n",
    "        stamps=result.all_stamps,\n",
    "        request_heap=result.request_heap,\n",
    "        node_heap=result.node_heap\n",
    "    )\n",
    "viewer.display_graph()"
   ]
  }
 ],
 "metadata": {
  "kernelspec": {
   "display_name": ".venv",
   "language": "python",
   "name": "python3"
  },
  "language_info": {
   "codemirror_mode": {
    "name": "ipython",
    "version": 3
   },
   "file_extension": ".py",
   "mimetype": "text/x-python",
   "name": "python",
   "nbconvert_exporter": "python",
   "pygments_lexer": "ipython3",
   "version": "3.10.11"
  }
 },
 "nbformat": 4,
 "nbformat_minor": 5
}
