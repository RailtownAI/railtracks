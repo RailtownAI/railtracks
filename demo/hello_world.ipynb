{
 "cells": [
  {
   "cell_type": "code",
   "execution_count": 1,
   "id": "bfe078bf",
   "metadata": {},
   "outputs": [],
   "source": [
    "import os\n",
    "import sys\n",
    "notebook_dir = os.path.dirname(os.path.abspath('__file__'))\n",
    "import sys\n",
    "sys.path.append(\"../\")"
   ]
  },
  {
   "cell_type": "code",
   "execution_count": 2,
   "id": "77f6291b",
   "metadata": {},
   "outputs": [],
   "source": [
    "import sys\n",
    "sys.path.append(\"../\")\n",
    "from typing import Any, Dict\n",
    "import src.requestcompletion as rc\n",
    "from src.requestcompletion.llm import MessageHistory, UserMessage\n",
    "from src.requestcompletion.visuals.agent_viewer import AgentViewer\n",
    "from src.requestcompletion.nodes.library import from_function"
   ]
  },
  {
   "cell_type": "code",
   "execution_count": 3,
   "id": "41a5797b",
   "metadata": {},
   "outputs": [],
   "source": [
    "from demo.sample_tools.word_tools import check_chars\n",
    "\n",
    "class CheckAgenticTool(rc.library.ToolCallLLM):\n",
    "    def __init__(self, message_history: MessageHistory):\n",
    "        super().__init__(message_history=message_history, \n",
    "                         model=rc.llm.OpenAILLM(\"gpt-4o\"),  # or any other model you want to use\n",
    "                         )\n",
    "\n",
    "    # define a set of tools that the agent can use\n",
    "    def connected_nodes(self):  \n",
    "        return {\n",
    "            from_function(check_chars)\n",
    "            }\n",
    "    \n",
    "    # =================== If this node is a tool, then it needs to implement the following ==================\n",
    "    @classmethod\n",
    "    def tool_info(cls) -> rc.llm.Tool:\n",
    "        return rc.llm.Tool(\n",
    "            name=\"CheckAgenticTool\",\n",
    "            detail=\"Check chars\",\n",
    "            parameters={rc.llm.Parameter(name=\"check_chars_request\", param_type=\"string\", description=\"The detailed task prompt for the task to be completed.\")},\n",
    "        )\n",
    "\n",
    "    @classmethod\n",
    "    def prepare_tool(cls, tool_parameters: Dict[str, Any]):\n",
    "        message_hist = MessageHistory(\n",
    "            [UserMessage(f\"Request Prompt: '{tool_parameters['check_chars_request']}'\")]\n",
    "        )\n",
    "        return cls(message_hist)\n",
    "    # ===========================================================================================================\n",
    "\n",
    "    @classmethod\n",
    "    def pretty_name(cls) -> str:\n",
    "        return \"Check Agentic Tool\"\n",
    "\n"
   ]
  },
  {
   "cell_type": "code",
   "execution_count": 4,
   "id": "8f8dc443",
   "metadata": {},
   "outputs": [],
   "source": [
    "# Import (or write) the functions that we want to give to the agent as tools\n",
    "from demo.sample_tools.word_tools import check_chars\n",
    "word_check_node = rc.library.from_function(check_chars)\n",
    " "
   ]
  },
  {
   "cell_type": "code",
   "execution_count": 5,
   "id": "768f351e",
   "metadata": {},
   "outputs": [],
   "source": [
    "WordAgent = rc.library.tool_call_llm(\n",
    "    connected_nodes={\n",
    "        word_check_node\n",
    "    },\n",
    "    pretty_name=\"Word Agent\",\n",
    "    system_message=rc.llm.SystemMessage(\n",
    "        \"You are a helpful ai that counts the occurence of certain charactes in words given to you. You will have access to WordCheckNode and should always use this.\"\n",
    "    ),\n",
    "    model=rc.llm.OpenAILLM(\"gpt-4o\"),  # you can use any model you want\n",
    ")"
   ]
  },
  {
   "cell_type": "code",
   "execution_count": 6,
   "id": "874abd57",
   "metadata": {},
   "outputs": [],
   "source": [
    "USER_PROMPT = \"The number of r's in Strawberry\""
   ]
  },
  {
   "cell_type": "code",
   "execution_count": 7,
   "id": "d09de0fa",
   "metadata": {},
   "outputs": [
    {
     "name": "stderr",
     "output_type": "stream",
     "text": [
      "[+21.961 s] RC.RUNNER   : INFO     - START CREATED Word Agent - (, message_history=user: The number of r's in Strawberry)\n",
      "[+23.540 s] RC.RUNNER   : INFO     - Word Agent CREATED check_chars Node - ({'input': 'Strawberry', 'char': 'r'}, )\n",
      "[+23.541 s] RC.RUNNER   : INFO     - check_chars Node DONE 3\n",
      "[+24.476 s] RC.RUNNER   : INFO     - Word Agent DONE assistant: The word \"Strawberry\" contains 3 instances of the letter 'r'.\n"
     ]
    }
   ],
   "source": [
    "\n",
    "with rc.Runner(executor_config=rc.ExecutorConfig(timeout=50)) as runner:\n",
    "    result = await runner.run(WordAgent, message_history=MessageHistory([UserMessage(USER_PROMPT)]))\n",
    "# async def top_level_node(user_prompt: str):\n",
    "    \n",
    "#     result = await rc.call(WordAgent, message_history=MessageHistory([UserMessage(user_prompt)]))\n",
    "\n",
    "# VoiceNotionAgent = from_function(top_level_node(USER_PROMPT))"
   ]
  }
 ],
 "metadata": {
  "kernelspec": {
   "display_name": ".venv",
   "language": "python",
   "name": "python3"
  },
  "language_info": {
   "codemirror_mode": {
    "name": "ipython",
    "version": 3
   },
   "file_extension": ".py",
   "mimetype": "text/x-python",
   "name": "python",
   "nbconvert_exporter": "python",
   "pygments_lexer": "ipython3",
   "version": "3.10.11"
  }
 },
 "nbformat": 4,
 "nbformat_minor": 5
}
