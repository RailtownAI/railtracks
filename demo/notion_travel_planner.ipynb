{
 "cells": [
  {
   "cell_type": "code",
   "execution_count": 1,
   "id": "9898ad62",
   "metadata": {},
   "outputs": [],
   "source": [
    "from typing import Any, Dict\n",
    "from examples.sample_agents import NotionAgent\n",
    "import src.requestcompletion as rc\n",
    "from src.requestcompletion.llm import MessageHistory, UserMessage\n",
    "from src.requestcompletion.visuals.agent_viewer import AgentViewer\n",
    "from src.requestcompletion.nodes.library import from_function"
   ]
  },
  {
   "cell_type": "markdown",
   "id": "9b3586be",
   "metadata": {},
   "source": [
    "## Travel Planner Agent"
   ]
  },
  {
   "cell_type": "markdown",
   "id": "8a231816",
   "metadata": {},
   "source": [
    "We will make a travel planning agent that can help you plan your next trip. We will make a NotionAgent and provide the notion agent as a tool to the travel planning agent. \n",
    "\n",
    "First, we will create a NotionAgent that can help us create a new page, add a block to it, find a page, and find and tag a user."
   ]
  },
  {
   "cell_type": "markdown",
   "id": "daf1d92e",
   "metadata": {},
   "source": [
    "### Step 1: Creating the NotionAgentTool node"
   ]
  },
  {
   "cell_type": "code",
   "execution_count": 2,
   "id": "e1f5c48c",
   "metadata": {},
   "outputs": [],
   "source": [
    "# Importing all functions that the notion_agent can invoke\n",
    "from demo.sample_tools.notion_tools import find_page, create_page, add_block, find_user, tag_user"
   ]
  },
  {
   "cell_type": "code",
   "execution_count": 3,
   "id": "f9f779d4",
   "metadata": {},
   "outputs": [],
   "source": [
    "# Making a tool_calling_llm using the inherited class implementation for demo. \n",
    "# We can use easy_wrappers as well (further down)\n",
    "class NotionAgenticTool(rc.library.ToolCallLLM):\n",
    "    def __init__(self, message_history: MessageHistory):\n",
    "        super().__init__(message_history=message_history, \n",
    "                         model=rc.llm.OpenAILLM(\"gpt-4o\"),  # or any other model you want to use\n",
    "                         )\n",
    "\n",
    "    # define a set of tools that the agent can use\n",
    "    def connected_nodes(self):  \n",
    "        return {\n",
    "            from_function(find_page),   # make a node from a function in one line 🥰\n",
    "            from_function(create_page),\n",
    "            from_function(add_block),\n",
    "            from_function(find_user),\n",
    "            from_function(tag_user),\n",
    "            }\n",
    "    \n",
    "    # =================== If this node is a tool, then it needs to implement the following ==================\n",
    "    @classmethod\n",
    "    def tool_info(cls) -> rc.llm.Tool:\n",
    "        return rc.llm.Tool(\n",
    "            name=\"NotionAgenticTool\",\n",
    "            detail=\"A notion tool that can find pages, create pages, add blocks, find users, and tag users.\",\n",
    "            parameters={rc.llm.Parameter(name=\"notion_task_request\", param_type=\"string\", description=\"The detailed task prompt for the task to be completed.\")},\n",
    "        )\n",
    "\n",
    "    @classmethod\n",
    "    def prepare_tool(cls, tool_parameters: Dict[str, Any]):\n",
    "        message_hist = MessageHistory(\n",
    "            [UserMessage(f\"Request Prompt: '{tool_parameters['notion_task_request']}'\")]\n",
    "        )\n",
    "        return cls(message_hist)\n",
    "    # ===========================================================================================================\n",
    "\n",
    "    @classmethod\n",
    "    def pretty_name(cls) -> str:\n",
    "        return \"Notion Agentic Tool\"\n"
   ]
  },
  {
   "cell_type": "markdown",
   "id": "23234fed",
   "metadata": {},
   "source": [
    "### Step 2: Make the TravelAgent tool_calling node and give it all the tools"
   ]
  },
  {
   "cell_type": "code",
   "execution_count": 4,
   "id": "8e3963b7",
   "metadata": {},
   "outputs": [],
   "source": [
    "# Import (or write) the functions that we want to give to the agent as tools\n",
    "from demo.sample_tools.travel_planning_tools import available_locations, currency_used, average_location_cost, convert_currency\n",
    "convert_currency_node = rc.library.from_function(convert_currency)\n",
    "available_locations_node = rc.library.from_function(available_locations)\n",
    "currency_used_node = rc.library.from_function(currency_used)\n",
    "average_location_cost_node = rc.library.from_function(average_location_cost)    "
   ]
  },
  {
   "cell_type": "code",
   "execution_count": 5,
   "id": "1653ef53",
   "metadata": {},
   "outputs": [],
   "source": [
    "# making an Agent (tool_calling_llm) using easy_usage_wrapper\n",
    "TravelAgentNode = rc.library.tool_call_llm(\n",
    "    connected_nodes={\n",
    "        convert_currency_node,\n",
    "        available_locations_node,\n",
    "        currency_used_node,\n",
    "        average_location_cost_node,\n",
    "        NotionAgenticTool,\n",
    "    },\n",
    "    pretty_name=\"Travel Agent\",\n",
    "    system_message=rc.llm.SystemMessage(\n",
    "        \"You are a travel planner that will plan a trip. you have access to AvailableLocations, ConvertCurrency, CurrencyUsed, AverageLocationCost and NotionAgenticTool tools. Use them when you need to.\"\n",
    "    ),\n",
    "    model=rc.llm.OpenAILLM(\"gpt-4o\"),  # you can use any model you want\n",
    ")"
   ]
  },
  {
   "cell_type": "markdown",
   "id": "dbff63df",
   "metadata": {},
   "source": [
    "### Step 3: Invoke the Agent with the User Input"
   ]
  },
  {
   "cell_type": "code",
   "execution_count": null,
   "id": "c9c00386",
   "metadata": {},
   "outputs": [],
   "source": [
    "USER_PROMPT = \"I live in Vancouver. I am going to travel to Denmark for 3 days, followed by Germany for 2 days and finally New York for 4 days. Please provide me with a budget summary for the trip in CAD.\" \\\n",
    "\"Please make a notion page called Aryan Travel Summary under the page 'Agent Demo Root' and write my travel summary in it.\""
   ]
  },
  {
   "cell_type": "code",
   "execution_count": 7,
   "id": "19e75687",
   "metadata": {},
   "outputs": [
    {
     "name": "stderr",
     "output_type": "stream",
     "text": [
      "[+2.789  s] RC.RUNNER   : INFO     - START CREATED Travel Agent - (, message_history=user: I live in Vancouver. I am going to travel to Denmark for 3 days, followed by Germany for 2 days and finally New York for 4 days. Please provide me with a budget summary for the trip in CAD. Please make a notion page called Amir Travel Summary under the page 'Agent Demo Root' and write my travel summary in it.)\n",
      "[+3.667  s] RC.RUNNER   : INFO     - Travel Agent CREATED available_locations Node - ({}, )\n",
      "[+3.667  s] RC.RUNNER   : INFO     - available_locations Node DONE ['New York', 'Los Angeles', 'Chicago', 'Delhi', 'Mumbai', 'Bangalore', 'Paris', 'Denmark', 'Sweden', 'Norway', 'Germany', 'Vancouver', 'Toronto']\n",
      "[+6.217  s] RC.RUNNER   : INFO     - Travel Agent CREATED currency_used Node - ({'location': 'Denmark'}, )\n",
      "[+6.217  s] RC.RUNNER   : INFO     - currency_used Node DONE EUR\n",
      "[+7.108  s] RC.RUNNER   : INFO     - Travel Agent CREATED currency_used Node - ({'location': 'Germany'}, )\n",
      "[+7.108  s] RC.RUNNER   : INFO     - currency_used Node DONE EUR\n",
      "[+8.120  s] RC.RUNNER   : INFO     - Travel Agent CREATED currency_used Node - ({'location': 'New York'}, )\n",
      "[+8.122  s] RC.RUNNER   : INFO     - currency_used Node DONE USD\n",
      "[+10.033 s] RC.RUNNER   : INFO     - Travel Agent CREATED average_location_cost Node - ({'location': 'Denmark', 'num_days': 3}, )\n",
      "[+10.033 s] RC.RUNNER   : INFO     - average_location_cost Node DONE 750.0\n",
      "[+10.917 s] RC.RUNNER   : INFO     - Travel Agent CREATED average_location_cost Node - ({'location': 'Germany', 'num_days': 2}, )\n",
      "[+10.917 s] RC.RUNNER   : INFO     - average_location_cost Node DONE 420.0\n",
      "[+12.014 s] RC.RUNNER   : INFO     - Travel Agent CREATED average_location_cost Node - ({'location': 'New York', 'num_days': 4}, )\n",
      "[+12.015 s] RC.RUNNER   : INFO     - average_location_cost Node DONE 800.0\n",
      "[+13.716 s] RC.RUNNER   : INFO     - Travel Agent CREATED convert_currency Node - ({'from_currency': 'EUR', 'amount': 750, 'to_currency': 'CAD'}, )\n",
      "[+13.716 s] RC.RUNNER   : INFO     - convert_currency Node DONE 1140.0\n",
      "[+14.612 s] RC.RUNNER   : INFO     - Travel Agent CREATED convert_currency Node - ({'from_currency': 'EUR', 'amount': 420, 'to_currency': 'CAD'}, )\n",
      "[+14.612 s] RC.RUNNER   : INFO     - convert_currency Node DONE 638.4\n",
      "[+15.853 s] RC.RUNNER   : INFO     - Travel Agent CREATED convert_currency Node - ({'from_currency': 'USD', 'amount': 800, 'to_currency': 'CAD'}, )\n",
      "[+15.853 s] RC.RUNNER   : INFO     - convert_currency Node DONE 1024.0\n",
      "[+20.586 s] RC.RUNNER   : INFO     - Travel Agent CREATED Notion Agentic Tool - ({'notion_task_request': \"Create a page titled 'Amir Travel Summary' under the page 'Agent Demo Root'. Include the following travel budget summary:\\n\\n**Travel Budget Summary**\\n\\n- **Denmark (3 days):**\\n  - Average Cost: 750 EUR\\n  - Converted to CAD: 1140 CAD\\n\\n- **Germany (2 days):**\\n  - Average Cost: 420 EUR\\n  - Converted to CAD: 638.4 CAD\\n\\n- **New York (4 days):**\\n  - Average Cost: 800 USD\\n  - Converted to CAD: 1024 CAD\\n\\n**Total Estimated Cost in CAD:**\\n- Denmark: 1140 CAD\\n- Germany: 638.4 CAD\\n- New York: 1024 CAD\\n- **Total: 2802.4 CAD**\"}, )\n",
      "[+21.382 s] RC.RUNNER   : INFO     - Notion Agentic Tool CREATED find_page Node - ({'query': 'Agent Demo Root'}, )\n",
      "[+21.701 s] RC.RUNNER   : INFO     - find_page Node DONE [PageProperties(id='1d71b3a3-98fd-80e3-bfc4-c4226c281833', title='Agent Demo Root')]\n",
      "[+22.763 s] RC.RUNNER   : INFO     - Notion Agentic Tool CREATED create_page Node - ({'properties': {'parent_id': '1d71b3a3-98fd-80e3-bfc4-c4226c281833', 'title': 'Amir Travel Summary'}}, )\n",
      "[+22.983 s] RC.RUNNER   : INFO     - create_page Node DONE 1dd1b3a3-98fd-817e-8b91-cf65e0b8696d\n",
      "[+26.120 s] RC.RUNNER   : INFO     - Notion Agentic Tool CREATED add_block Node - ({'properties': {'content': '**Travel Budget Summary**\\n\\n- **Denmark (3 days):**\\n  - Average Cost: 750 EUR\\n  - Converted to CAD: 1140 CAD\\n\\n- **Germany (2 days):**\\n  - Average Cost: 420 EUR\\n  - Converted to CAD: 638.4 CAD\\n\\n- **New York (4 days):**\\n  - Average Cost: 800 USD\\n  - Converted to CAD: 1024 CAD\\n\\n**Total Estimated Cost in CAD:**\\n- Denmark: 1140 CAD\\n- Germany: 638.4 CAD\\n- New York: 1024 CAD\\n- **Total: 2802.4 CAD**', 'page_id': '1dd1b3a3-98fd-817e-8b91-cf65e0b8696d'}}, )\n",
      "[+26.817 s] RC.RUNNER   : INFO     - add_block Node DONE None\n",
      "[+27.636 s] RC.RUNNER   : INFO     - Notion Agentic Tool DONE The page titled \"Amir Travel Summary\" has been created under the \"Agent Demo Root\" page, and the travel budget summary has been added successfully.\n",
      "[+32.001 s] RC.RUNNER   : INFO     - Travel Agent DONE assistant: Your travel budget summary has been created and added to a Notion page titled \"Amir Travel Summary\" under the \"Agent Demo Root\" page. Here's a quick overview of your travel budget:\n",
      "\n",
      "**Travel Budget Summary**\n",
      "\n",
      "- **Denmark (3 days):**\n",
      "  - Average Cost: 750 EUR\n",
      "  - Converted to CAD: 1140 CAD\n",
      "\n",
      "- **Germany (2 days):**\n",
      "  - Average Cost: 420 EUR\n",
      "  - Converted to CAD: 638.4 CAD\n",
      "\n",
      "- **New York (4 days):**\n",
      "  - Average Cost: 800 USD\n",
      "  - Converted to CAD: 1024 CAD\n",
      "\n",
      "**Total Estimated Cost in CAD:**\n",
      "- Denmark: 1140 CAD\n",
      "- Germany: 638.4 CAD\n",
      "- New York: 1024 CAD\n",
      "- **Total: 2802.4 CAD**\n",
      "\n",
      "Safe travels! If you need further assistance, feel free to ask.\n"
     ]
    }
   ],
   "source": [
    "with rc.Runner(executor_config=rc.ExecutorConfig(timeout=50)) as runner:\n",
    "    result = await runner.run(TravelAgentNode, message_history=MessageHistory([UserMessage(USER_PROMPT)]))"
   ]
  },
  {
   "cell_type": "markdown",
   "id": "97180874",
   "metadata": {},
   "source": [
    "### Additional: Graphical representation of the nodes and the flow of data"
   ]
  },
  {
   "cell_type": "code",
   "execution_count": 8,
   "id": "d719427a",
   "metadata": {},
   "outputs": [],
   "source": [
    "viewer = AgentViewer(\n",
    "        stamps=result.all_stamps,\n",
    "        request_heap=result.request_heap,\n",
    "        node_heap=result.node_heap\n",
    "    )\n",
    "viewer.display_graph()"
   ]
  }
 ],
 "metadata": {
  "kernelspec": {
   "display_name": ".venv",
   "language": "python",
   "name": "python3"
  },
  "language_info": {
   "codemirror_mode": {
    "name": "ipython",
    "version": 3
   },
   "file_extension": ".py",
   "mimetype": "text/x-python",
   "name": "python",
   "nbconvert_exporter": "python",
   "pygments_lexer": "ipython3",
   "version": "3.10.11"
  }
 },
 "nbformat": 4,
 "nbformat_minor": 5
}
